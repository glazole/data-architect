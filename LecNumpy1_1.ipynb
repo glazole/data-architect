{
  "cells": [
    {
      "cell_type": "markdown",
      "source": [
        "---\n",
        "\n",
        "# Введение в NumPy\n"
      ],
      "metadata": {
        "collapsed": false,
        "id": "nCBOysUWFBby"
      }
    },
    {
      "cell_type": "markdown",
      "source": [
        "---\n",
        "\n",
        "## 1 | Одномерные массивы"
      ],
      "metadata": {
        "collapsed": false,
        "id": "9s-MB5wNFBbz"
      }
    },
    {
      "cell_type": "markdown",
      "source": [
        "Импортируем $\\mathsf{numpy}$:"
      ],
      "metadata": {
        "collapsed": false,
        "id": "oyMU2ghiFBbz"
      }
    },
    {
      "cell_type": "code",
      "execution_count": 1,
      "outputs": [],
      "source": [
        "import numpy as np"
      ],
      "metadata": {
        "id": "xzGvCKYFFBb0"
      }
    },
    {
      "cell_type": "markdown",
      "source": [
        "---\n",
        "\n",
        "### 1.1 | Способы инициализации"
      ],
      "metadata": {
        "collapsed": false,
        "id": "wK8aywhkFBb0"
      }
    },
    {
      "cell_type": "markdown",
      "source": [
        "---\n",
        "\n",
        "Инициализация $\\mathsf{np.array}$ помощью $\\mathsf{list}$:"
      ],
      "metadata": {
        "collapsed": false,
        "id": "0E09lVJdFBb0"
      }
    },
    {
      "cell_type": "code",
      "execution_count": 2,
      "outputs": [
        {
          "output_type": "execute_result",
          "data": {
            "text/plain": [
              "[1, 4, 9]"
            ]
          },
          "metadata": {},
          "execution_count": 2
        }
      ],
      "source": [
        "[1, 4, 9]"
      ],
      "metadata": {
        "colab": {
          "base_uri": "https://localhost:8080/"
        },
        "id": "AC21D6DyFBb1",
        "outputId": "dab85054-c01f-417c-b02f-775b71100770"
      }
    },
    {
      "cell_type": "code",
      "source": [
        "np.array([1, 4, 9])"
      ],
      "metadata": {
        "colab": {
          "base_uri": "https://localhost:8080/"
        },
        "id": "aVysCtA7HtNv",
        "outputId": "a1881ad6-3ec5-421c-d8ed-d4ba82561b16"
      },
      "execution_count": 3,
      "outputs": [
        {
          "output_type": "execute_result",
          "data": {
            "text/plain": [
              "array([1, 4, 9])"
            ]
          },
          "metadata": {},
          "execution_count": 3
        }
      ]
    },
    {
      "cell_type": "code",
      "source": [
        "type([1, 4, 9])"
      ],
      "metadata": {
        "colab": {
          "base_uri": "https://localhost:8080/"
        },
        "id": "3-pH99g5H1bH",
        "outputId": "fd3dd119-858a-4f75-bd69-dd48c11ead20"
      },
      "execution_count": 4,
      "outputs": [
        {
          "output_type": "execute_result",
          "data": {
            "text/plain": [
              "list"
            ]
          },
          "metadata": {},
          "execution_count": 4
        }
      ]
    },
    {
      "cell_type": "code",
      "source": [
        "type(np.array([1, 4, 9]))"
      ],
      "metadata": {
        "colab": {
          "base_uri": "https://localhost:8080/"
        },
        "id": "ZtaLDsKlH4EQ",
        "outputId": "67d8bee4-6a2b-4c48-9014-d7284571a7c7"
      },
      "execution_count": 5,
      "outputs": [
        {
          "output_type": "execute_result",
          "data": {
            "text/plain": [
              "numpy.ndarray"
            ]
          },
          "metadata": {},
          "execution_count": 5
        }
      ]
    },
    {
      "cell_type": "markdown",
      "source": [
        "---\n",
        "\n",
        "С помощью встроенных функций $\\mathsf{zeros}$, $\\mathsf{ones}$ и $\\mathsf{empty}$:"
      ],
      "metadata": {
        "collapsed": false,
        "id": "rlotH52uFBb1"
      }
    },
    {
      "cell_type": "code",
      "execution_count": 6,
      "outputs": [
        {
          "output_type": "execute_result",
          "data": {
            "text/plain": [
              "array([0., 0., 0., 0.])"
            ]
          },
          "metadata": {},
          "execution_count": 6
        }
      ],
      "source": [
        "np.zeros(4) # Заполняет нулями"
      ],
      "metadata": {
        "colab": {
          "base_uri": "https://localhost:8080/"
        },
        "id": "-YBEMpONFBb2",
        "outputId": "d1a02d47-50b9-4497-f145-e4f4d4be262b"
      }
    },
    {
      "cell_type": "code",
      "execution_count": 7,
      "outputs": [
        {
          "output_type": "execute_result",
          "data": {
            "text/plain": [
              "array([1., 1., 1.])"
            ]
          },
          "metadata": {},
          "execution_count": 7
        }
      ],
      "source": [
        "np.ones(3) # Заполняет единицами"
      ],
      "metadata": {
        "colab": {
          "base_uri": "https://localhost:8080/"
        },
        "id": "J_z7GbeMFBb2",
        "outputId": "6393166d-f784-4428-f44f-7bd420df87ba"
      }
    },
    {
      "cell_type": "code",
      "execution_count": 8,
      "outputs": [
        {
          "output_type": "execute_result",
          "data": {
            "text/plain": [
              "array([-5.73021895e-300,  6.92143851e-310])"
            ]
          },
          "metadata": {},
          "execution_count": 8
        }
      ],
      "source": [
        "np.empty(2) # Заполняет память и выдает случайные значения"
      ],
      "metadata": {
        "colab": {
          "base_uri": "https://localhost:8080/"
        },
        "id": "yxc1ABQRFBb2",
        "outputId": "3a967998-bc9b-4e63-a640-ffa550204768"
      }
    },
    {
      "cell_type": "markdown",
      "source": [
        "---\n",
        "\n",
        "Функции $\\mathsf{np.arange}$ и $\\mathsf{np.linspace}$:"
      ],
      "metadata": {
        "collapsed": false,
        "id": "typRRnjjFBb2"
      }
    },
    {
      "cell_type": "code",
      "execution_count": 9,
      "outputs": [
        {
          "output_type": "execute_result",
          "data": {
            "text/plain": [
              "array([0, 2, 4, 6, 8])"
            ]
          },
          "metadata": {},
          "execution_count": 9
        }
      ],
      "source": [
        "np.arange(0, 9, 2)"
      ],
      "metadata": {
        "id": "GFx_6loMFBb3",
        "outputId": "314af42b-bd02-4bca-e9b8-286b9a3a40bf",
        "colab": {
          "base_uri": "https://localhost:8080/"
        }
      }
    },
    {
      "cell_type": "code",
      "source": [
        "np.arange(0, 9, 3)"
      ],
      "metadata": {
        "id": "bgla-7zBOdmt",
        "outputId": "ad783bd2-3ce2-49d9-bf6f-29eda24b9ea9",
        "colab": {
          "base_uri": "https://localhost:8080/"
        }
      },
      "execution_count": 10,
      "outputs": [
        {
          "output_type": "execute_result",
          "data": {
            "text/plain": [
              "array([0, 3, 6])"
            ]
          },
          "metadata": {},
          "execution_count": 10
        }
      ]
    },
    {
      "cell_type": "code",
      "execution_count": 11,
      "outputs": [
        {
          "output_type": "execute_result",
          "data": {
            "text/plain": [
              "array([ 0. ,  2.5,  5. ,  7.5, 10. ])"
            ]
          },
          "metadata": {},
          "execution_count": 11
        }
      ],
      "source": [
        "np.linspace(0, 10, num=5)"
      ],
      "metadata": {
        "id": "9o_BPS93FBb3",
        "outputId": "27eed7c3-d3ef-45f9-99be-0c577de5a113",
        "colab": {
          "base_uri": "https://localhost:8080/"
        }
      }
    },
    {
      "cell_type": "markdown",
      "source": [
        "---\n",
        "\n",
        "При инициализации данных мы можем явно задавать тип:"
      ],
      "metadata": {
        "collapsed": false,
        "id": "ZrUi-jRKFBb3"
      }
    },
    {
      "cell_type": "code",
      "execution_count": 12,
      "outputs": [
        {
          "output_type": "execute_result",
          "data": {
            "text/plain": [
              "array([1., 1., 1., 1.])"
            ]
          },
          "metadata": {},
          "execution_count": 12
        }
      ],
      "source": [
        "np.ones(4)"
      ],
      "metadata": {
        "id": "R2D7IXyZFBb3",
        "outputId": "4d3799ba-d4c7-41bd-a957-8644a58a61db",
        "colab": {
          "base_uri": "https://localhost:8080/"
        }
      }
    },
    {
      "cell_type": "code",
      "execution_count": 13,
      "outputs": [
        {
          "output_type": "execute_result",
          "data": {
            "text/plain": [
              "array([1, 1, 1, 1])"
            ]
          },
          "metadata": {},
          "execution_count": 13
        }
      ],
      "source": [
        "np.ones(4, dtype=np.int64)"
      ],
      "metadata": {
        "id": "AFnUJXTGFBb3",
        "outputId": "4783499a-5356-4a6d-af01-b5044802f427",
        "colab": {
          "base_uri": "https://localhost:8080/"
        }
      }
    },
    {
      "cell_type": "markdown",
      "source": [
        "---\n",
        "\n",
        "### 1.2 | Основной функционал"
      ],
      "metadata": {
        "collapsed": false,
        "id": "PxYvrd5eFBb4"
      }
    },
    {
      "cell_type": "markdown",
      "source": [
        "---\n",
        "\n",
        "Можно удалять и добавлять элементы с помощью функций $\\mathsf{np.delete}$ и $\\mathsf{np.append}$:"
      ],
      "metadata": {
        "collapsed": false,
        "id": "22Ryro4zFBb4"
      }
    },
    {
      "cell_type": "code",
      "execution_count": 14,
      "outputs": [
        {
          "output_type": "execute_result",
          "data": {
            "text/plain": [
              "array([ 1,  3,  9,  0, 16])"
            ]
          },
          "metadata": {},
          "execution_count": 14
        }
      ],
      "source": [
        "arr = np.array([1, 3, 9, 0])\n",
        "np.append(arr, 16) # Добавление одного элемента"
      ],
      "metadata": {
        "id": "wSnq94frFBb4",
        "outputId": "23444959-17f8-4178-8b4e-9b15612dab33",
        "colab": {
          "base_uri": "https://localhost:8080/"
        }
      }
    },
    {
      "cell_type": "code",
      "execution_count": 15,
      "outputs": [
        {
          "output_type": "execute_result",
          "data": {
            "text/plain": [
              "array([ 1,  3,  9,  0, 16, 25])"
            ]
          },
          "metadata": {},
          "execution_count": 15
        }
      ],
      "source": [
        "np.append(arr, [16, 25]) # Нескольких"
      ],
      "metadata": {
        "id": "BSA4gXOCFBb4",
        "outputId": "ad96e76d-4878-4150-d9e0-3f37b40486cc",
        "colab": {
          "base_uri": "https://localhost:8080/"
        }
      }
    },
    {
      "cell_type": "code",
      "source": [
        "arr"
      ],
      "metadata": {
        "colab": {
          "base_uri": "https://localhost:8080/"
        },
        "id": "buHX900Hir2d",
        "outputId": "dddb4660-d24c-439b-df1f-963bc7b8b848"
      },
      "execution_count": 16,
      "outputs": [
        {
          "output_type": "execute_result",
          "data": {
            "text/plain": [
              "array([1, 3, 9, 0])"
            ]
          },
          "metadata": {},
          "execution_count": 16
        }
      ]
    },
    {
      "cell_type": "code",
      "execution_count": 17,
      "outputs": [
        {
          "output_type": "execute_result",
          "data": {
            "text/plain": [
              "array([3, 9, 0])"
            ]
          },
          "metadata": {},
          "execution_count": 17
        }
      ],
      "source": [
        "np.delete(arr, 0) # Удаление 0-вого по индексу элемента"
      ],
      "metadata": {
        "id": "iG-znYIpFBb4",
        "outputId": "ed561949-0071-490e-9d42-a047953f078e",
        "colab": {
          "base_uri": "https://localhost:8080/"
        }
      }
    },
    {
      "cell_type": "code",
      "execution_count": 18,
      "outputs": [
        {
          "output_type": "execute_result",
          "data": {
            "text/plain": [
              "array([9, 0])"
            ]
          },
          "metadata": {},
          "execution_count": 18
        }
      ],
      "source": [
        "np.delete(arr, [0, 1], axis=None) # Нескольких"
      ],
      "metadata": {
        "id": "5GfRLJuNFBb5",
        "outputId": "ec16dcae-0840-47c1-89a1-dd6705b290ad",
        "colab": {
          "base_uri": "https://localhost:8080/"
        }
      }
    },
    {
      "cell_type": "code",
      "source": [
        "arr"
      ],
      "metadata": {
        "colab": {
          "base_uri": "https://localhost:8080/"
        },
        "id": "Pg76SkmxjTgv",
        "outputId": "47160b95-98c4-439f-ac45-9308c6542c18"
      },
      "execution_count": 19,
      "outputs": [
        {
          "output_type": "execute_result",
          "data": {
            "text/plain": [
              "array([1, 3, 9, 0])"
            ]
          },
          "metadata": {},
          "execution_count": 19
        }
      ]
    },
    {
      "cell_type": "markdown",
      "source": [
        "---\n",
        "\n",
        "Массивы также можно сортировать с помощью функции $\\mathsf{np.sort}$:"
      ],
      "metadata": {
        "collapsed": false,
        "id": "QCu1Wf34FBb5"
      }
    },
    {
      "cell_type": "code",
      "execution_count": 20,
      "outputs": [
        {
          "output_type": "execute_result",
          "data": {
            "text/plain": [
              "array([0, 1, 3, 9])"
            ]
          },
          "metadata": {},
          "execution_count": 20
        }
      ],
      "source": [
        "np.sort(arr)"
      ],
      "metadata": {
        "id": "e5nZ6ooIFBb5",
        "outputId": "f1746bf4-4bd5-4daa-8943-f9448b4dc694",
        "colab": {
          "base_uri": "https://localhost:8080/"
        }
      }
    },
    {
      "cell_type": "code",
      "source": [
        "arr"
      ],
      "metadata": {
        "colab": {
          "base_uri": "https://localhost:8080/"
        },
        "id": "tKtl5YctjXMR",
        "outputId": "f08910c5-8bc3-468e-a1ba-9804f97c1bef"
      },
      "execution_count": 21,
      "outputs": [
        {
          "output_type": "execute_result",
          "data": {
            "text/plain": [
              "array([1, 3, 9, 0])"
            ]
          },
          "metadata": {},
          "execution_count": 21
        }
      ]
    },
    {
      "cell_type": "markdown",
      "source": [
        "---\n",
        "\n",
        "Массивы можно конкатенировать между собой с помощью $\\mathsf{np.concatenate}$:"
      ],
      "metadata": {
        "collapsed": false,
        "id": "KpOn0MIiFBb5"
      }
    },
    {
      "cell_type": "code",
      "execution_count": 22,
      "outputs": [
        {
          "output_type": "execute_result",
          "data": {
            "text/plain": [
              "array([ 1,  4,  9, 16, 25, 36])"
            ]
          },
          "metadata": {},
          "execution_count": 22
        }
      ],
      "source": [
        "a = np.array([1, 4])\n",
        "b = np.array([9, 16])\n",
        "c = np.array([25, 36])\n",
        "\n",
        "np.concatenate((a, b, c))"
      ],
      "metadata": {
        "id": "zGqyr2EsFBb5",
        "outputId": "4fa45441-4825-4c49-dceb-5cc132c3acbe",
        "colab": {
          "base_uri": "https://localhost:8080/"
        }
      }
    },
    {
      "cell_type": "code",
      "source": [
        "a, b, c"
      ],
      "metadata": {
        "colab": {
          "base_uri": "https://localhost:8080/"
        },
        "id": "zLADj44FjcCT",
        "outputId": "7ad3f7ec-f5b3-4bcb-ee0b-365d8e6ae45c"
      },
      "execution_count": 23,
      "outputs": [
        {
          "output_type": "execute_result",
          "data": {
            "text/plain": [
              "(array([1, 4]), array([ 9, 16]), array([25, 36]))"
            ]
          },
          "metadata": {},
          "execution_count": 23
        }
      ]
    },
    {
      "cell_type": "markdown",
      "source": [
        "---"
      ],
      "metadata": {
        "collapsed": false,
        "id": "DjkpjmRIFBcQ"
      }
    }
  ],
  "metadata": {
    "kernelspec": {
      "display_name": "Python 3",
      "language": "python",
      "name": "python3"
    },
    "language_info": {
      "codemirror_mode": {
        "name": "ipython",
        "version": 2
      },
      "file_extension": ".py",
      "mimetype": "text/x-python",
      "name": "python",
      "nbconvert_exporter": "python",
      "pygments_lexer": "ipython2",
      "version": "2.7.6"
    },
    "colab": {
      "provenance": []
    }
  },
  "nbformat": 4,
  "nbformat_minor": 0
}