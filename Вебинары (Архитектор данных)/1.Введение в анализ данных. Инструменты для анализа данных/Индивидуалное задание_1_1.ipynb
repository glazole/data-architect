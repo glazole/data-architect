{
  "nbformat": 4,
  "nbformat_minor": 0,
  "metadata": {
    "colab": {
      "provenance": []
    },
    "kernelspec": {
      "name": "python3",
      "display_name": "Python 3"
    },
    "language_info": {
      "name": "python"
    }
  },
  "cells": [
    {
      "cell_type": "code",
      "execution_count": null,
      "metadata": {
        "id": "4QNqSwUmqJVF"
      },
      "outputs": [],
      "source": [
        "import pandas as pd\n",
        "import numpy as np"
      ]
    },
    {
      "cell_type": "code",
      "source": [
        "pd.options.mode.chained_assignment = None"
      ],
      "metadata": {
        "id": "359cpsW9u2BB"
      },
      "execution_count": null,
      "outputs": []
    },
    {
      "cell_type": "markdown",
      "source": [
        "Загружаем данные из .csv файла"
      ],
      "metadata": {
        "id": "oxVh_IHhFB5q"
      }
    },
    {
      "cell_type": "code",
      "source": [
        "df = pd.read_csv('/content/sample_data/task1_v2_2_542183.csv')\n",
        "df"
      ],
      "metadata": {
        "colab": {
          "base_uri": "https://localhost:8080/",
          "height": 519
        },
        "id": "Vo_CoDAG1vQ4",
        "outputId": "e1ee49fc-f749-4c0f-dbba-39e1bc46d61c"
      },
      "execution_count": null,
      "outputs": [
        {
          "output_type": "execute_result",
          "data": {
            "text/plain": [
              "                               Точка маршрута    Рейс 1    Рейс 2    Рейс 3  \\\n",
              "0                               28-29-Я ЛИНИИ  07:12:40  07:30:00  07:42:00   \n",
              "1                               22-23-Я ЛИНИИ  07:13:30  07:30:50  07:42:50   \n",
              "2                 МУЗЕЙ ГОРОДСКОГО ТРАНСПОРТА  07:16:00  00:00:00  07:45:30   \n",
              "3                               12-13-Я ЛИНИИ  07:18:00  00:00:00  07:47:30   \n",
              "4                    МЕТРО \"ВАСИЛЕОСТРОВСКАЯ\"  07:20:00  00:00:00  07:50:10   \n",
              "5                       1-Я И КАДЕТСКАЯ ЛИНИИ  07:21:30  00:00:00  07:51:40   \n",
              "6   1-Я И КАДЕТСКАЯ ЛИНИИ. МЕТРО \"СПОРТИВНАЯ\"  07:23:00  00:00:00  07:53:00   \n",
              "7                          МЕТРО \"СПОРТИВНАЯ\"  07:24:00  07:42:10  07:54:10   \n",
              "8                       КРОНВЕРКСКИЙ ПРОСПЕКТ  07:25:10  07:43:40  07:55:40   \n",
              "9                              ЗВЕРИНСКАЯ УЛ.  07:26:50  07:45:20  07:56:50   \n",
              "10                             ВВЕДЕНСКАЯ УЛ.  07:28:10  07:46:20  07:58:20   \n",
              "11                               СЫТНЫЙ РЫНОК  07:29:40  07:47:40  07:59:30   \n",
              "12                        МЕТРО \"ГОРЬКОВСКАЯ\"  07:30:40  07:49:20  08:00:40   \n",
              "13                          ТРОИЦКАЯ ПЛ. П.С.  07:31:40  07:50:50  08:02:00   \n",
              "14                              УЛИЦА ЧАПАЕВА  07:33:10  07:52:10  08:03:40   \n",
              "\n",
              "      Рейс 4  \n",
              "0   07:57:30  \n",
              "1   07:58:20  \n",
              "2   08:00:10  \n",
              "3   08:02:20  \n",
              "4   08:04:20  \n",
              "5   08:05:40  \n",
              "6   08:06:40  \n",
              "7   08:08:20  \n",
              "8   08:09:30  \n",
              "9   08:10:30  \n",
              "10  08:12:00  \n",
              "11  08:13:00  \n",
              "12  08:14:30  \n",
              "13  08:15:30  \n",
              "14  08:17:10  "
            ],
            "text/html": [
              "\n",
              "  <div id=\"df-f38b307b-57b6-4704-87b4-0bcefcee34ec\">\n",
              "    <div class=\"colab-df-container\">\n",
              "      <div>\n",
              "<style scoped>\n",
              "    .dataframe tbody tr th:only-of-type {\n",
              "        vertical-align: middle;\n",
              "    }\n",
              "\n",
              "    .dataframe tbody tr th {\n",
              "        vertical-align: top;\n",
              "    }\n",
              "\n",
              "    .dataframe thead th {\n",
              "        text-align: right;\n",
              "    }\n",
              "</style>\n",
              "<table border=\"1\" class=\"dataframe\">\n",
              "  <thead>\n",
              "    <tr style=\"text-align: right;\">\n",
              "      <th></th>\n",
              "      <th>Точка маршрута</th>\n",
              "      <th>Рейс 1</th>\n",
              "      <th>Рейс 2</th>\n",
              "      <th>Рейс 3</th>\n",
              "      <th>Рейс 4</th>\n",
              "    </tr>\n",
              "  </thead>\n",
              "  <tbody>\n",
              "    <tr>\n",
              "      <th>0</th>\n",
              "      <td>28-29-Я ЛИНИИ</td>\n",
              "      <td>07:12:40</td>\n",
              "      <td>07:30:00</td>\n",
              "      <td>07:42:00</td>\n",
              "      <td>07:57:30</td>\n",
              "    </tr>\n",
              "    <tr>\n",
              "      <th>1</th>\n",
              "      <td>22-23-Я ЛИНИИ</td>\n",
              "      <td>07:13:30</td>\n",
              "      <td>07:30:50</td>\n",
              "      <td>07:42:50</td>\n",
              "      <td>07:58:20</td>\n",
              "    </tr>\n",
              "    <tr>\n",
              "      <th>2</th>\n",
              "      <td>МУЗЕЙ ГОРОДСКОГО ТРАНСПОРТА</td>\n",
              "      <td>07:16:00</td>\n",
              "      <td>00:00:00</td>\n",
              "      <td>07:45:30</td>\n",
              "      <td>08:00:10</td>\n",
              "    </tr>\n",
              "    <tr>\n",
              "      <th>3</th>\n",
              "      <td>12-13-Я ЛИНИИ</td>\n",
              "      <td>07:18:00</td>\n",
              "      <td>00:00:00</td>\n",
              "      <td>07:47:30</td>\n",
              "      <td>08:02:20</td>\n",
              "    </tr>\n",
              "    <tr>\n",
              "      <th>4</th>\n",
              "      <td>МЕТРО \"ВАСИЛЕОСТРОВСКАЯ\"</td>\n",
              "      <td>07:20:00</td>\n",
              "      <td>00:00:00</td>\n",
              "      <td>07:50:10</td>\n",
              "      <td>08:04:20</td>\n",
              "    </tr>\n",
              "    <tr>\n",
              "      <th>5</th>\n",
              "      <td>1-Я И КАДЕТСКАЯ ЛИНИИ</td>\n",
              "      <td>07:21:30</td>\n",
              "      <td>00:00:00</td>\n",
              "      <td>07:51:40</td>\n",
              "      <td>08:05:40</td>\n",
              "    </tr>\n",
              "    <tr>\n",
              "      <th>6</th>\n",
              "      <td>1-Я И КАДЕТСКАЯ ЛИНИИ. МЕТРО \"СПОРТИВНАЯ\"</td>\n",
              "      <td>07:23:00</td>\n",
              "      <td>00:00:00</td>\n",
              "      <td>07:53:00</td>\n",
              "      <td>08:06:40</td>\n",
              "    </tr>\n",
              "    <tr>\n",
              "      <th>7</th>\n",
              "      <td>МЕТРО \"СПОРТИВНАЯ\"</td>\n",
              "      <td>07:24:00</td>\n",
              "      <td>07:42:10</td>\n",
              "      <td>07:54:10</td>\n",
              "      <td>08:08:20</td>\n",
              "    </tr>\n",
              "    <tr>\n",
              "      <th>8</th>\n",
              "      <td>КРОНВЕРКСКИЙ ПРОСПЕКТ</td>\n",
              "      <td>07:25:10</td>\n",
              "      <td>07:43:40</td>\n",
              "      <td>07:55:40</td>\n",
              "      <td>08:09:30</td>\n",
              "    </tr>\n",
              "    <tr>\n",
              "      <th>9</th>\n",
              "      <td>ЗВЕРИНСКАЯ УЛ.</td>\n",
              "      <td>07:26:50</td>\n",
              "      <td>07:45:20</td>\n",
              "      <td>07:56:50</td>\n",
              "      <td>08:10:30</td>\n",
              "    </tr>\n",
              "    <tr>\n",
              "      <th>10</th>\n",
              "      <td>ВВЕДЕНСКАЯ УЛ.</td>\n",
              "      <td>07:28:10</td>\n",
              "      <td>07:46:20</td>\n",
              "      <td>07:58:20</td>\n",
              "      <td>08:12:00</td>\n",
              "    </tr>\n",
              "    <tr>\n",
              "      <th>11</th>\n",
              "      <td>СЫТНЫЙ РЫНОК</td>\n",
              "      <td>07:29:40</td>\n",
              "      <td>07:47:40</td>\n",
              "      <td>07:59:30</td>\n",
              "      <td>08:13:00</td>\n",
              "    </tr>\n",
              "    <tr>\n",
              "      <th>12</th>\n",
              "      <td>МЕТРО \"ГОРЬКОВСКАЯ\"</td>\n",
              "      <td>07:30:40</td>\n",
              "      <td>07:49:20</td>\n",
              "      <td>08:00:40</td>\n",
              "      <td>08:14:30</td>\n",
              "    </tr>\n",
              "    <tr>\n",
              "      <th>13</th>\n",
              "      <td>ТРОИЦКАЯ ПЛ. П.С.</td>\n",
              "      <td>07:31:40</td>\n",
              "      <td>07:50:50</td>\n",
              "      <td>08:02:00</td>\n",
              "      <td>08:15:30</td>\n",
              "    </tr>\n",
              "    <tr>\n",
              "      <th>14</th>\n",
              "      <td>УЛИЦА ЧАПАЕВА</td>\n",
              "      <td>07:33:10</td>\n",
              "      <td>07:52:10</td>\n",
              "      <td>08:03:40</td>\n",
              "      <td>08:17:10</td>\n",
              "    </tr>\n",
              "  </tbody>\n",
              "</table>\n",
              "</div>\n",
              "      <button class=\"colab-df-convert\" onclick=\"convertToInteractive('df-f38b307b-57b6-4704-87b4-0bcefcee34ec')\"\n",
              "              title=\"Convert this dataframe to an interactive table.\"\n",
              "              style=\"display:none;\">\n",
              "        \n",
              "  <svg xmlns=\"http://www.w3.org/2000/svg\" height=\"24px\"viewBox=\"0 0 24 24\"\n",
              "       width=\"24px\">\n",
              "    <path d=\"M0 0h24v24H0V0z\" fill=\"none\"/>\n",
              "    <path d=\"M18.56 5.44l.94 2.06.94-2.06 2.06-.94-2.06-.94-.94-2.06-.94 2.06-2.06.94zm-11 1L8.5 8.5l.94-2.06 2.06-.94-2.06-.94L8.5 2.5l-.94 2.06-2.06.94zm10 10l.94 2.06.94-2.06 2.06-.94-2.06-.94-.94-2.06-.94 2.06-2.06.94z\"/><path d=\"M17.41 7.96l-1.37-1.37c-.4-.4-.92-.59-1.43-.59-.52 0-1.04.2-1.43.59L10.3 9.45l-7.72 7.72c-.78.78-.78 2.05 0 2.83L4 21.41c.39.39.9.59 1.41.59.51 0 1.02-.2 1.41-.59l7.78-7.78 2.81-2.81c.8-.78.8-2.07 0-2.86zM5.41 20L4 18.59l7.72-7.72 1.47 1.35L5.41 20z\"/>\n",
              "  </svg>\n",
              "      </button>\n",
              "      \n",
              "  <style>\n",
              "    .colab-df-container {\n",
              "      display:flex;\n",
              "      flex-wrap:wrap;\n",
              "      gap: 12px;\n",
              "    }\n",
              "\n",
              "    .colab-df-convert {\n",
              "      background-color: #E8F0FE;\n",
              "      border: none;\n",
              "      border-radius: 50%;\n",
              "      cursor: pointer;\n",
              "      display: none;\n",
              "      fill: #1967D2;\n",
              "      height: 32px;\n",
              "      padding: 0 0 0 0;\n",
              "      width: 32px;\n",
              "    }\n",
              "\n",
              "    .colab-df-convert:hover {\n",
              "      background-color: #E2EBFA;\n",
              "      box-shadow: 0px 1px 2px rgba(60, 64, 67, 0.3), 0px 1px 3px 1px rgba(60, 64, 67, 0.15);\n",
              "      fill: #174EA6;\n",
              "    }\n",
              "\n",
              "    [theme=dark] .colab-df-convert {\n",
              "      background-color: #3B4455;\n",
              "      fill: #D2E3FC;\n",
              "    }\n",
              "\n",
              "    [theme=dark] .colab-df-convert:hover {\n",
              "      background-color: #434B5C;\n",
              "      box-shadow: 0px 1px 3px 1px rgba(0, 0, 0, 0.15);\n",
              "      filter: drop-shadow(0px 1px 2px rgba(0, 0, 0, 0.3));\n",
              "      fill: #FFFFFF;\n",
              "    }\n",
              "  </style>\n",
              "\n",
              "      <script>\n",
              "        const buttonEl =\n",
              "          document.querySelector('#df-f38b307b-57b6-4704-87b4-0bcefcee34ec button.colab-df-convert');\n",
              "        buttonEl.style.display =\n",
              "          google.colab.kernel.accessAllowed ? 'block' : 'none';\n",
              "\n",
              "        async function convertToInteractive(key) {\n",
              "          const element = document.querySelector('#df-f38b307b-57b6-4704-87b4-0bcefcee34ec');\n",
              "          const dataTable =\n",
              "            await google.colab.kernel.invokeFunction('convertToInteractive',\n",
              "                                                     [key], {});\n",
              "          if (!dataTable) return;\n",
              "\n",
              "          const docLinkHtml = 'Like what you see? Visit the ' +\n",
              "            '<a target=\"_blank\" href=https://colab.research.google.com/notebooks/data_table.ipynb>data table notebook</a>'\n",
              "            + ' to learn more about interactive tables.';\n",
              "          element.innerHTML = '';\n",
              "          dataTable['output_type'] = 'display_data';\n",
              "          await google.colab.output.renderOutput(dataTable, element);\n",
              "          const docLink = document.createElement('div');\n",
              "          docLink.innerHTML = docLinkHtml;\n",
              "          element.appendChild(docLink);\n",
              "        }\n",
              "      </script>\n",
              "    </div>\n",
              "  </div>\n",
              "  "
            ]
          },
          "metadata": {},
          "execution_count": 17
        }
      ]
    },
    {
      "cell_type": "code",
      "source": [
        "df.info()"
      ],
      "metadata": {
        "colab": {
          "base_uri": "https://localhost:8080/"
        },
        "id": "d0DNRli0JIzz",
        "outputId": "e112bda4-17ab-4117-d8c0-ca75021beb17"
      },
      "execution_count": null,
      "outputs": [
        {
          "output_type": "stream",
          "name": "stdout",
          "text": [
            "<class 'pandas.core.frame.DataFrame'>\n",
            "RangeIndex: 15 entries, 0 to 14\n",
            "Data columns (total 5 columns):\n",
            " #   Column          Non-Null Count  Dtype \n",
            "---  ------          --------------  ----- \n",
            " 0   Точка маршрута  15 non-null     object\n",
            " 1   Рейс 1          15 non-null     object\n",
            " 2   Рейс 2          15 non-null     object\n",
            " 3   Рейс 3          15 non-null     object\n",
            " 4   Рейс 4          15 non-null     object\n",
            "dtypes: object(5)\n",
            "memory usage: 728.0+ bytes\n"
          ]
        }
      ]
    },
    {
      "cell_type": "code",
      "source": [
        "column_of_interest = df.columns[df.isin(['00:00:00']).any()][0]\n",
        "print(column_of_interest)"
      ],
      "metadata": {
        "colab": {
          "base_uri": "https://localhost:8080/"
        },
        "id": "Ld1Yrnd1GPjf",
        "outputId": "c346e9e1-5b9b-416b-a1a1-59e29a5ade8a"
      },
      "execution_count": null,
      "outputs": [
        {
          "output_type": "stream",
          "name": "stdout",
          "text": [
            "Рейс 2\n"
          ]
        }
      ]
    },
    {
      "cell_type": "markdown",
      "source": [
        "Определяем новый датафрейм, содержащий только записи с пропущенными значениями."
      ],
      "metadata": {
        "id": "2CBE57NTFPrX"
      }
    },
    {
      "cell_type": "code",
      "source": [
        "df_new0 = df.loc[np.where(df[column_of_interest].isin(['00:00:00']))]\n",
        "df_new0"
      ],
      "metadata": {
        "colab": {
          "base_uri": "https://localhost:8080/",
          "height": 206
        },
        "id": "E0S8EZwp14HF",
        "outputId": "08abc93b-23a6-4098-ea82-ccd1e4007990"
      },
      "execution_count": null,
      "outputs": [
        {
          "output_type": "execute_result",
          "data": {
            "text/plain": [
              "                              Точка маршрута    Рейс 1    Рейс 2    Рейс 3  \\\n",
              "2                МУЗЕЙ ГОРОДСКОГО ТРАНСПОРТА  07:16:00  00:00:00  07:45:30   \n",
              "3                              12-13-Я ЛИНИИ  07:18:00  00:00:00  07:47:30   \n",
              "4                   МЕТРО \"ВАСИЛЕОСТРОВСКАЯ\"  07:20:00  00:00:00  07:50:10   \n",
              "5                      1-Я И КАДЕТСКАЯ ЛИНИИ  07:21:30  00:00:00  07:51:40   \n",
              "6  1-Я И КАДЕТСКАЯ ЛИНИИ. МЕТРО \"СПОРТИВНАЯ\"  07:23:00  00:00:00  07:53:00   \n",
              "\n",
              "     Рейс 4  \n",
              "2  08:00:10  \n",
              "3  08:02:20  \n",
              "4  08:04:20  \n",
              "5  08:05:40  \n",
              "6  08:06:40  "
            ],
            "text/html": [
              "\n",
              "  <div id=\"df-5f9f2136-92b8-4109-9f6a-4c78fe4be7a5\">\n",
              "    <div class=\"colab-df-container\">\n",
              "      <div>\n",
              "<style scoped>\n",
              "    .dataframe tbody tr th:only-of-type {\n",
              "        vertical-align: middle;\n",
              "    }\n",
              "\n",
              "    .dataframe tbody tr th {\n",
              "        vertical-align: top;\n",
              "    }\n",
              "\n",
              "    .dataframe thead th {\n",
              "        text-align: right;\n",
              "    }\n",
              "</style>\n",
              "<table border=\"1\" class=\"dataframe\">\n",
              "  <thead>\n",
              "    <tr style=\"text-align: right;\">\n",
              "      <th></th>\n",
              "      <th>Точка маршрута</th>\n",
              "      <th>Рейс 1</th>\n",
              "      <th>Рейс 2</th>\n",
              "      <th>Рейс 3</th>\n",
              "      <th>Рейс 4</th>\n",
              "    </tr>\n",
              "  </thead>\n",
              "  <tbody>\n",
              "    <tr>\n",
              "      <th>2</th>\n",
              "      <td>МУЗЕЙ ГОРОДСКОГО ТРАНСПОРТА</td>\n",
              "      <td>07:16:00</td>\n",
              "      <td>00:00:00</td>\n",
              "      <td>07:45:30</td>\n",
              "      <td>08:00:10</td>\n",
              "    </tr>\n",
              "    <tr>\n",
              "      <th>3</th>\n",
              "      <td>12-13-Я ЛИНИИ</td>\n",
              "      <td>07:18:00</td>\n",
              "      <td>00:00:00</td>\n",
              "      <td>07:47:30</td>\n",
              "      <td>08:02:20</td>\n",
              "    </tr>\n",
              "    <tr>\n",
              "      <th>4</th>\n",
              "      <td>МЕТРО \"ВАСИЛЕОСТРОВСКАЯ\"</td>\n",
              "      <td>07:20:00</td>\n",
              "      <td>00:00:00</td>\n",
              "      <td>07:50:10</td>\n",
              "      <td>08:04:20</td>\n",
              "    </tr>\n",
              "    <tr>\n",
              "      <th>5</th>\n",
              "      <td>1-Я И КАДЕТСКАЯ ЛИНИИ</td>\n",
              "      <td>07:21:30</td>\n",
              "      <td>00:00:00</td>\n",
              "      <td>07:51:40</td>\n",
              "      <td>08:05:40</td>\n",
              "    </tr>\n",
              "    <tr>\n",
              "      <th>6</th>\n",
              "      <td>1-Я И КАДЕТСКАЯ ЛИНИИ. МЕТРО \"СПОРТИВНАЯ\"</td>\n",
              "      <td>07:23:00</td>\n",
              "      <td>00:00:00</td>\n",
              "      <td>07:53:00</td>\n",
              "      <td>08:06:40</td>\n",
              "    </tr>\n",
              "  </tbody>\n",
              "</table>\n",
              "</div>\n",
              "      <button class=\"colab-df-convert\" onclick=\"convertToInteractive('df-5f9f2136-92b8-4109-9f6a-4c78fe4be7a5')\"\n",
              "              title=\"Convert this dataframe to an interactive table.\"\n",
              "              style=\"display:none;\">\n",
              "        \n",
              "  <svg xmlns=\"http://www.w3.org/2000/svg\" height=\"24px\"viewBox=\"0 0 24 24\"\n",
              "       width=\"24px\">\n",
              "    <path d=\"M0 0h24v24H0V0z\" fill=\"none\"/>\n",
              "    <path d=\"M18.56 5.44l.94 2.06.94-2.06 2.06-.94-2.06-.94-.94-2.06-.94 2.06-2.06.94zm-11 1L8.5 8.5l.94-2.06 2.06-.94-2.06-.94L8.5 2.5l-.94 2.06-2.06.94zm10 10l.94 2.06.94-2.06 2.06-.94-2.06-.94-.94-2.06-.94 2.06-2.06.94z\"/><path d=\"M17.41 7.96l-1.37-1.37c-.4-.4-.92-.59-1.43-.59-.52 0-1.04.2-1.43.59L10.3 9.45l-7.72 7.72c-.78.78-.78 2.05 0 2.83L4 21.41c.39.39.9.59 1.41.59.51 0 1.02-.2 1.41-.59l7.78-7.78 2.81-2.81c.8-.78.8-2.07 0-2.86zM5.41 20L4 18.59l7.72-7.72 1.47 1.35L5.41 20z\"/>\n",
              "  </svg>\n",
              "      </button>\n",
              "      \n",
              "  <style>\n",
              "    .colab-df-container {\n",
              "      display:flex;\n",
              "      flex-wrap:wrap;\n",
              "      gap: 12px;\n",
              "    }\n",
              "\n",
              "    .colab-df-convert {\n",
              "      background-color: #E8F0FE;\n",
              "      border: none;\n",
              "      border-radius: 50%;\n",
              "      cursor: pointer;\n",
              "      display: none;\n",
              "      fill: #1967D2;\n",
              "      height: 32px;\n",
              "      padding: 0 0 0 0;\n",
              "      width: 32px;\n",
              "    }\n",
              "\n",
              "    .colab-df-convert:hover {\n",
              "      background-color: #E2EBFA;\n",
              "      box-shadow: 0px 1px 2px rgba(60, 64, 67, 0.3), 0px 1px 3px 1px rgba(60, 64, 67, 0.15);\n",
              "      fill: #174EA6;\n",
              "    }\n",
              "\n",
              "    [theme=dark] .colab-df-convert {\n",
              "      background-color: #3B4455;\n",
              "      fill: #D2E3FC;\n",
              "    }\n",
              "\n",
              "    [theme=dark] .colab-df-convert:hover {\n",
              "      background-color: #434B5C;\n",
              "      box-shadow: 0px 1px 3px 1px rgba(0, 0, 0, 0.15);\n",
              "      filter: drop-shadow(0px 1px 2px rgba(0, 0, 0, 0.3));\n",
              "      fill: #FFFFFF;\n",
              "    }\n",
              "  </style>\n",
              "\n",
              "      <script>\n",
              "        const buttonEl =\n",
              "          document.querySelector('#df-5f9f2136-92b8-4109-9f6a-4c78fe4be7a5 button.colab-df-convert');\n",
              "        buttonEl.style.display =\n",
              "          google.colab.kernel.accessAllowed ? 'block' : 'none';\n",
              "\n",
              "        async function convertToInteractive(key) {\n",
              "          const element = document.querySelector('#df-5f9f2136-92b8-4109-9f6a-4c78fe4be7a5');\n",
              "          const dataTable =\n",
              "            await google.colab.kernel.invokeFunction('convertToInteractive',\n",
              "                                                     [key], {});\n",
              "          if (!dataTable) return;\n",
              "\n",
              "          const docLinkHtml = 'Like what you see? Visit the ' +\n",
              "            '<a target=\"_blank\" href=https://colab.research.google.com/notebooks/data_table.ipynb>data table notebook</a>'\n",
              "            + ' to learn more about interactive tables.';\n",
              "          element.innerHTML = '';\n",
              "          dataTable['output_type'] = 'display_data';\n",
              "          await google.colab.output.renderOutput(dataTable, element);\n",
              "          const docLink = document.createElement('div');\n",
              "          docLink.innerHTML = docLinkHtml;\n",
              "          element.appendChild(docLink);\n",
              "        }\n",
              "      </script>\n",
              "    </div>\n",
              "  </div>\n",
              "  "
            ]
          },
          "metadata": {},
          "execution_count": 20
        }
      ]
    },
    {
      "cell_type": "code",
      "source": [
        "df_new0.isnull().any()"
      ],
      "metadata": {
        "colab": {
          "base_uri": "https://localhost:8080/"
        },
        "id": "8LeLjd2eJbmK",
        "outputId": "c1a2b9d0-d3bc-4ccd-fdbc-94429d0f69df"
      },
      "execution_count": null,
      "outputs": [
        {
          "output_type": "execute_result",
          "data": {
            "text/plain": [
              "Точка маршрута    False\n",
              "Рейс 1            False\n",
              "Рейс 2            False\n",
              "Рейс 3            False\n",
              "Рейс 4            False\n",
              "dtype: bool"
            ]
          },
          "metadata": {},
          "execution_count": 21
        }
      ]
    },
    {
      "cell_type": "markdown",
      "source": [
        "Находим пограничные индексы"
      ],
      "metadata": {
        "id": "Lz71Qpbqb-0E"
      }
    },
    {
      "cell_type": "code",
      "source": [
        "df_new0.index.to_list()"
      ],
      "metadata": {
        "colab": {
          "base_uri": "https://localhost:8080/"
        },
        "id": "ZkwC54676O6q",
        "outputId": "e3768774-9eb4-4c4d-9f5a-24057fcd4c3a"
      },
      "execution_count": null,
      "outputs": [
        {
          "output_type": "execute_result",
          "data": {
            "text/plain": [
              "[2, 3, 4, 5, 6]"
            ]
          },
          "metadata": {},
          "execution_count": 22
        }
      ]
    },
    {
      "cell_type": "code",
      "source": [
        "index_min = min(df_new0.index.to_list()) - 1\n",
        "print(index_min)\n",
        "index_max = max(df_new0.index.to_list()) + 1\n",
        "print(index_max)"
      ],
      "metadata": {
        "colab": {
          "base_uri": "https://localhost:8080/"
        },
        "id": "VzBo0CEi4_GU",
        "outputId": "7ad12fa2-a37f-4394-8937-e793e021f96c"
      },
      "execution_count": null,
      "outputs": [
        {
          "output_type": "stream",
          "name": "stdout",
          "text": [
            "1\n",
            "7\n"
          ]
        }
      ]
    },
    {
      "cell_type": "markdown",
      "source": [
        "Другой вариант"
      ],
      "metadata": {
        "id": "kEae1vNqJwu1"
      }
    },
    {
      "cell_type": "code",
      "source": [
        "index_min = df_new0.index[0] - 1\n",
        "print(index_min)\n",
        "index_max =df_new0.index[-1] + 1\n",
        "print(index_max)"
      ],
      "metadata": {
        "colab": {
          "base_uri": "https://localhost:8080/"
        },
        "id": "gcWK3-ZIJNT-",
        "outputId": "465aee09-9190-4784-fb8b-8f101a1c06f9"
      },
      "execution_count": null,
      "outputs": [
        {
          "output_type": "stream",
          "name": "stdout",
          "text": [
            "1\n",
            "7\n"
          ]
        }
      ]
    },
    {
      "cell_type": "markdown",
      "source": [
        "Переопределяем датафрейм с учетом данных до пропусков"
      ],
      "metadata": {
        "id": "dQC1hJlNcLvJ"
      }
    },
    {
      "cell_type": "code",
      "source": [
        "df_new = df.loc[index_min:index_max]\n",
        "df_new"
      ],
      "metadata": {
        "colab": {
          "base_uri": "https://localhost:8080/",
          "height": 269
        },
        "id": "sw58dMNcJ9tK",
        "outputId": "535daf4d-9862-4a15-b296-d3e371b1305a"
      },
      "execution_count": null,
      "outputs": [
        {
          "output_type": "execute_result",
          "data": {
            "text/plain": [
              "                              Точка маршрута    Рейс 1    Рейс 2    Рейс 3  \\\n",
              "1                              22-23-Я ЛИНИИ  07:13:30  07:30:50  07:42:50   \n",
              "2                МУЗЕЙ ГОРОДСКОГО ТРАНСПОРТА  07:16:00  00:00:00  07:45:30   \n",
              "3                              12-13-Я ЛИНИИ  07:18:00  00:00:00  07:47:30   \n",
              "4                   МЕТРО \"ВАСИЛЕОСТРОВСКАЯ\"  07:20:00  00:00:00  07:50:10   \n",
              "5                      1-Я И КАДЕТСКАЯ ЛИНИИ  07:21:30  00:00:00  07:51:40   \n",
              "6  1-Я И КАДЕТСКАЯ ЛИНИИ. МЕТРО \"СПОРТИВНАЯ\"  07:23:00  00:00:00  07:53:00   \n",
              "7                         МЕТРО \"СПОРТИВНАЯ\"  07:24:00  07:42:10  07:54:10   \n",
              "\n",
              "     Рейс 4  \n",
              "1  07:58:20  \n",
              "2  08:00:10  \n",
              "3  08:02:20  \n",
              "4  08:04:20  \n",
              "5  08:05:40  \n",
              "6  08:06:40  \n",
              "7  08:08:20  "
            ],
            "text/html": [
              "\n",
              "  <div id=\"df-34bf02b7-b882-4069-873a-6f4426224f91\">\n",
              "    <div class=\"colab-df-container\">\n",
              "      <div>\n",
              "<style scoped>\n",
              "    .dataframe tbody tr th:only-of-type {\n",
              "        vertical-align: middle;\n",
              "    }\n",
              "\n",
              "    .dataframe tbody tr th {\n",
              "        vertical-align: top;\n",
              "    }\n",
              "\n",
              "    .dataframe thead th {\n",
              "        text-align: right;\n",
              "    }\n",
              "</style>\n",
              "<table border=\"1\" class=\"dataframe\">\n",
              "  <thead>\n",
              "    <tr style=\"text-align: right;\">\n",
              "      <th></th>\n",
              "      <th>Точка маршрута</th>\n",
              "      <th>Рейс 1</th>\n",
              "      <th>Рейс 2</th>\n",
              "      <th>Рейс 3</th>\n",
              "      <th>Рейс 4</th>\n",
              "    </tr>\n",
              "  </thead>\n",
              "  <tbody>\n",
              "    <tr>\n",
              "      <th>1</th>\n",
              "      <td>22-23-Я ЛИНИИ</td>\n",
              "      <td>07:13:30</td>\n",
              "      <td>07:30:50</td>\n",
              "      <td>07:42:50</td>\n",
              "      <td>07:58:20</td>\n",
              "    </tr>\n",
              "    <tr>\n",
              "      <th>2</th>\n",
              "      <td>МУЗЕЙ ГОРОДСКОГО ТРАНСПОРТА</td>\n",
              "      <td>07:16:00</td>\n",
              "      <td>00:00:00</td>\n",
              "      <td>07:45:30</td>\n",
              "      <td>08:00:10</td>\n",
              "    </tr>\n",
              "    <tr>\n",
              "      <th>3</th>\n",
              "      <td>12-13-Я ЛИНИИ</td>\n",
              "      <td>07:18:00</td>\n",
              "      <td>00:00:00</td>\n",
              "      <td>07:47:30</td>\n",
              "      <td>08:02:20</td>\n",
              "    </tr>\n",
              "    <tr>\n",
              "      <th>4</th>\n",
              "      <td>МЕТРО \"ВАСИЛЕОСТРОВСКАЯ\"</td>\n",
              "      <td>07:20:00</td>\n",
              "      <td>00:00:00</td>\n",
              "      <td>07:50:10</td>\n",
              "      <td>08:04:20</td>\n",
              "    </tr>\n",
              "    <tr>\n",
              "      <th>5</th>\n",
              "      <td>1-Я И КАДЕТСКАЯ ЛИНИИ</td>\n",
              "      <td>07:21:30</td>\n",
              "      <td>00:00:00</td>\n",
              "      <td>07:51:40</td>\n",
              "      <td>08:05:40</td>\n",
              "    </tr>\n",
              "    <tr>\n",
              "      <th>6</th>\n",
              "      <td>1-Я И КАДЕТСКАЯ ЛИНИИ. МЕТРО \"СПОРТИВНАЯ\"</td>\n",
              "      <td>07:23:00</td>\n",
              "      <td>00:00:00</td>\n",
              "      <td>07:53:00</td>\n",
              "      <td>08:06:40</td>\n",
              "    </tr>\n",
              "    <tr>\n",
              "      <th>7</th>\n",
              "      <td>МЕТРО \"СПОРТИВНАЯ\"</td>\n",
              "      <td>07:24:00</td>\n",
              "      <td>07:42:10</td>\n",
              "      <td>07:54:10</td>\n",
              "      <td>08:08:20</td>\n",
              "    </tr>\n",
              "  </tbody>\n",
              "</table>\n",
              "</div>\n",
              "      <button class=\"colab-df-convert\" onclick=\"convertToInteractive('df-34bf02b7-b882-4069-873a-6f4426224f91')\"\n",
              "              title=\"Convert this dataframe to an interactive table.\"\n",
              "              style=\"display:none;\">\n",
              "        \n",
              "  <svg xmlns=\"http://www.w3.org/2000/svg\" height=\"24px\"viewBox=\"0 0 24 24\"\n",
              "       width=\"24px\">\n",
              "    <path d=\"M0 0h24v24H0V0z\" fill=\"none\"/>\n",
              "    <path d=\"M18.56 5.44l.94 2.06.94-2.06 2.06-.94-2.06-.94-.94-2.06-.94 2.06-2.06.94zm-11 1L8.5 8.5l.94-2.06 2.06-.94-2.06-.94L8.5 2.5l-.94 2.06-2.06.94zm10 10l.94 2.06.94-2.06 2.06-.94-2.06-.94-.94-2.06-.94 2.06-2.06.94z\"/><path d=\"M17.41 7.96l-1.37-1.37c-.4-.4-.92-.59-1.43-.59-.52 0-1.04.2-1.43.59L10.3 9.45l-7.72 7.72c-.78.78-.78 2.05 0 2.83L4 21.41c.39.39.9.59 1.41.59.51 0 1.02-.2 1.41-.59l7.78-7.78 2.81-2.81c.8-.78.8-2.07 0-2.86zM5.41 20L4 18.59l7.72-7.72 1.47 1.35L5.41 20z\"/>\n",
              "  </svg>\n",
              "      </button>\n",
              "      \n",
              "  <style>\n",
              "    .colab-df-container {\n",
              "      display:flex;\n",
              "      flex-wrap:wrap;\n",
              "      gap: 12px;\n",
              "    }\n",
              "\n",
              "    .colab-df-convert {\n",
              "      background-color: #E8F0FE;\n",
              "      border: none;\n",
              "      border-radius: 50%;\n",
              "      cursor: pointer;\n",
              "      display: none;\n",
              "      fill: #1967D2;\n",
              "      height: 32px;\n",
              "      padding: 0 0 0 0;\n",
              "      width: 32px;\n",
              "    }\n",
              "\n",
              "    .colab-df-convert:hover {\n",
              "      background-color: #E2EBFA;\n",
              "      box-shadow: 0px 1px 2px rgba(60, 64, 67, 0.3), 0px 1px 3px 1px rgba(60, 64, 67, 0.15);\n",
              "      fill: #174EA6;\n",
              "    }\n",
              "\n",
              "    [theme=dark] .colab-df-convert {\n",
              "      background-color: #3B4455;\n",
              "      fill: #D2E3FC;\n",
              "    }\n",
              "\n",
              "    [theme=dark] .colab-df-convert:hover {\n",
              "      background-color: #434B5C;\n",
              "      box-shadow: 0px 1px 3px 1px rgba(0, 0, 0, 0.15);\n",
              "      filter: drop-shadow(0px 1px 2px rgba(0, 0, 0, 0.3));\n",
              "      fill: #FFFFFF;\n",
              "    }\n",
              "  </style>\n",
              "\n",
              "      <script>\n",
              "        const buttonEl =\n",
              "          document.querySelector('#df-34bf02b7-b882-4069-873a-6f4426224f91 button.colab-df-convert');\n",
              "        buttonEl.style.display =\n",
              "          google.colab.kernel.accessAllowed ? 'block' : 'none';\n",
              "\n",
              "        async function convertToInteractive(key) {\n",
              "          const element = document.querySelector('#df-34bf02b7-b882-4069-873a-6f4426224f91');\n",
              "          const dataTable =\n",
              "            await google.colab.kernel.invokeFunction('convertToInteractive',\n",
              "                                                     [key], {});\n",
              "          if (!dataTable) return;\n",
              "\n",
              "          const docLinkHtml = 'Like what you see? Visit the ' +\n",
              "            '<a target=\"_blank\" href=https://colab.research.google.com/notebooks/data_table.ipynb>data table notebook</a>'\n",
              "            + ' to learn more about interactive tables.';\n",
              "          element.innerHTML = '';\n",
              "          dataTable['output_type'] = 'display_data';\n",
              "          await google.colab.output.renderOutput(dataTable, element);\n",
              "          const docLink = document.createElement('div');\n",
              "          docLink.innerHTML = docLinkHtml;\n",
              "          element.appendChild(docLink);\n",
              "        }\n",
              "      </script>\n",
              "    </div>\n",
              "  </div>\n",
              "  "
            ]
          },
          "metadata": {},
          "execution_count": 25
        }
      ]
    },
    {
      "cell_type": "code",
      "source": [
        "type(df_new[column_of_interest].iloc[-1])"
      ],
      "metadata": {
        "colab": {
          "base_uri": "https://localhost:8080/"
        },
        "id": "qilg_VvnKVGP",
        "outputId": "8aa575b1-f367-4f44-b852-7ad16453e832"
      },
      "execution_count": null,
      "outputs": [
        {
          "output_type": "execute_result",
          "data": {
            "text/plain": [
              "str"
            ]
          },
          "metadata": {},
          "execution_count": 26
        }
      ]
    },
    {
      "cell_type": "markdown",
      "source": [
        "Меняем тип данных на \"timedelta\""
      ],
      "metadata": {
        "id": "cGWwdtzYcx5T"
      }
    },
    {
      "cell_type": "code",
      "source": [
        "df_new['Рейс 1'] = pd.to_timedelta(df_new['Рейс 1'])\n",
        "df_new['Рейс 2'] = pd.to_timedelta(df_new['Рейс 2'])\n",
        "df_new['Рейс 3'] = pd.to_timedelta(df_new['Рейс 3'])\n",
        "df_new['Рейс 4'] = pd.to_timedelta(df_new['Рейс 4'])"
      ],
      "metadata": {
        "id": "I0U0FTKRwQxB"
      },
      "execution_count": null,
      "outputs": []
    },
    {
      "cell_type": "code",
      "source": [
        "df_new['Длительность прохождения аналогичных интервалов рейса 1'] = df_new['Рейс 1'].diff()\n",
        "df_new['Длительность прохождения аналогичных интервалов рейса 3'] = df_new['Рейс 3'].diff()\n",
        "df_new['Длительность прохождения аналогичных интервалов рейса 4'] = df_new['Рейс 4'].diff()"
      ],
      "metadata": {
        "id": "-RKoMtdwyutf"
      },
      "execution_count": null,
      "outputs": []
    },
    {
      "cell_type": "code",
      "source": [
        "df_new['Средняя длительность прохождения интервалов'] = df_new.iloc[:, [5,6,7]].mean(axis=1)\n",
        "#.dt.round('1s')"
      ],
      "metadata": {
        "id": "IOMO-wSNzXHR"
      },
      "execution_count": null,
      "outputs": []
    },
    {
      "cell_type": "code",
      "source": [
        "interval = df_new[column_of_interest].diff(periods= 6).iloc[-1]\n",
        "print(interval)"
      ],
      "metadata": {
        "colab": {
          "base_uri": "https://localhost:8080/"
        },
        "id": "VA3FOC_oz267",
        "outputId": "9b2c6d8b-15ea-4965-c105-db2e4b41c58b"
      },
      "execution_count": null,
      "outputs": [
        {
          "output_type": "stream",
          "name": "stdout",
          "text": [
            "0 days 00:11:20\n"
          ]
        }
      ]
    },
    {
      "cell_type": "code",
      "source": [
        "interval_SUM = df_new.loc[2:7,'Средняя длительность прохождения интервалов'].sum()\n",
        "print(interval_SUM)"
      ],
      "metadata": {
        "colab": {
          "base_uri": "https://localhost:8080/"
        },
        "id": "daME5RVc0dG0",
        "outputId": "0a621a12-3b77-4fa1-b6da-b39d97db80e5"
      },
      "execution_count": null,
      "outputs": [
        {
          "output_type": "stream",
          "name": "stdout",
          "text": [
            "0 days 00:10:36.666666664\n"
          ]
        }
      ]
    },
    {
      "cell_type": "code",
      "source": [
        "coef = interval/interval_SUM"
      ],
      "metadata": {
        "id": "PqWMZccy588r"
      },
      "execution_count": null,
      "outputs": []
    },
    {
      "cell_type": "code",
      "source": [
        "print(coef)"
      ],
      "metadata": {
        "colab": {
          "base_uri": "https://localhost:8080/"
        },
        "id": "NnRtHOrlIKCL",
        "outputId": "a9e1c361-c1f4-4fb1-d61b-8155f6dadb09"
      },
      "execution_count": null,
      "outputs": [
        {
          "output_type": "stream",
          "name": "stdout",
          "text": [
            "1.0680628272296044\n"
          ]
        }
      ]
    },
    {
      "cell_type": "code",
      "source": [
        "df_new['Предполагаемая длительность  прохождения интервалов рейса 2'] = df_new['Средняя длительность прохождения интервалов'] * coef"
      ],
      "metadata": {
        "id": "00Ms2US_06eh"
      },
      "execution_count": null,
      "outputs": []
    },
    {
      "cell_type": "code",
      "source": [
        "for i in range(2,7):\n",
        "  df_new[column_of_interest].loc[i] = df_new[column_of_interest].loc[i - 1] + df_new['Предполагаемая длительность  прохождения интервалов рейса 2'].loc[i] "
      ],
      "metadata": {
        "id": "aKeWjTeCF8W5"
      },
      "execution_count": null,
      "outputs": []
    },
    {
      "cell_type": "code",
      "source": [
        "df_new[column_of_interest] = df_new[column_of_interest].dt.round('1s')"
      ],
      "metadata": {
        "id": "uUKl1gdxV8sK"
      },
      "execution_count": null,
      "outputs": []
    },
    {
      "cell_type": "code",
      "source": [
        "df_new[column_of_interest] = df_new[column_of_interest].astype(str).str.split('0 days ').str[-1]"
      ],
      "metadata": {
        "id": "KykMe73oYGo3"
      },
      "execution_count": null,
      "outputs": []
    },
    {
      "cell_type": "code",
      "source": [
        "df_new[column_of_interest][1:6]"
      ],
      "metadata": {
        "colab": {
          "base_uri": "https://localhost:8080/"
        },
        "id": "h0rD1rZZsAWa",
        "outputId": "1230efdf-9f46-4af9-8481-924d3cde767b"
      },
      "execution_count": null,
      "outputs": [
        {
          "output_type": "execute_result",
          "data": {
            "text/plain": [
              "2    07:33:20\n",
              "3    07:35:31\n",
              "4    07:37:54\n",
              "5    07:39:26\n",
              "6    07:40:48\n",
              "Name: Рейс 2, dtype: object"
            ]
          },
          "metadata": {},
          "execution_count": 39
        }
      ]
    }
  ]
}