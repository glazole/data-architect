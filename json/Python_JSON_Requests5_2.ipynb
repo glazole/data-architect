{
  "nbformat": 4,
  "nbformat_minor": 0,
  "metadata": {
    "colab": {
      "provenance": []
    },
    "kernelspec": {
      "name": "python3",
      "display_name": "Python 3"
    },
    "language_info": {
      "name": "python"
    }
  },
  "cells": [
    {
      "cell_type": "markdown",
      "source": [
        "# JSON формат"
      ],
      "metadata": {
        "id": "fOMTgOXqunD6"
      }
    },
    {
      "cell_type": "markdown",
      "source": [
        "Импрортируем библиотеку"
      ],
      "metadata": {
        "id": "nSaH_xd7uulk"
      }
    },
    {
      "cell_type": "code",
      "execution_count": 1,
      "metadata": {
        "id": "rpWOzerEuhat"
      },
      "outputs": [],
      "source": [
        "import json"
      ]
    },
    {
      "cell_type": "markdown",
      "source": [
        "Обращение к объектам JSON"
      ],
      "metadata": {
        "id": "63992Ms8mrTD"
      }
    },
    {
      "cell_type": "code",
      "source": [
        "data = \"\"\"{\n",
        " \"student\" : [\n",
        " {\n",
        " \"id\" : 1234,\n",
        " \"name\" : \"studentA\",\n",
        " \"groupNum\" : \"A1234\"\n",
        " },\n",
        " {\n",
        " \"id\" : 1238,\n",
        " \"name\" : \"studentB\",\n",
        " \"groupNum\" : \"A4321\"\n",
        " }\n",
        " ],\n",
        " \"completed\": false\n",
        "}\"\"\"\n",
        "data_json = json.loads(data)  # из JSON в Python "
      ],
      "metadata": {
        "id": "ZKoWpywZmrlZ"
      },
      "execution_count": 2,
      "outputs": []
    },
    {
      "cell_type": "code",
      "source": [
        "print(data_json[\"student\"]) # выводим список объектов для ключа \"student\""
      ],
      "metadata": {
        "colab": {
          "base_uri": "https://localhost:8080/"
        },
        "id": "h91CvqU5qh7j",
        "outputId": "6c997439-f7ca-4ce3-c5ee-95bfbcc205a9"
      },
      "execution_count": 3,
      "outputs": [
        {
          "output_type": "stream",
          "name": "stdout",
          "text": [
            "[{'id': 1234, 'name': 'studentA', 'groupNum': 'A1234'}, {'id': 1238, 'name': 'studentB', 'groupNum': 'A4321'}]\n"
          ]
        }
      ]
    },
    {
      "cell_type": "code",
      "source": [
        "for lst in data_json[\"student\"]:\n",
        " print(\" Объект для ключа 'student':\", lst) # выводим каждый объект списка\n",
        " print(\"Ключ-значение для объекта\")\n",
        " for key, value in lst.items():\n",
        "  print(key, value) # выводим ключ-значение для объекта"
      ],
      "metadata": {
        "colab": {
          "base_uri": "https://localhost:8080/"
        },
        "id": "52SmGBEjq47I",
        "outputId": "a4639619-57b4-4ac6-9f6b-398f164f7df8"
      },
      "execution_count": 4,
      "outputs": [
        {
          "output_type": "stream",
          "name": "stdout",
          "text": [
            " Объект для ключа 'student': {'id': 1234, 'name': 'studentA', 'groupNum': 'A1234'}\n",
            "Ключ-значение для объекта\n",
            "id 1234\n",
            "name studentA\n",
            "groupNum A1234\n",
            " Объект для ключа 'student': {'id': 1238, 'name': 'studentB', 'groupNum': 'A4321'}\n",
            "Ключ-значение для объекта\n",
            "id 1238\n",
            "name studentB\n",
            "groupNum A4321\n"
          ]
        }
      ]
    },
    {
      "cell_type": "code",
      "source": [
        "result_list = [v for lst in data_json[\"student\"] for k, v in lst.items()] # выводим только значения для ключа \"student\"\n",
        "print(\" Только значения для ключа 'student':\")\n",
        "print(result_list)\n",
        "print(\" Значение для ключа 'completed':\")\n",
        "print(data_json[\"completed\"])"
      ],
      "metadata": {
        "colab": {
          "base_uri": "https://localhost:8080/"
        },
        "id": "esmU1R--q_tg",
        "outputId": "2a778adb-a452-470b-9a23-28a9d6e5e2d6"
      },
      "execution_count": 5,
      "outputs": [
        {
          "output_type": "stream",
          "name": "stdout",
          "text": [
            " Только значения для ключа 'student':\n",
            "[1234, 'studentA', 'A1234', 1238, 'studentB', 'A4321']\n",
            " Значение для ключа 'completed':\n",
            "False\n"
          ]
        }
      ]
    },
    {
      "cell_type": "code",
      "source": [
        "data = {\n",
        " 'student' : [\n",
        " {\n",
        "\"id\" : 1234,\n",
        " \"name\" : \"studentA\",\n",
        " \"groupNum\" : \"A1234\"\n",
        " },\n",
        " {\n",
        " \"id\" : 1238,\n",
        " \"name\" : \"studentB\",\n",
        " \"groupNum\" : \"A4321\"\n",
        " }\n",
        " ],\n",
        " \"completed\": False\n",
        " }"
      ],
      "metadata": {
        "id": "fGVKELD-u-JU"
      },
      "execution_count": 6,
      "outputs": []
    },
    {
      "cell_type": "code",
      "source": [
        "data_json = json.dumps(data) # из словаря Python в Json\n",
        "print(data_json)"
      ],
      "metadata": {
        "colab": {
          "base_uri": "https://localhost:8080/"
        },
        "id": "o7K6RrJOvta2",
        "outputId": "2dcc0500-3a6a-475b-c374-cbdeb3562359"
      },
      "execution_count": 7,
      "outputs": [
        {
          "output_type": "stream",
          "name": "stdout",
          "text": [
            "{\"student\": [{\"id\": 1234, \"name\": \"studentA\", \"groupNum\": \"A1234\"}, {\"id\": 1238, \"name\": \"studentB\", \"groupNum\": \"A4321\"}], \"completed\": false}\n"
          ]
        }
      ]
    },
    {
      "cell_type": "code",
      "source": [
        "data_json = json.dumps(data, indent=4)\n",
        "print(data_json)"
      ],
      "metadata": {
        "colab": {
          "base_uri": "https://localhost:8080/"
        },
        "id": "hIe3r-2Nv4Z3",
        "outputId": "05623c0a-d082-4515-e628-cfc25e8c0201"
      },
      "execution_count": 8,
      "outputs": [
        {
          "output_type": "stream",
          "name": "stdout",
          "text": [
            "{\n",
            "    \"student\": [\n",
            "        {\n",
            "            \"id\": 1234,\n",
            "            \"name\": \"studentA\",\n",
            "            \"groupNum\": \"A1234\"\n",
            "        },\n",
            "        {\n",
            "            \"id\": 1238,\n",
            "            \"name\": \"studentB\",\n",
            "            \"groupNum\": \"A4321\"\n",
            "        }\n",
            "    ],\n",
            "    \"completed\": false\n",
            "}\n"
          ]
        }
      ]
    },
    {
      "cell_type": "markdown",
      "source": [
        "\n",
        "*   separators - разделители используемые в JSON (по умолчанию separators = None);\n",
        "*   sort_keys - сортировка (по умолчанию sort_keys = False);\n",
        "*   allow_nan - обработка значений nan, inf, -inf (по умолчанию allow_nan = True);\n",
        "*   default - функция для значений, которые не могут быть обработы стандартным способом (по умолчанию default = None)."
      ],
      "metadata": {
        "id": "cCJ4SUj_wke5"
      }
    },
    {
      "cell_type": "code",
      "source": [
        "print(json.dumps(data, indent=4, sort_keys=True))"
      ],
      "metadata": {
        "colab": {
          "base_uri": "https://localhost:8080/"
        },
        "id": "6-uIv9RqxJjH",
        "outputId": "5ddd4200-4ec2-401f-f875-f425a9c253bb"
      },
      "execution_count": 9,
      "outputs": [
        {
          "output_type": "stream",
          "name": "stdout",
          "text": [
            "{\n",
            "    \"completed\": false,\n",
            "    \"student\": [\n",
            "        {\n",
            "            \"groupNum\": \"A1234\",\n",
            "            \"id\": 1234,\n",
            "            \"name\": \"studentA\"\n",
            "        },\n",
            "        {\n",
            "            \"groupNum\": \"A4321\",\n",
            "            \"id\": 1238,\n",
            "            \"name\": \"studentB\"\n",
            "        }\n",
            "    ]\n",
            "}\n"
          ]
        }
      ]
    },
    {
      "cell_type": "code",
      "source": [
        "data_python = json.loads(data_json)\n",
        "print(data_python)\n",
        "print(type(data_python))"
      ],
      "metadata": {
        "colab": {
          "base_uri": "https://localhost:8080/"
        },
        "id": "-0AFzRMyxWOi",
        "outputId": "479f2f86-eccd-451a-c00f-e19eb8e58fc2"
      },
      "execution_count": 10,
      "outputs": [
        {
          "output_type": "stream",
          "name": "stdout",
          "text": [
            "{'student': [{'id': 1234, 'name': 'studentA', 'groupNum': 'A1234'}, {'id': 1238, 'name': 'studentB', 'groupNum': 'A4321'}], 'completed': False}\n",
            "<class 'dict'>\n"
          ]
        }
      ]
    },
    {
      "cell_type": "markdown",
      "source": [
        "Параметры метода .loads():\n",
        "*    object_hook - функция для обработки данных (по умолчанию\n",
        "object_hook = None);\n",
        "*   parse_int - функция для обработки данных похожих по типу на int (по\n",
        "умолчанию parse_int = None);\n",
        "*   parse_float - функция для обработки данных похожих по типу на float\n",
        "(по умолчанию parse_float = None);\n",
        "*   parse_constant - функция для обработки значений nan, inf, -inf (по умол-\n",
        "чанию parse_constant = None);"
      ],
      "metadata": {
        "id": "J5rltDjpxh3X"
      }
    },
    {
      "cell_type": "code",
      "source": [
        "data = '''{\n",
        "\"student\" : [\n",
        " {\n",
        "\"id\" : 1234,\n",
        " \"name\" : \"studentA\",\n",
        " \"groupNum\" : \"A1234\"\n",
        " },\n",
        " {\n",
        " \"id\" : 1000.43,\n",
        " \"name\" : \"studentB\",\n",
        " \"groupNum\" : null\n",
        " }\n",
        " ],\n",
        " \"completed\": false\n",
        " }'''"
      ],
      "metadata": {
        "id": "2foyIPNtxzb2"
      },
      "execution_count": 11,
      "outputs": []
    },
    {
      "cell_type": "code",
      "source": [
        "def TestFunction(dict):  #заменим значения ключа «name» на русский перевод, т.е. «student» заменим на «студент»\n",
        "  if dict.get(\"name\") != None:\n",
        "    dict[\"name\"] = dict[\"name\"].replace(\"student\", \"студент\")\n",
        "  return dict"
      ],
      "metadata": {
        "id": "9fnO6DzETz6H"
      },
      "execution_count": 12,
      "outputs": []
    },
    {
      "cell_type": "code",
      "source": [
        "json.loads(data, object_hook = lambda dict: TestFunction(dict))"
      ],
      "metadata": {
        "colab": {
          "base_uri": "https://localhost:8080/"
        },
        "id": "CVw4Gp5jT2Tf",
        "outputId": "bf0d0291-685f-4d7b-95fe-1f558894b37e"
      },
      "execution_count": 13,
      "outputs": [
        {
          "output_type": "execute_result",
          "data": {
            "text/plain": [
              "{'student': [{'id': 1234, 'name': 'студентA', 'groupNum': 'A1234'},\n",
              "  {'id': 1000.43, 'name': 'студентB', 'groupNum': None}],\n",
              " 'completed': False}"
            ]
          },
          "metadata": {},
          "execution_count": 13
        }
      ]
    },
    {
      "cell_type": "markdown",
      "source": [
        "Трансформация данных из формата JSON\n",
        "в словарь Python"
      ],
      "metadata": {
        "id": "GNcFa2jLhj5k"
      }
    },
    {
      "cell_type": "code",
      "source": [
        "a = 1234\n",
        "b = 1000.43\n",
        "data = {\n",
        "\"student\" : [\n",
        " {\n",
        "\"id\" : a,\n",
        " \"name\" : \"studentA\",\n",
        " \"groupNum\" : \"A1234\"\n",
        " },\n",
        " {\n",
        " \"id\" : b,\n",
        " 111 : \"studentB\",\n",
        " \"groupNum\" : None\n",
        " }\n",
        " ],\n",
        " \"completed\": False\n",
        " }\n",
        "print(\"a =\", a, type(a))\n",
        "print(\"b =\", b, type(b))\n",
        "#print(data)\n",
        "data_json = json.dumps(data) # из словаря Python в Json\n",
        "print(\"из словаря Python в Json:\", data_json)\n",
        "data_python = json.loads(data_json) # из Json в словарь Python\n",
        "print(\"из Json в словарь Python:\", data_python)\n",
        "print(\"a_new =\", data_python[\"student\"][0][\"id\"],type(data_python[\"student\"][0][\"id\"]))\n",
        "print(\"b_new =\", data_python[\"student\"][1][\"id\"],type(data_python[\"student\"][1][\"id\"]))"
      ],
      "metadata": {
        "colab": {
          "base_uri": "https://localhost:8080/"
        },
        "id": "V7dKl76QU4MO",
        "outputId": "f3dc8a48-1198-4539-f529-e9703b20afef"
      },
      "execution_count": 14,
      "outputs": [
        {
          "output_type": "stream",
          "name": "stdout",
          "text": [
            "a = 1234 <class 'int'>\n",
            "b = 1000.43 <class 'float'>\n",
            "из словаря Python в Json: {\"student\": [{\"id\": 1234, \"name\": \"studentA\", \"groupNum\": \"A1234\"}, {\"id\": 1000.43, \"111\": \"studentB\", \"groupNum\": null}], \"completed\": false}\n",
            "из Json в словарь Python: {'student': [{'id': 1234, 'name': 'studentA', 'groupNum': 'A1234'}, {'id': 1000.43, '111': 'studentB', 'groupNum': None}], 'completed': False}\n",
            "a_new = 1234 <class 'int'>\n",
            "b_new = 1000.43 <class 'float'>\n"
          ]
        }
      ]
    },
    {
      "cell_type": "markdown",
      "source": [
        "Методы .load() и .dump()"
      ],
      "metadata": {
        "id": "7h0xhvaZh1nJ"
      }
    },
    {
      "cell_type": "code",
      "source": [
        "with open(\"/content/sample_data/data.json\") as file:\n",
        " data1 = file.read() #сначала считываем данные из файла\n",
        " print(data1)\n",
        " data_json1 = json.loads(data1) # преобразуем в объект Phython\n",
        "print(data_json1)"
      ],
      "metadata": {
        "colab": {
          "base_uri": "https://localhost:8080/"
        },
        "id": "1GNRKPREiBlt",
        "outputId": "1eefadfb-edd7-464e-9974-22cae2962153"
      },
      "execution_count": 15,
      "outputs": [
        {
          "output_type": "stream",
          "name": "stdout",
          "text": [
            "{\n",
            "\"student\" : [\n",
            " {\n",
            "\"id\" : 1234,\n",
            " \"name\" : \"studentA\",\n",
            " \"groupNum\" : \"A1234\"\n",
            " },\n",
            " {\n",
            " \"id\" : 2345,\n",
            " \"name\" : \"studentB\",\n",
            " \"groupNum\" : null\n",
            " }\n",
            " ],\n",
            " \"completed\": false\n",
            " }\n",
            "{'student': [{'id': 1234, 'name': 'studentA', 'groupNum': 'A1234'}, {'id': 2345, 'name': 'studentB', 'groupNum': None}], 'completed': False}\n"
          ]
        }
      ]
    },
    {
      "cell_type": "code",
      "source": [
        "with open(\"/content/sample_data/data.json\") as file:\n",
        "# сразу читаем файл и преобразуем в объект Phython\n",
        "  data_json2 = json.load(file)\n",
        "print(data_json2)  "
      ],
      "metadata": {
        "colab": {
          "base_uri": "https://localhost:8080/"
        },
        "id": "8AAGaPmy2Ewd",
        "outputId": "f7d759a4-b7b1-4660-85d5-3fcb8f746d54"
      },
      "execution_count": 16,
      "outputs": [
        {
          "output_type": "stream",
          "name": "stdout",
          "text": [
            "{'student': [{'id': 1234, 'name': 'studentA', 'groupNum': 'A1234'}, {'id': 2345, 'name': 'studentB', 'groupNum': None}], 'completed': False}\n"
          ]
        }
      ]
    },
    {
      "cell_type": "code",
      "source": [
        "data1 = {'student': [{'id': None, 'groupNum': 1234}], 5: True} #  объект Phython\n",
        "with open(\"/content/sample_data/data.json_d\",\"w\") as file:\n",
        "  data_json_d = json.dumps(data1) # преобразуем в формат JSON\n",
        "  file.write(data_json_d) # записываем в файл"
      ],
      "metadata": {
        "id": "34sPef3b2aq0"
      },
      "execution_count": 17,
      "outputs": []
    },
    {
      "cell_type": "code",
      "source": [
        "with open(\"data.json_d\",\"w\") as file:\n",
        " json.dump(data1,file) # сразу преобразуем в формат JSON и записываем в файл"
      ],
      "metadata": {
        "id": "wdkDMYRVlvZg"
      },
      "execution_count": 18,
      "outputs": []
    }
  ]
}