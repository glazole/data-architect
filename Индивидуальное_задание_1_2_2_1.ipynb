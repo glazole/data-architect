{
  "nbformat": 4,
  "nbformat_minor": 0,
  "metadata": {
    "colab": {
      "provenance": []
    },
    "kernelspec": {
      "name": "python3",
      "display_name": "Python 3"
    },
    "language_info": {
      "name": "python"
    }
  },
  "cells": [
    {
      "cell_type": "markdown",
      "metadata": {
        "id": "JCo8Jn0hrTUs"
      },
      "source": [
        "В этом блокноте мы научимся строить столбчатые и круговые диаграммы.\n",
        "Для начала подключаем библиотеку pandas и загружаем интересующий нас [файл](https://studio.openedu.ru/assets/courseware/v1/0aa30d8da69ae54cda3cf9c4dddff6de/asset-v1:ITMOUniversity+DATANTECH2035+fall_2021+type@asset+block/var123126.xlsx) при помощи метода `read_excel`. Подробное описание можно найти по [ссылке](https://pandas.pydata.org/docs/reference/api/pandas.read_excel.html)."
      ]
    },
    {
      "cell_type": "markdown",
      "source": [
        "**Используйте файл с данными из своего варианта задания!**"
      ],
      "metadata": {
        "id": "xRJpYCJu1Yab"
      }
    },
    {
      "cell_type": "code",
      "source": [
        "link = 'https://studio.dc-edu.itmo.ru/assets/courseware/v1/be916065689e31cf0d9dfbc4659d1920/asset-v1:ITMO+DA+2023+type@asset+block/var127683.xlsx'"
      ],
      "metadata": {
        "id": "ipFuFoCeBd7y"
      },
      "execution_count": null,
      "outputs": []
    },
    {
      "cell_type": "code",
      "metadata": {
        "id": "0PmQ1OBmrOjd"
      },
      "source": [
        "import pandas as pd\n",
        "answers = pd.read_excel(link)"
      ],
      "execution_count": null,
      "outputs": []
    },
    {
      "cell_type": "markdown",
      "metadata": {
        "id": "kDi6o2r-sOFP"
      },
      "source": [
        "Посмотрим на наши данные"
      ]
    },
    {
      "cell_type": "code",
      "metadata": {
        "id": "WIJgkB8csA6N"
      },
      "source": [
        "answers"
      ],
      "execution_count": null,
      "outputs": []
    },
    {
      "cell_type": "markdown",
      "metadata": {
        "id": "TBjC1FfnsTsV"
      },
      "source": [
        "Выводим нужную колонку"
      ]
    },
    {
      "cell_type": "code",
      "source": [
        "answers[['Choice_1']]"
      ],
      "metadata": {
        "id": "9W_fUN65VDEp"
      },
      "execution_count": null,
      "outputs": []
    },
    {
      "cell_type": "markdown",
      "source": [
        "Теперь вычислим количество уникальных значений вхождения каждого из вариантов ответов"
      ],
      "metadata": {
        "id": "7XV26dZ9YB5l"
      }
    },
    {
      "cell_type": "code",
      "source": [
        "answers['Choice_1'].value_counts()"
      ],
      "metadata": {
        "id": "YMlvxSnkVH2N"
      },
      "execution_count": null,
      "outputs": []
    },
    {
      "cell_type": "markdown",
      "source": [
        "Сформируем интересущий нас набор данных"
      ],
      "metadata": {
        "id": "z07ts-TgYLfZ"
      }
    },
    {
      "cell_type": "code",
      "metadata": {
        "id": "qZFCmU4zsTCV"
      },
      "source": [
        "to_plot = pd.DataFrame(answers['Choice_1'].value_counts())\n",
        "to_plot"
      ],
      "execution_count": null,
      "outputs": []
    },
    {
      "cell_type": "markdown",
      "metadata": {
        "id": "M_XAPxAb3ART"
      },
      "source": [
        "Назовем полученную колонку именем Amount, отсортируем данные по убыванию ключа"
      ]
    },
    {
      "cell_type": "code",
      "metadata": {
        "id": "Cljm_hpcz5p1"
      },
      "source": [
        "to_plot.columns = ['Amount']\n",
        "to_plot = to_plot.sort_index()\n",
        "to_plot"
      ],
      "execution_count": null,
      "outputs": []
    },
    {
      "cell_type": "markdown",
      "metadata": {
        "id": "DwlrdLbI3qd5"
      },
      "source": [
        "Теперь построим столбчатую диаграмму:"
      ]
    },
    {
      "cell_type": "code",
      "source": [
        "import matplotlib.pyplot as plt"
      ],
      "metadata": {
        "id": "PiTLJOOCYh-S"
      },
      "execution_count": null,
      "outputs": []
    },
    {
      "cell_type": "code",
      "metadata": {
        "id": "mN00tUhmy8r5"
      },
      "source": [
        "plt.bar(to_plot.index, to_plot['Amount'])\n",
        "plt.xticks(rotation='vertical')\n",
        "plt.show()"
      ],
      "execution_count": null,
      "outputs": []
    },
    {
      "cell_type": "markdown",
      "source": [
        "Можно изменить порядок объектов, чтобы он в точности совпадал с тем, что просят в задании"
      ],
      "metadata": {
        "id": "uvzS1_P_VnNM"
      }
    },
    {
      "cell_type": "code",
      "source": [
        "vertical_stack = pd.concat([to_plot.iloc[2:], to_plot.iloc[:2]], axis=0)\n",
        "vertical_stack"
      ],
      "metadata": {
        "id": "ydJQQ0nWV9HK"
      },
      "execution_count": null,
      "outputs": []
    },
    {
      "cell_type": "markdown",
      "source": [
        "И построить саму диаграмму"
      ],
      "metadata": {
        "id": "bbbwBt2xWJWM"
      }
    },
    {
      "cell_type": "code",
      "source": [
        "plt.bar(vertical_stack.index, vertical_stack['Amount'])\n",
        "plt.xticks(rotation='vertical')\n",
        "plt.show()"
      ],
      "metadata": {
        "id": "_u16YQBtWEj-"
      },
      "execution_count": null,
      "outputs": []
    },
    {
      "cell_type": "markdown",
      "source": [
        "С форматированием индексов можно работать"
      ],
      "metadata": {
        "id": "W1CYvI1ZZDrd"
      }
    },
    {
      "cell_type": "code",
      "source": [
        "vertical_stack.index"
      ],
      "metadata": {
        "id": "YytUef-WXDqu"
      },
      "execution_count": null,
      "outputs": []
    },
    {
      "cell_type": "code",
      "source": [
        "vertical_stack.index = ['Анализ\\n текстов', 'Визуализация данных', 'Машинное обучение',\n",
        "       'Методы искусственного\\n интеллекта', 'Ничего из перечисленного',\n",
        "       'Обработка изображений', 'Статистика', 'Электронные таблицы',\n",
        "       'Big Data', 'Python']"
      ],
      "metadata": {
        "id": "ACzxLNmTXLZe"
      },
      "execution_count": null,
      "outputs": []
    },
    {
      "cell_type": "code",
      "source": [
        "plt.bar(vertical_stack.index, vertical_stack['Amount'])\n",
        "plt.xticks(rotation = 'vertical')\n",
        "plt.show()"
      ],
      "metadata": {
        "id": "69_HcHwHXdtW"
      },
      "execution_count": null,
      "outputs": []
    },
    {
      "cell_type": "markdown",
      "metadata": {
        "id": "imtmj9l33uc9"
      },
      "source": [
        "Обратимся ко второй части задания. Сначала сведем задачу к предыдущей — распрямим наш набор данных, а затем повторим все то, что уже делали ранее."
      ]
    },
    {
      "cell_type": "code",
      "source": [
        "answers"
      ],
      "metadata": {
        "id": "oYEx6pdjCjqo"
      },
      "execution_count": null,
      "outputs": []
    },
    {
      "cell_type": "code",
      "source": [
        "answers.values"
      ],
      "metadata": {
        "id": "X0TopjXsZoNx"
      },
      "execution_count": null,
      "outputs": []
    },
    {
      "cell_type": "code",
      "source": [
        "answers.values.shape"
      ],
      "metadata": {
        "id": "8eLSgQXMaAnV"
      },
      "execution_count": null,
      "outputs": []
    },
    {
      "cell_type": "markdown",
      "source": [
        "[Гайд](https://numpy.org/doc/stable/reference/generated/numpy.reshape.html) по функции `reshape()`\n",
        "\n"
      ],
      "metadata": {
        "id": "aVQ7pFQQbXg-"
      }
    },
    {
      "cell_type": "code",
      "source": [
        "answers.values.reshape(-1)"
      ],
      "metadata": {
        "id": "hCjWvFNGafNu"
      },
      "execution_count": null,
      "outputs": []
    },
    {
      "cell_type": "code",
      "source": [
        "pd.DataFrame(answers.values.reshape(-1))"
      ],
      "metadata": {
        "id": "hkMPy_kKbsWJ"
      },
      "execution_count": null,
      "outputs": []
    },
    {
      "cell_type": "code",
      "source": [
        "pd.DataFrame(answers.values.reshape(-1))[0]"
      ],
      "metadata": {
        "id": "XZEbGt0fDeV_"
      },
      "execution_count": null,
      "outputs": []
    },
    {
      "cell_type": "code",
      "source": [
        "pd.DataFrame(answers.values.reshape(-1))[0].value_counts()"
      ],
      "metadata": {
        "id": "DHVOc-RZDBBb"
      },
      "execution_count": null,
      "outputs": []
    },
    {
      "cell_type": "code",
      "metadata": {
        "id": "I-89AZ413tpn"
      },
      "source": [
        "full_to_plot = pd.DataFrame(pd.DataFrame(answers.values.reshape(-1))[0].value_counts())\n",
        "full_to_plot.columns = ['Amount']\n",
        "full_to_plot = full_to_plot.sort_index()\n",
        "full_to_plot"
      ],
      "execution_count": null,
      "outputs": []
    },
    {
      "cell_type": "markdown",
      "metadata": {
        "id": "kLXBUHbK5UXV"
      },
      "source": [
        "Теперь построим круговую диаграмму"
      ]
    },
    {
      "cell_type": "code",
      "metadata": {
        "id": "IQ-9EcI05WWE"
      },
      "source": [
        "plt.pie(full_to_plot['Amount'], labels=full_to_plot.index, autopct='%0.2f%%')\n",
        "plt.show()"
      ],
      "execution_count": null,
      "outputs": []
    },
    {
      "cell_type": "code",
      "source": [
        "plt.rcParams[\"figure.figsize\"] = (16,16)\n",
        "\n",
        "plt.subplot(1, 2, 1)\n",
        "\n",
        "plt.title('FIRST PLOT')\n",
        "plt.pie(full_to_plot['Amount'], labels=full_to_plot.index, autopct='%0.2f%%')\n",
        "\n",
        "plt.subplot(1, 2, 2)\n",
        "plt.title('SECOND PLOT')\n",
        "plt.pie(full_to_plot['Amount'], labels=full_to_plot.index, autopct='%0.0f%%', rotatelabels=True)\n",
        "\n",
        "plt.tight_layout()\n",
        "\n",
        "plt.show()"
      ],
      "metadata": {
        "id": "A3WbrXwscRyg"
      },
      "execution_count": null,
      "outputs": []
    },
    {
      "cell_type": "code",
      "source": [],
      "metadata": {
        "id": "zmkXzyH1cfM6"
      },
      "execution_count": null,
      "outputs": []
    }
  ]
}