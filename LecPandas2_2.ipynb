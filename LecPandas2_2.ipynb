{
  "cells": [
    {
      "cell_type": "markdown",
      "source": [
        "---\n",
        "\n",
        "# Основные структуры в Pandas"
      ],
      "metadata": {
        "collapsed": false,
        "id": "NCrn1fQ7Pv_e"
      }
    },
    {
      "cell_type": "markdown",
      "source": [
        "---\n",
        "\n",
        "Импортируем библиотеки $\\mathsf{numpy}$, $\\mathsf{pandas}$, а также класс $\\mathsf{Series}$:"
      ],
      "metadata": {
        "collapsed": false,
        "id": "qfpm4lfgPv_g"
      }
    },
    {
      "cell_type": "code",
      "execution_count": 1,
      "outputs": [],
      "source": [
        "import pandas as pd\n",
        "import numpy as np\n",
        "from pandas import Series, DataFrame"
      ],
      "metadata": {
        "id": "SuEVf5ZePv_h"
      }
    },
    {
      "cell_type": "markdown",
      "source": [
        "---\n",
        "\n",
        "### 1.3 | Обработка данных"
      ],
      "metadata": {
        "collapsed": false,
        "id": "NSsWi0GIPv_t"
      }
    },
    {
      "cell_type": "markdown",
      "source": [
        "---\n",
        "\n",
        "Как и в $\\mathsf{numpy}$, $\\mathsf{pandas}$ поддерживает так называемые маски, которые можно получить следующим образом:"
      ],
      "metadata": {
        "collapsed": false,
        "id": "yqE-nUajPv_t"
      }
    },
    {
      "cell_type": "code",
      "execution_count": 2,
      "outputs": [
        {
          "output_type": "execute_result",
          "data": {
            "text/plain": [
              "0   -3\n",
              "1    0\n",
              "2    1\n",
              "3    4\n",
              "dtype: int64"
            ]
          },
          "metadata": {},
          "execution_count": 2
        }
      ],
      "source": [
        "s = Series([-3, 0, 1, 4])\n",
        "s"
      ],
      "metadata": {
        "colab": {
          "base_uri": "https://localhost:8080/"
        },
        "id": "OJgPCr5ePv_t",
        "outputId": "dcc23639-2af5-4d14-90a5-f0f06708cf51"
      }
    },
    {
      "cell_type": "code",
      "execution_count": 3,
      "outputs": [
        {
          "output_type": "execute_result",
          "data": {
            "text/plain": [
              "0    False\n",
              "1    False\n",
              "2     True\n",
              "3     True\n",
              "dtype: bool"
            ]
          },
          "metadata": {},
          "execution_count": 3
        }
      ],
      "source": [
        "s > 0"
      ],
      "metadata": {
        "colab": {
          "base_uri": "https://localhost:8080/"
        },
        "id": "QHDmvsXzPv_t",
        "outputId": "32d9e305-bd0c-4124-fea4-29c9a7374f1e"
      }
    },
    {
      "cell_type": "code",
      "execution_count": 4,
      "outputs": [
        {
          "output_type": "execute_result",
          "data": {
            "text/plain": [
              "2    1\n",
              "3    4\n",
              "dtype: int64"
            ]
          },
          "metadata": {},
          "execution_count": 4
        }
      ],
      "source": [
        "s[s > 0]"
      ],
      "metadata": {
        "colab": {
          "base_uri": "https://localhost:8080/"
        },
        "id": "eW6GmCIhPv_t",
        "outputId": "01a3d838-9088-4714-e37a-b84a18ea2f2f"
      }
    },
    {
      "cell_type": "markdown",
      "source": [
        "Можно писать и более сложные условия фильтрации:"
      ],
      "metadata": {
        "collapsed": false,
        "id": "58pNisjkPv_u"
      }
    },
    {
      "cell_type": "code",
      "execution_count": 5,
      "outputs": [
        {
          "output_type": "execute_result",
          "data": {
            "text/plain": [
              "0   -3\n",
              "2    1\n",
              "3    4\n",
              "dtype: int64"
            ]
          },
          "metadata": {},
          "execution_count": 5
        }
      ],
      "source": [
        "s[(s > 0) | (s == -3)]"
      ],
      "metadata": {
        "colab": {
          "base_uri": "https://localhost:8080/"
        },
        "id": "lcZvOG4XPv_u",
        "outputId": "f78b1d61-21c6-44df-ce41-da626fecb46c"
      }
    },
    {
      "cell_type": "code",
      "execution_count": 6,
      "outputs": [
        {
          "output_type": "execute_result",
          "data": {
            "text/plain": [
              "0   -3\n",
              "3    4\n",
              "dtype: int64"
            ]
          },
          "metadata": {},
          "execution_count": 6
        }
      ],
      "source": [
        "s[(abs(s) > 0) & (s != 1)]"
      ],
      "metadata": {
        "colab": {
          "base_uri": "https://localhost:8080/"
        },
        "id": "57TPchnePv_u",
        "outputId": "b2bf49f1-fdd6-41fd-8cfc-d76d2ff726ea"
      }
    },
    {
      "cell_type": "markdown",
      "source": [
        "---\n",
        "\n",
        "Также существуют такие методы, как $\\mathsf{where}$ и $\\mathsf{mask}$. Первый принимает маску, и те элементы, которые не попали под её условие, заменяет на значение $\\mathsf{NaN}$. Второй делает наоборот: заменяет попавшие под условие элементы на $\\mathsf{NaN}$, а остальные оставляет, как есть:"
      ],
      "metadata": {
        "collapsed": false,
        "id": "mSuVWU02Pv_u"
      }
    },
    {
      "cell_type": "code",
      "execution_count": 7,
      "outputs": [
        {
          "output_type": "execute_result",
          "data": {
            "text/plain": [
              "0   -3\n",
              "1    0\n",
              "2    1\n",
              "3    4\n",
              "dtype: int64"
            ]
          },
          "metadata": {},
          "execution_count": 7
        }
      ],
      "source": [
        "s"
      ],
      "metadata": {
        "colab": {
          "base_uri": "https://localhost:8080/"
        },
        "id": "-N38jxuBPv_u",
        "outputId": "47ba8c51-843a-4cda-f3d1-33cb52c1663e"
      }
    },
    {
      "cell_type": "code",
      "execution_count": 8,
      "outputs": [
        {
          "output_type": "execute_result",
          "data": {
            "text/plain": [
              "0    NaN\n",
              "1    NaN\n",
              "2    1.0\n",
              "3    4.0\n",
              "dtype: float64"
            ]
          },
          "metadata": {},
          "execution_count": 8
        }
      ],
      "source": [
        "s.where(s > 0)"
      ],
      "metadata": {
        "colab": {
          "base_uri": "https://localhost:8080/"
        },
        "id": "VkMz0UzpPv_v",
        "outputId": "6f66af0f-5502-4848-f090-45647683a337"
      }
    },
    {
      "cell_type": "code",
      "execution_count": 9,
      "outputs": [
        {
          "output_type": "execute_result",
          "data": {
            "text/plain": [
              "0   -3.0\n",
              "1    0.0\n",
              "2    NaN\n",
              "3    NaN\n",
              "dtype: float64"
            ]
          },
          "metadata": {},
          "execution_count": 9
        }
      ],
      "source": [
        "s.mask(s > 0)"
      ],
      "metadata": {
        "colab": {
          "base_uri": "https://localhost:8080/"
        },
        "id": "7vRVhGTTPv_v",
        "outputId": "19f904fd-2b50-4268-c026-284c979eaec9"
      }
    },
    {
      "cell_type": "markdown",
      "source": [
        "При этом, если вторым параметром при вызове метода подать какое-то значение, то вместо замены на $\\mathsf{NaN}$ соответствующие элементы заменятся на это значение:"
      ],
      "metadata": {
        "collapsed": false,
        "id": "CPZikuN2Pv_v"
      }
    },
    {
      "cell_type": "code",
      "execution_count": 10,
      "outputs": [
        {
          "output_type": "execute_result",
          "data": {
            "text/plain": [
              "0   -10\n",
              "1   -10\n",
              "2     1\n",
              "3     4\n",
              "dtype: int64"
            ]
          },
          "metadata": {},
          "execution_count": 10
        }
      ],
      "source": [
        "s.where(s > 0, -10)"
      ],
      "metadata": {
        "colab": {
          "base_uri": "https://localhost:8080/"
        },
        "id": "gaJy3pvdPv_v",
        "outputId": "946bcd63-a26c-409e-cfea-95b3e6fadcc4"
      }
    },
    {
      "cell_type": "code",
      "execution_count": 11,
      "outputs": [
        {
          "output_type": "execute_result",
          "data": {
            "text/plain": [
              "0    -3\n",
              "1     0\n",
              "2   -10\n",
              "3   -10\n",
              "dtype: int64"
            ]
          },
          "metadata": {},
          "execution_count": 11
        }
      ],
      "source": [
        "s.mask(s > 0, -10)"
      ],
      "metadata": {
        "colab": {
          "base_uri": "https://localhost:8080/"
        },
        "id": "aae0VdjrPv_v",
        "outputId": "fe16ab05-be5b-42ea-fa5c-07bd66284291"
      }
    },
    {
      "cell_type": "markdown",
      "source": [
        "---\n",
        "\n",
        "### 1.4 | Некоторые операции"
      ],
      "metadata": {
        "collapsed": false,
        "id": "jCNZxKJxPv_v"
      }
    },
    {
      "cell_type": "markdown",
      "source": [
        "---\n",
        "\n",
        "Для замены $\\mathsf{NaN}$ значений на другое значение существует метод $\\mathsf{fillna}$:"
      ],
      "metadata": {
        "collapsed": false,
        "id": "1dLiGMquPv_v"
      }
    },
    {
      "cell_type": "code",
      "execution_count": 12,
      "outputs": [
        {
          "output_type": "execute_result",
          "data": {
            "text/plain": [
              "0    NaN\n",
              "1    1.0\n",
              "2    2.0\n",
              "3    NaN\n",
              "4    4.0\n",
              "dtype: float64"
            ]
          },
          "metadata": {},
          "execution_count": 12
        }
      ],
      "source": [
        "s = Series([np.nan, 1, 2, np.nan, 4])\n",
        "s"
      ],
      "metadata": {
        "colab": {
          "base_uri": "https://localhost:8080/"
        },
        "id": "9rGHK0VjPv_v",
        "outputId": "4c2b0ba4-4465-4016-e437-dcf219904f40"
      }
    },
    {
      "cell_type": "code",
      "execution_count": 13,
      "outputs": [
        {
          "output_type": "execute_result",
          "data": {
            "text/plain": [
              "0    0.0\n",
              "1    1.0\n",
              "2    2.0\n",
              "3    0.0\n",
              "4    4.0\n",
              "dtype: float64"
            ]
          },
          "metadata": {},
          "execution_count": 13
        }
      ],
      "source": [
        "s.fillna(0)"
      ],
      "metadata": {
        "colab": {
          "base_uri": "https://localhost:8080/"
        },
        "id": "G4us-_vAPv_v",
        "outputId": "0103ef50-04f3-4838-a333-3d434efd9c57"
      }
    },
    {
      "cell_type": "markdown",
      "source": [
        "---\n",
        "\n",
        "Сами по себе фильтрующие методы не представляют ценности, потому что чаще нам нужно получить что-то, что реально описываем сами данные: среднее, медиану, дисперсию и т.п. Для этого существуют такие встроенные функции, как, например: $\\mathsf{unique}$, $\\mathsf{min}$, $\\mathsf{max}$, $\\mathsf{mean}$, $\\mathsf{sum}$, $\\mathsf{std}$ и т.д.:"
      ],
      "metadata": {
        "collapsed": false,
        "id": "mjCFkUv2Pv_w"
      }
    },
    {
      "cell_type": "code",
      "execution_count": 14,
      "outputs": [
        {
          "output_type": "execute_result",
          "data": {
            "text/plain": [
              "0    0.0\n",
              "1    1.0\n",
              "2    2.0\n",
              "3    0.0\n",
              "4    4.0\n",
              "dtype: float64"
            ]
          },
          "metadata": {},
          "execution_count": 14
        }
      ],
      "source": [
        "s = s.fillna(0)\n",
        "s"
      ],
      "metadata": {
        "colab": {
          "base_uri": "https://localhost:8080/"
        },
        "id": "x61kfxEEPv_w",
        "outputId": "feea2370-e9fb-49f1-9e3f-7502c302716a"
      }
    },
    {
      "cell_type": "code",
      "execution_count": 15,
      "outputs": [
        {
          "output_type": "execute_result",
          "data": {
            "text/plain": [
              "array([0., 1., 2., 4.])"
            ]
          },
          "metadata": {},
          "execution_count": 15
        }
      ],
      "source": [
        "s.unique()"
      ],
      "metadata": {
        "colab": {
          "base_uri": "https://localhost:8080/"
        },
        "id": "SZm0JxEOPv_w",
        "outputId": "fa82e9ee-afbf-48af-af25-d2446b5fb987"
      }
    },
    {
      "cell_type": "code",
      "execution_count": 16,
      "outputs": [
        {
          "output_type": "execute_result",
          "data": {
            "text/plain": [
              "(0.0, 4.0)"
            ]
          },
          "metadata": {},
          "execution_count": 16
        }
      ],
      "source": [
        "s.min(), s.max()"
      ],
      "metadata": {
        "colab": {
          "base_uri": "https://localhost:8080/"
        },
        "id": "DxksF6mMPv_w",
        "outputId": "99fcbd63-d974-4a28-9da4-ed87dc90f304"
      }
    },
    {
      "cell_type": "code",
      "execution_count": 17,
      "outputs": [
        {
          "output_type": "execute_result",
          "data": {
            "text/plain": [
              "(1.4, 1.0)"
            ]
          },
          "metadata": {},
          "execution_count": 17
        }
      ],
      "source": [
        "s.mean(), s.median()"
      ],
      "metadata": {
        "colab": {
          "base_uri": "https://localhost:8080/"
        },
        "id": "xJAzhDPsPv_w",
        "outputId": "451c58c1-9cc7-42f6-d8a2-d2970c4d46e4"
      }
    },
    {
      "cell_type": "code",
      "execution_count": 18,
      "outputs": [
        {
          "output_type": "execute_result",
          "data": {
            "text/plain": [
              "(7.0, 1.6733200530681511)"
            ]
          },
          "metadata": {},
          "execution_count": 18
        }
      ],
      "source": [
        "s.sum(), s.std()"
      ],
      "metadata": {
        "colab": {
          "base_uri": "https://localhost:8080/"
        },
        "id": "XSsY1a-WPv_w",
        "outputId": "00bad0a5-086f-4c62-b6cb-c274fff39f7c"
      }
    },
    {
      "cell_type": "markdown",
      "source": [
        "---\n",
        "\n",
        "Для просмотра большей части этой информации есть метод $\\mathsf{describe}$, который в том числе показывает нам квартили:"
      ],
      "metadata": {
        "collapsed": false,
        "id": "qTjlij-0Pv_w"
      }
    },
    {
      "cell_type": "code",
      "execution_count": 19,
      "outputs": [
        {
          "output_type": "execute_result",
          "data": {
            "text/plain": [
              "count    5.00000\n",
              "mean     1.40000\n",
              "std      1.67332\n",
              "min      0.00000\n",
              "25%      0.00000\n",
              "50%      1.00000\n",
              "75%      2.00000\n",
              "max      4.00000\n",
              "dtype: float64"
            ]
          },
          "metadata": {},
          "execution_count": 19
        }
      ],
      "source": [
        "s.describe()"
      ],
      "metadata": {
        "colab": {
          "base_uri": "https://localhost:8080/"
        },
        "id": "66wdntHCPv_w",
        "outputId": "0402c17d-599d-406c-9cec-01a85c7d6b64"
      }
    },
    {
      "cell_type": "markdown",
      "source": [
        "---\n",
        "\n",
        "Серии так же, как и $\\mathsf{np.array}$, содержат поля, отвечающие за количество элементов и саму форму серии:"
      ],
      "metadata": {
        "collapsed": false,
        "id": "HRBqqmgxPv_w"
      }
    },
    {
      "cell_type": "code",
      "execution_count": 20,
      "outputs": [
        {
          "output_type": "execute_result",
          "data": {
            "text/plain": [
              "5"
            ]
          },
          "metadata": {},
          "execution_count": 20
        }
      ],
      "source": [
        "s.size"
      ],
      "metadata": {
        "colab": {
          "base_uri": "https://localhost:8080/"
        },
        "id": "2iKdMYPtPv_w",
        "outputId": "61ae1900-15e3-429b-d632-3f35e4827064"
      }
    },
    {
      "cell_type": "code",
      "execution_count": 21,
      "outputs": [
        {
          "output_type": "execute_result",
          "data": {
            "text/plain": [
              "(5,)"
            ]
          },
          "metadata": {},
          "execution_count": 21
        }
      ],
      "source": [
        "s.shape"
      ],
      "metadata": {
        "colab": {
          "base_uri": "https://localhost:8080/"
        },
        "id": "5Qn4b3mIPv_x",
        "outputId": "76b8eda4-879c-499f-e6b8-5dc95e0c7cf0"
      }
    },
    {
      "cell_type": "markdown",
      "source": [
        "---\n",
        "\n",
        "Абсолютно аналогично с $\\mathsf{numpy}$ в $\\mathsf{pandas}$ устроены операции над сериями, как сложение друг с другом, сложение с числом, умножение на число и т.п.:"
      ],
      "metadata": {
        "collapsed": false,
        "id": "DELKFJJXPv_x"
      }
    },
    {
      "cell_type": "code",
      "execution_count": 22,
      "outputs": [
        {
          "output_type": "execute_result",
          "data": {
            "text/plain": [
              "0    1\n",
              "1    2\n",
              "2    3\n",
              "3    4\n",
              "4    5\n",
              "dtype: int64"
            ]
          },
          "metadata": {},
          "execution_count": 22
        }
      ],
      "source": [
        "s1 = Series([1, 2, 3, 4, 5])\n",
        "s1"
      ],
      "metadata": {
        "colab": {
          "base_uri": "https://localhost:8080/"
        },
        "id": "jno_TFj_Pv_x",
        "outputId": "c8069a95-be1a-4355-dad1-3d980bc06d8c"
      }
    },
    {
      "cell_type": "code",
      "execution_count": 23,
      "outputs": [
        {
          "output_type": "execute_result",
          "data": {
            "text/plain": [
              "0     0\n",
              "1    13\n",
              "2     4\n",
              "3     0\n",
              "4    12\n",
              "dtype: int64"
            ]
          },
          "metadata": {},
          "execution_count": 23
        }
      ],
      "source": [
        "s2 = Series([0, 13, 4, 0, 12])\n",
        "s2"
      ],
      "metadata": {
        "colab": {
          "base_uri": "https://localhost:8080/"
        },
        "id": "hzumEvioPv_x",
        "outputId": "b4239438-53f1-481c-f7af-016aed395ad6"
      }
    },
    {
      "cell_type": "code",
      "execution_count": 24,
      "outputs": [
        {
          "output_type": "execute_result",
          "data": {
            "text/plain": [
              "0     1\n",
              "1    15\n",
              "2     7\n",
              "3     4\n",
              "4    17\n",
              "dtype: int64"
            ]
          },
          "metadata": {},
          "execution_count": 24
        }
      ],
      "source": [
        "s1 + s2"
      ],
      "metadata": {
        "colab": {
          "base_uri": "https://localhost:8080/"
        },
        "id": "idPwMAIwPv_x",
        "outputId": "64d44177-9330-47c9-fc57-91cece157f4d"
      }
    },
    {
      "cell_type": "code",
      "execution_count": 25,
      "outputs": [
        {
          "output_type": "execute_result",
          "data": {
            "text/plain": [
              "0    101\n",
              "1    102\n",
              "2    103\n",
              "3    104\n",
              "4    105\n",
              "dtype: int64"
            ]
          },
          "metadata": {},
          "execution_count": 25
        }
      ],
      "source": [
        "s1 + 100"
      ],
      "metadata": {
        "colab": {
          "base_uri": "https://localhost:8080/"
        },
        "id": "cg-Cchv8Pv_x",
        "outputId": "7613d0e4-4f56-499f-9d4f-2c21e248772a"
      }
    },
    {
      "cell_type": "code",
      "execution_count": 26,
      "outputs": [
        {
          "output_type": "execute_result",
          "data": {
            "text/plain": [
              "0     2\n",
              "1     4\n",
              "2     6\n",
              "3     8\n",
              "4    10\n",
              "dtype: int64"
            ]
          },
          "metadata": {},
          "execution_count": 26
        }
      ],
      "source": [
        "s1 * 2"
      ],
      "metadata": {
        "colab": {
          "base_uri": "https://localhost:8080/"
        },
        "id": "bMiBw-5QPv_x",
        "outputId": "416c8c9b-28e6-4fdf-d4c8-28ac5b4c0333"
      }
    },
    {
      "cell_type": "code",
      "execution_count": 27,
      "outputs": [
        {
          "output_type": "execute_result",
          "data": {
            "text/plain": [
              "0     0\n",
              "1    26\n",
              "2    12\n",
              "3     0\n",
              "4    60\n",
              "dtype: int64"
            ]
          },
          "metadata": {},
          "execution_count": 27
        }
      ],
      "source": [
        "s1 * s2"
      ],
      "metadata": {
        "colab": {
          "base_uri": "https://localhost:8080/"
        },
        "id": "H8lrh2WjPv_x",
        "outputId": "03ad65c1-8653-4542-bf61-5465dee8d567"
      }
    },
    {
      "cell_type": "code",
      "execution_count": 28,
      "outputs": [
        {
          "output_type": "execute_result",
          "data": {
            "text/plain": [
              "0     1\n",
              "1     4\n",
              "2     9\n",
              "3    16\n",
              "4    25\n",
              "dtype: int64"
            ]
          },
          "metadata": {},
          "execution_count": 28
        }
      ],
      "source": [
        "s1 ** 2"
      ],
      "metadata": {
        "colab": {
          "base_uri": "https://localhost:8080/"
        },
        "id": "EK_oz1sCPv_x",
        "outputId": "83f1f3d3-d6db-466b-b499-1031641884fd"
      }
    },
    {
      "cell_type": "code",
      "execution_count": 29,
      "outputs": [
        {
          "output_type": "execute_result",
          "data": {
            "text/plain": [
              "0            1\n",
              "1         8192\n",
              "2           81\n",
              "3            1\n",
              "4    244140625\n",
              "dtype: int64"
            ]
          },
          "metadata": {},
          "execution_count": 29
        }
      ],
      "source": [
        "s1 ** s2"
      ],
      "metadata": {
        "colab": {
          "base_uri": "https://localhost:8080/"
        },
        "id": "-Dpz-6NrPv_x",
        "outputId": "282e503f-50e1-40a9-e43e-522767826e53"
      }
    }
  ],
  "metadata": {
    "kernelspec": {
      "display_name": "Python 3",
      "language": "python",
      "name": "python3"
    },
    "language_info": {
      "codemirror_mode": {
        "name": "ipython",
        "version": 2
      },
      "file_extension": ".py",
      "mimetype": "text/x-python",
      "name": "python",
      "nbconvert_exporter": "python",
      "pygments_lexer": "ipython2",
      "version": "2.7.6"
    },
    "colab": {
      "provenance": []
    }
  },
  "nbformat": 4,
  "nbformat_minor": 0
}