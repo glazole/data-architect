{
  "cells": [
    {
      "cell_type": "markdown",
      "source": [
        "---\n",
        "\n",
        "# Анализ данных в Pandas"
      ],
      "metadata": {
        "collapsed": false,
        "id": "vcWHNCagHo46"
      }
    },
    {
      "cell_type": "markdown",
      "source": [
        "---\n",
        "\n",
        "## 1 | Немного о природе данных"
      ],
      "metadata": {
        "collapsed": false,
        "id": "MZIFcnuCHo48"
      }
    },
    {
      "cell_type": "markdown",
      "source": [
        "---\n",
        "\n",
        "Импортируем библиотеки и загрузим данные:"
      ],
      "metadata": {
        "collapsed": false,
        "id": "z6b7ATAoHo48"
      }
    },
    {
      "cell_type": "code",
      "execution_count": 1,
      "metadata": {
        "collapsed": true,
        "id": "SFHUTT3PHo49"
      },
      "outputs": [],
      "source": [
        "import pandas as pd\n",
        "import numpy as np"
      ]
    },
    {
      "cell_type": "code",
      "execution_count": 2,
      "outputs": [
        {
          "output_type": "stream",
          "name": "stdout",
          "text": [
            "Index(['id', 'Город', 'Район', 'Улица', 'Геометка_дома', 'Тип_сделки',\n",
            "       'Срок_аренды', 'Цена', 'Тип_дома', 'Количество_комнат', 'Общая_площадь',\n",
            "       'Количество_этажей', 'Материал_стен', 'Тип_продажи', 'Дата',\n",
            "       'Площадь_кухни', 'Жилая_площадь', 'Этаж'],\n",
            "      dtype='object')\n"
          ]
        }
      ],
      "source": [
        "df = pd.read_csv('/content/sample_data/avito_flats.csv', sep=';', index_col=0)\n",
        "print(df.columns)"
      ],
      "metadata": {
        "colab": {
          "base_uri": "https://localhost:8080/"
        },
        "id": "jurFJqUrHo49",
        "outputId": "7164033f-0b11-4b84-a552-71821c7a64c2"
      }
    },
    {
      "cell_type": "markdown",
      "source": [
        "---\n",
        "\n",
        "### 1.2 | Описательные статистики"
      ],
      "metadata": {
        "collapsed": false,
        "id": "S9Tk7MGqHo4-"
      }
    },
    {
      "cell_type": "markdown",
      "source": [
        "Узнаем среднюю площадь квартир по количеству комнат с кирпичными стенами:"
      ],
      "metadata": {
        "collapsed": false,
        "id": "Dj6jKPBnHo4-"
      }
    },
    {
      "cell_type": "code",
      "execution_count": 3,
      "outputs": [
        {
          "output_type": "execute_result",
          "data": {
            "text/plain": [
              "                   Общая_площадь\n",
              "Количество_комнат               \n",
              "1                      38.907625\n",
              "2                      61.601440\n",
              "3                      93.072085\n",
              "4                     120.500000\n",
              "5                     230.100000\n",
              "своб. планировка       58.000000\n",
              "студия                 26.714849"
            ],
            "text/html": [
              "\n",
              "  <div id=\"df-1ae0a714-518d-4726-83e3-99f15ee8328a\">\n",
              "    <div class=\"colab-df-container\">\n",
              "      <div>\n",
              "<style scoped>\n",
              "    .dataframe tbody tr th:only-of-type {\n",
              "        vertical-align: middle;\n",
              "    }\n",
              "\n",
              "    .dataframe tbody tr th {\n",
              "        vertical-align: top;\n",
              "    }\n",
              "\n",
              "    .dataframe thead th {\n",
              "        text-align: right;\n",
              "    }\n",
              "</style>\n",
              "<table border=\"1\" class=\"dataframe\">\n",
              "  <thead>\n",
              "    <tr style=\"text-align: right;\">\n",
              "      <th></th>\n",
              "      <th>Общая_площадь</th>\n",
              "    </tr>\n",
              "    <tr>\n",
              "      <th>Количество_комнат</th>\n",
              "      <th></th>\n",
              "    </tr>\n",
              "  </thead>\n",
              "  <tbody>\n",
              "    <tr>\n",
              "      <th>1</th>\n",
              "      <td>38.907625</td>\n",
              "    </tr>\n",
              "    <tr>\n",
              "      <th>2</th>\n",
              "      <td>61.601440</td>\n",
              "    </tr>\n",
              "    <tr>\n",
              "      <th>3</th>\n",
              "      <td>93.072085</td>\n",
              "    </tr>\n",
              "    <tr>\n",
              "      <th>4</th>\n",
              "      <td>120.500000</td>\n",
              "    </tr>\n",
              "    <tr>\n",
              "      <th>5</th>\n",
              "      <td>230.100000</td>\n",
              "    </tr>\n",
              "    <tr>\n",
              "      <th>своб. планировка</th>\n",
              "      <td>58.000000</td>\n",
              "    </tr>\n",
              "    <tr>\n",
              "      <th>студия</th>\n",
              "      <td>26.714849</td>\n",
              "    </tr>\n",
              "  </tbody>\n",
              "</table>\n",
              "</div>\n",
              "      <button class=\"colab-df-convert\" onclick=\"convertToInteractive('df-1ae0a714-518d-4726-83e3-99f15ee8328a')\"\n",
              "              title=\"Convert this dataframe to an interactive table.\"\n",
              "              style=\"display:none;\">\n",
              "        \n",
              "  <svg xmlns=\"http://www.w3.org/2000/svg\" height=\"24px\"viewBox=\"0 0 24 24\"\n",
              "       width=\"24px\">\n",
              "    <path d=\"M0 0h24v24H0V0z\" fill=\"none\"/>\n",
              "    <path d=\"M18.56 5.44l.94 2.06.94-2.06 2.06-.94-2.06-.94-.94-2.06-.94 2.06-2.06.94zm-11 1L8.5 8.5l.94-2.06 2.06-.94-2.06-.94L8.5 2.5l-.94 2.06-2.06.94zm10 10l.94 2.06.94-2.06 2.06-.94-2.06-.94-.94-2.06-.94 2.06-2.06.94z\"/><path d=\"M17.41 7.96l-1.37-1.37c-.4-.4-.92-.59-1.43-.59-.52 0-1.04.2-1.43.59L10.3 9.45l-7.72 7.72c-.78.78-.78 2.05 0 2.83L4 21.41c.39.39.9.59 1.41.59.51 0 1.02-.2 1.41-.59l7.78-7.78 2.81-2.81c.8-.78.8-2.07 0-2.86zM5.41 20L4 18.59l7.72-7.72 1.47 1.35L5.41 20z\"/>\n",
              "  </svg>\n",
              "      </button>\n",
              "      \n",
              "  <style>\n",
              "    .colab-df-container {\n",
              "      display:flex;\n",
              "      flex-wrap:wrap;\n",
              "      gap: 12px;\n",
              "    }\n",
              "\n",
              "    .colab-df-convert {\n",
              "      background-color: #E8F0FE;\n",
              "      border: none;\n",
              "      border-radius: 50%;\n",
              "      cursor: pointer;\n",
              "      display: none;\n",
              "      fill: #1967D2;\n",
              "      height: 32px;\n",
              "      padding: 0 0 0 0;\n",
              "      width: 32px;\n",
              "    }\n",
              "\n",
              "    .colab-df-convert:hover {\n",
              "      background-color: #E2EBFA;\n",
              "      box-shadow: 0px 1px 2px rgba(60, 64, 67, 0.3), 0px 1px 3px 1px rgba(60, 64, 67, 0.15);\n",
              "      fill: #174EA6;\n",
              "    }\n",
              "\n",
              "    [theme=dark] .colab-df-convert {\n",
              "      background-color: #3B4455;\n",
              "      fill: #D2E3FC;\n",
              "    }\n",
              "\n",
              "    [theme=dark] .colab-df-convert:hover {\n",
              "      background-color: #434B5C;\n",
              "      box-shadow: 0px 1px 3px 1px rgba(0, 0, 0, 0.15);\n",
              "      filter: drop-shadow(0px 1px 2px rgba(0, 0, 0, 0.3));\n",
              "      fill: #FFFFFF;\n",
              "    }\n",
              "  </style>\n",
              "\n",
              "      <script>\n",
              "        const buttonEl =\n",
              "          document.querySelector('#df-1ae0a714-518d-4726-83e3-99f15ee8328a button.colab-df-convert');\n",
              "        buttonEl.style.display =\n",
              "          google.colab.kernel.accessAllowed ? 'block' : 'none';\n",
              "\n",
              "        async function convertToInteractive(key) {\n",
              "          const element = document.querySelector('#df-1ae0a714-518d-4726-83e3-99f15ee8328a');\n",
              "          const dataTable =\n",
              "            await google.colab.kernel.invokeFunction('convertToInteractive',\n",
              "                                                     [key], {});\n",
              "          if (!dataTable) return;\n",
              "\n",
              "          const docLinkHtml = 'Like what you see? Visit the ' +\n",
              "            '<a target=\"_blank\" href=https://colab.research.google.com/notebooks/data_table.ipynb>data table notebook</a>'\n",
              "            + ' to learn more about interactive tables.';\n",
              "          element.innerHTML = '';\n",
              "          dataTable['output_type'] = 'display_data';\n",
              "          await google.colab.output.renderOutput(dataTable, element);\n",
              "          const docLink = document.createElement('div');\n",
              "          docLink.innerHTML = docLinkHtml;\n",
              "          element.appendChild(docLink);\n",
              "        }\n",
              "      </script>\n",
              "    </div>\n",
              "  </div>\n",
              "  "
            ]
          },
          "metadata": {},
          "execution_count": 3
        }
      ],
      "source": [
        "df[df['Материал_стен'] == 'кирпичный'] \\\n",
        "    .groupby('Количество_комнат') \\\n",
        "    .agg({'Общая_площадь': 'mean'})"
      ],
      "metadata": {
        "colab": {
          "base_uri": "https://localhost:8080/",
          "height": 300
        },
        "id": "eN-sFFXJHo4-",
        "outputId": "d77b3fb2-baff-463f-89c0-139f6dcc6040"
      }
    },
    {
      "cell_type": "markdown",
      "source": [
        "---\n",
        "\n",
        "### 1.3 | Предобработка данных"
      ],
      "metadata": {
        "collapsed": false,
        "id": "UNfNZ_yvHo4_"
      }
    },
    {
      "cell_type": "markdown",
      "source": [
        "---\n",
        "\n",
        "Заменим все ячейки со значением 'Не указано' на $\\mathsf{np.nan}$, преобразуем такие строки с ценой, как '9 616 960' к '9616960', а также преобразуем все численные данные к типу $\\mathsf{np.float64}$:"
      ],
      "metadata": {
        "collapsed": false,
        "id": "jFv_07sQHo4_"
      }
    },
    {
      "cell_type": "code",
      "execution_count": 4,
      "outputs": [
        {
          "output_type": "execute_result",
          "data": {
            "text/plain": [
              "0    12.2\n",
              "1    27.0\n",
              "2     NaN\n",
              "3    24.4\n",
              "4    37.7\n",
              "Name: Жилая_площадь, dtype: float64"
            ]
          },
          "metadata": {},
          "execution_count": 4
        }
      ],
      "source": [
        "df = df.replace('Не указано', np.nan)\n",
        "df['Цена'] = df['Цена'].str.replace(' ', '')\n",
        "\n",
        "df = df.astype({'Цена': np.float64, 'Общая_площадь': np.float64,\n",
        "                'Площадь_кухни': np.float64, 'Жилая_площадь': np.float64})\n",
        "df['Жилая_площадь'].head()"
      ],
      "metadata": {
        "colab": {
          "base_uri": "https://localhost:8080/"
        },
        "id": "Y9SXbPb2Ho4_",
        "outputId": "5ce672f0-a4c3-4c84-a9e5-e7ab0807014b"
      }
    },
    {
      "cell_type": "markdown",
      "source": [
        "---\n",
        "\n",
        "Рассмотрим уникальные значения некоторых колонок, чтобы отсеять бесполезные признаки:"
      ],
      "metadata": {
        "collapsed": false,
        "id": "MD8Q8c7sHo4_"
      }
    },
    {
      "cell_type": "code",
      "execution_count": 5,
      "outputs": [
        {
          "output_type": "execute_result",
          "data": {
            "text/plain": [
              "array(['Продажа'], dtype=object)"
            ]
          },
          "metadata": {},
          "execution_count": 5
        }
      ],
      "source": [
        "df['Тип_сделки'].unique()"
      ],
      "metadata": {
        "colab": {
          "base_uri": "https://localhost:8080/"
        },
        "id": "tq1BuYRIHo5A",
        "outputId": "f310ce01-0f75-4dcc-f154-863a3b5c3639"
      }
    },
    {
      "cell_type": "code",
      "execution_count": 6,
      "outputs": [
        {
          "output_type": "execute_result",
          "data": {
            "text/plain": [
              "array(['Не аренда'], dtype=object)"
            ]
          },
          "metadata": {},
          "execution_count": 6
        }
      ],
      "source": [
        "df['Срок_аренды'].unique()"
      ],
      "metadata": {
        "colab": {
          "base_uri": "https://localhost:8080/"
        },
        "id": "DNNwdi3hHo5A",
        "outputId": "667b8574-c1bb-46a0-97d5-26aa6545ea86"
      }
    },
    {
      "cell_type": "code",
      "execution_count": 7,
      "outputs": [
        {
          "output_type": "execute_result",
          "data": {
            "text/plain": [
              "array(['Новостройка'], dtype=object)"
            ]
          },
          "metadata": {},
          "execution_count": 7
        }
      ],
      "source": [
        "df['Тип_дома'].unique()"
      ],
      "metadata": {
        "colab": {
          "base_uri": "https://localhost:8080/"
        },
        "id": "IWcntWUCHo5A",
        "outputId": "572489d1-6592-4b73-8967-08461bef60f2"
      }
    },
    {
      "cell_type": "code",
      "execution_count": 8,
      "outputs": [
        {
          "output_type": "execute_result",
          "data": {
            "text/plain": [
              "array([nan])"
            ]
          },
          "metadata": {},
          "execution_count": 8
        }
      ],
      "source": [
        "df['Количество_этажей'].unique()"
      ],
      "metadata": {
        "colab": {
          "base_uri": "https://localhost:8080/"
        },
        "id": "XLdpfVI1Ho5A",
        "outputId": "09760ff5-c59d-4a97-f2a0-98a54b43d40c"
      }
    },
    {
      "cell_type": "code",
      "execution_count": 9,
      "outputs": [
        {
          "output_type": "execute_result",
          "data": {
            "text/plain": [
              "array([nan])"
            ]
          },
          "metadata": {},
          "execution_count": 9
        }
      ],
      "source": [
        "df['Тип_продажи'].unique()"
      ],
      "metadata": {
        "colab": {
          "base_uri": "https://localhost:8080/"
        },
        "id": "U1Zpd61MHo5B",
        "outputId": "5c1f4c69-5ee5-4382-eedd-294ddc2f88b3"
      }
    },
    {
      "cell_type": "code",
      "execution_count": 10,
      "outputs": [
        {
          "output_type": "execute_result",
          "data": {
            "text/plain": [
              "NaN                     6616\n",
              "Приморский район           2\n",
              "Красносельский район       1\n",
              "Name: Район, dtype: int64"
            ]
          },
          "metadata": {},
          "execution_count": 10
        }
      ],
      "source": [
        "df['Район'].value_counts(dropna=False)"
      ],
      "metadata": {
        "colab": {
          "base_uri": "https://localhost:8080/"
        },
        "id": "cNo-x61_Ho5B",
        "outputId": "26ce3575-7a7c-421b-acf2-03658625aa86"
      }
    },
    {
      "cell_type": "code",
      "execution_count": 11,
      "outputs": [
        {
          "output_type": "execute_result",
          "data": {
            "text/plain": [
              "Index(['id', 'Город', 'Улица', 'Геометка_дома', 'Цена', 'Количество_комнат',\n",
              "       'Общая_площадь', 'Материал_стен', 'Дата', 'Площадь_кухни',\n",
              "       'Жилая_площадь', 'Этаж'],\n",
              "      dtype='object')"
            ]
          },
          "metadata": {},
          "execution_count": 11
        }
      ],
      "source": [
        "df = df.drop(['Тип_сделки', 'Срок_аренды', 'Тип_дома',\n",
        "              'Количество_этажей', 'Тип_продажи', 'Район'], axis=1)\n",
        "df.columns"
      ],
      "metadata": {
        "colab": {
          "base_uri": "https://localhost:8080/"
        },
        "id": "eMDMuXANHo5B",
        "outputId": "07739f88-1ad2-4775-cb62-d104dc2fbb3b"
      }
    },
    {
      "cell_type": "markdown",
      "source": [
        "---\n",
        "\n",
        "Также могут встречаться и те признаки, у которых не практически все значения пропущены. Например, такие, как 'Жилая_площадь' и 'Площадь кухни':"
      ],
      "metadata": {
        "collapsed": false,
        "id": "ijbRPMyWHo5B"
      }
    },
    {
      "cell_type": "code",
      "execution_count": 12,
      "outputs": [
        {
          "output_type": "execute_result",
          "data": {
            "text/plain": [
              "(6619, 1904)"
            ]
          },
          "metadata": {},
          "execution_count": 12
        }
      ],
      "source": [
        "df['Жилая_площадь'].size, df['Жилая_площадь'].isna().sum()"
      ],
      "metadata": {
        "colab": {
          "base_uri": "https://localhost:8080/"
        },
        "id": "cF8O-5pcHo5B",
        "outputId": "4811cef2-26c3-4de8-e48d-e119f6a202a9"
      }
    },
    {
      "cell_type": "code",
      "execution_count": 13,
      "outputs": [
        {
          "output_type": "execute_result",
          "data": {
            "text/plain": [
              "(6619, 2545)"
            ]
          },
          "metadata": {},
          "execution_count": 13
        }
      ],
      "source": [
        "df['Площадь_кухни'].size, df['Площадь_кухни'].isna().sum()"
      ],
      "metadata": {
        "colab": {
          "base_uri": "https://localhost:8080/"
        },
        "id": "TdhJnhJmHo5C",
        "outputId": "fe3a85b3-daa0-42af-9375-050d7ae9d821"
      }
    },
    {
      "cell_type": "markdown",
      "source": [
        "Такие колонки можно и выкинуть, и наоборот — заполнить пропущенные места какими-то значениями. Давайте для разнообразия заполним пропущенные значения медианами:"
      ],
      "metadata": {
        "collapsed": false,
        "id": "EqP_djpbHo5C"
      }
    },
    {
      "cell_type": "code",
      "execution_count": 14,
      "outputs": [],
      "source": [
        "df['Жилая_площадь'] = df['Жилая_площадь'].fillna(df['Жилая_площадь'].median())\n",
        "df['Площадь_кухни'] = df['Площадь_кухни'].fillna(df['Площадь_кухни'].median())"
      ],
      "metadata": {
        "id": "PEJu8PBfHo5C"
      }
    }
  ],
  "metadata": {
    "kernelspec": {
      "display_name": "Python 3",
      "language": "python",
      "name": "python3"
    },
    "language_info": {
      "codemirror_mode": {
        "name": "ipython",
        "version": 2
      },
      "file_extension": ".py",
      "mimetype": "text/x-python",
      "name": "python",
      "nbconvert_exporter": "python",
      "pygments_lexer": "ipython2",
      "version": "2.7.6"
    },
    "colab": {
      "provenance": []
    }
  },
  "nbformat": 4,
  "nbformat_minor": 0
}