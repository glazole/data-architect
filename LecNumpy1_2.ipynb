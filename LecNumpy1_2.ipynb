{
  "cells": [
    {
      "cell_type": "markdown",
      "source": [
        "---\n",
        "\n",
        "# Введение в NumPy\n"
      ],
      "metadata": {
        "collapsed": false,
        "id": "nCBOysUWFBby"
      }
    },
    {
      "cell_type": "code",
      "source": [
        "import numpy as np"
      ],
      "metadata": {
        "id": "kH8yg6vOoeYe"
      },
      "execution_count": 1,
      "outputs": []
    },
    {
      "cell_type": "markdown",
      "source": [
        "---\n",
        "\n",
        "## 2 | Многомерные матрицы"
      ],
      "metadata": {
        "collapsed": false,
        "id": "m72ysfmHFBb5"
      }
    },
    {
      "cell_type": "markdown",
      "source": [
        "---\n",
        "\n",
        "### 2.1 | Способы инициализации"
      ],
      "metadata": {
        "collapsed": false,
        "id": "YCxfwBhDFBb6"
      }
    },
    {
      "cell_type": "markdown",
      "source": [
        "---\n",
        "\n",
        "С помощью вложенного списка:"
      ],
      "metadata": {
        "collapsed": false,
        "id": "Bl3wjKcCFBb6"
      }
    },
    {
      "cell_type": "code",
      "execution_count": 2,
      "outputs": [
        {
          "output_type": "execute_result",
          "data": {
            "text/plain": [
              "array([[1, 4, 9],\n",
              "       [2, 3, 5]])"
            ]
          },
          "metadata": {},
          "execution_count": 2
        }
      ],
      "source": [
        "np.array([[1, 4, 9], [2, 3, 5]])"
      ],
      "metadata": {
        "id": "0CbR-G-OFBb6",
        "outputId": "b4779d1b-7e73-4ec7-9daf-629d1c10942a",
        "colab": {
          "base_uri": "https://localhost:8080/"
        }
      }
    },
    {
      "cell_type": "markdown",
      "source": [
        "---\n",
        "\n",
        "Инициализировать массив списками разной длинны нельзя — получите предупреждение:"
      ],
      "metadata": {
        "collapsed": false,
        "id": "4ZYc0NLSFBb6"
      }
    },
    {
      "cell_type": "code",
      "execution_count": 3,
      "outputs": [
        {
          "output_type": "stream",
          "name": "stderr",
          "text": [
            "<ipython-input-3-addf891ff8cb>:1: VisibleDeprecationWarning: Creating an ndarray from ragged nested sequences (which is a list-or-tuple of lists-or-tuples-or ndarrays with different lengths or shapes) is deprecated. If you meant to do this, you must specify 'dtype=object' when creating the ndarray.\n",
            "  np.array([[1, 2], [4]])\n"
          ]
        },
        {
          "output_type": "execute_result",
          "data": {
            "text/plain": [
              "array([list([1, 2]), list([4])], dtype=object)"
            ]
          },
          "metadata": {},
          "execution_count": 3
        }
      ],
      "source": [
        "np.array([[1, 2], [4]])"
      ],
      "metadata": {
        "id": "qVh-T1KiFBb6",
        "outputId": "0fcd43ce-920b-4757-810b-500cb3e453bf",
        "colab": {
          "base_uri": "https://localhost:8080/"
        }
      }
    },
    {
      "cell_type": "markdown",
      "source": [
        "---\n",
        "\n",
        "У матриц также можно узнать их форму и размер:"
      ],
      "metadata": {
        "collapsed": false,
        "id": "vEpBmYmKFBb6"
      }
    },
    {
      "cell_type": "code",
      "execution_count": 4,
      "outputs": [
        {
          "output_type": "stream",
          "name": "stdout",
          "text": [
            "(3, 2)\n",
            "6\n"
          ]
        },
        {
          "output_type": "execute_result",
          "data": {
            "text/plain": [
              "array([[1, 2],\n",
              "       [3, 4],\n",
              "       [5, 6]])"
            ]
          },
          "metadata": {},
          "execution_count": 4
        }
      ],
      "source": [
        "arr = np.array([[1, 2], [3, 4], [5, 6]])\n",
        "print(arr.shape)\n",
        "print(arr.size)\n",
        "arr"
      ],
      "metadata": {
        "id": "g5JelG5mFBb7",
        "outputId": "c7151ab1-ea6e-4f7d-fc33-517b39c1cadd",
        "colab": {
          "base_uri": "https://localhost:8080/"
        }
      }
    },
    {
      "cell_type": "markdown",
      "source": [
        "---\n",
        "\n",
        "Стандартные функции инициализации матриц также поддерживают указание форм массивов:"
      ],
      "metadata": {
        "collapsed": false,
        "id": "60xGEEaoFBb7"
      }
    },
    {
      "cell_type": "code",
      "execution_count": 5,
      "outputs": [
        {
          "output_type": "stream",
          "name": "stdout",
          "text": [
            "(2, 3)\n"
          ]
        },
        {
          "output_type": "execute_result",
          "data": {
            "text/plain": [
              "array([[0., 0., 0.],\n",
              "       [0., 0., 0.]])"
            ]
          },
          "metadata": {},
          "execution_count": 5
        }
      ],
      "source": [
        "zeros_arr = np.zeros((2, 3))\n",
        "print(zeros_arr.shape)\n",
        "zeros_arr"
      ],
      "metadata": {
        "id": "VdXMD_lIFBb7",
        "outputId": "2ad89fd4-6067-472e-bd23-c3b5ab91c83d",
        "colab": {
          "base_uri": "https://localhost:8080/"
        }
      }
    },
    {
      "cell_type": "markdown",
      "source": [
        "---\n",
        "\n",
        "Для загрузки массивов в файл с расширением $\\mathsf{npy}$ и считывания из него есть фукнции $\\mathsf{np.save}$ и $\\mathsf{np.load}$:"
      ],
      "metadata": {
        "collapsed": false,
        "id": "S1NfS2jzFBb7"
      }
    },
    {
      "cell_type": "code",
      "execution_count": 6,
      "outputs": [
        {
          "output_type": "execute_result",
          "data": {
            "text/plain": [
              "array([[1, 2],\n",
              "       [3, 4],\n",
              "       [5, 6]])"
            ]
          },
          "metadata": {},
          "execution_count": 6
        }
      ],
      "source": [
        "arr = np.array([[1, 2], [3, 4], [5, 6]])\n",
        "np.save('data', arr)\n",
        "loaded = np.load('data.npy')\n",
        "loaded"
      ],
      "metadata": {
        "id": "NuZ2FGfIFBb7",
        "outputId": "4030f39e-ef9f-4d66-a22e-3a16556ee66b",
        "colab": {
          "base_uri": "https://localhost:8080/"
        }
      }
    },
    {
      "cell_type": "markdown",
      "source": [
        "---\n",
        "\n",
        "Для сохранения данных в файл формата $\\mathsf{txt}$ существуют аналогичные по интерфейсу функции $\\mathsf{np.savetxt}$ и $\\mathsf{np.loadtxt}$:"
      ],
      "metadata": {
        "collapsed": false,
        "id": "NzxbVk6JFBb8"
      }
    },
    {
      "cell_type": "code",
      "execution_count": 7,
      "outputs": [
        {
          "output_type": "execute_result",
          "data": {
            "text/plain": [
              "array([[1., 2.],\n",
              "       [3., 4.],\n",
              "       [5., 6.]])"
            ]
          },
          "metadata": {},
          "execution_count": 7
        }
      ],
      "source": [
        "np.savetxt('data.txt', arr)\n",
        "txt_loaded = np.loadtxt('data.txt')\n",
        "txt_loaded"
      ],
      "metadata": {
        "id": "BB4LKSGuFBb8",
        "outputId": "63e2b4e7-cc08-408f-a208-2b54b81fc2ec",
        "colab": {
          "base_uri": "https://localhost:8080/"
        }
      }
    },
    {
      "cell_type": "markdown",
      "source": [
        "---\n",
        "\n",
        "### 3.2 | Основной функционал"
      ],
      "metadata": {
        "collapsed": false,
        "id": "5m389-pXFBb8"
      }
    },
    {
      "cell_type": "markdown",
      "source": [
        "---\n",
        "\n",
        "В некоторых функциях и методах есть $\\mathsf{axis}$, отвечающий за то, вдоль какой оси им работать:"
      ],
      "metadata": {
        "collapsed": false,
        "id": "W0E24bh_FBb8"
      }
    },
    {
      "cell_type": "code",
      "execution_count": 8,
      "outputs": [
        {
          "output_type": "execute_result",
          "data": {
            "text/plain": [
              "array([0., 0., 0., 0., 0., 0., 1., 2., 3., 4., 5., 6.])"
            ]
          },
          "metadata": {},
          "execution_count": 8
        }
      ],
      "source": [
        "zeros_arr = np.zeros((2, 3))\n",
        "arr = np.array([[1, 2, 3], [4, 5, 6]])\n",
        "\n",
        "np.append(zeros_arr, arr)"
      ],
      "metadata": {
        "id": "HoxVfFPPFBb8",
        "outputId": "e6c3722d-4d49-487e-a1ea-4ec33ab727e1",
        "colab": {
          "base_uri": "https://localhost:8080/"
        }
      }
    },
    {
      "cell_type": "code",
      "execution_count": 9,
      "outputs": [
        {
          "output_type": "execute_result",
          "data": {
            "text/plain": [
              "array([[0., 0., 0.],\n",
              "       [0., 0., 0.],\n",
              "       [1., 2., 3.],\n",
              "       [4., 5., 6.]])"
            ]
          },
          "metadata": {},
          "execution_count": 9
        }
      ],
      "source": [
        "np.append(zeros_arr, arr, axis=0)"
      ],
      "metadata": {
        "id": "yLVzBHW8FBb8",
        "outputId": "88476234-5492-4abd-c34e-939697c76be1",
        "colab": {
          "base_uri": "https://localhost:8080/"
        }
      }
    },
    {
      "cell_type": "code",
      "execution_count": 10,
      "outputs": [
        {
          "output_type": "execute_result",
          "data": {
            "text/plain": [
              "array([[0., 0., 0., 1., 2., 3.],\n",
              "       [0., 0., 0., 4., 5., 6.]])"
            ]
          },
          "metadata": {},
          "execution_count": 10
        }
      ],
      "source": [
        "np.append(zeros_arr, arr, axis=1)"
      ],
      "metadata": {
        "id": "KWhHXK-wFBb9",
        "outputId": "bd36bdf5-bd92-4559-efad-d222615b4fd4",
        "colab": {
          "base_uri": "https://localhost:8080/"
        }
      }
    },
    {
      "cell_type": "markdown",
      "source": [
        "---\n",
        "\n",
        "Даже такие функции, как $\\mathsf{np.sort}$ поддерживают указание $\\mathsf{axis}$:"
      ],
      "metadata": {
        "collapsed": false,
        "id": "jukjNlkJFBb9"
      }
    },
    {
      "cell_type": "code",
      "execution_count": 11,
      "outputs": [
        {
          "output_type": "execute_result",
          "data": {
            "text/plain": [
              "array([[4, 5, 6],\n",
              "       [1, 2, 3]])"
            ]
          },
          "metadata": {},
          "execution_count": 11
        }
      ],
      "source": [
        "arr = np.array([[4, 5, 6], [3, 1, 2]])\n",
        "np.sort(arr)"
      ],
      "metadata": {
        "id": "Z3txnr6DFBb9",
        "outputId": "848cd64e-3c45-4780-b0d8-7034c75f9788",
        "colab": {
          "base_uri": "https://localhost:8080/"
        }
      }
    },
    {
      "cell_type": "code",
      "execution_count": 12,
      "outputs": [
        {
          "output_type": "execute_result",
          "data": {
            "text/plain": [
              "array([[3, 1, 2],\n",
              "       [4, 5, 6]])"
            ]
          },
          "metadata": {},
          "execution_count": 12
        }
      ],
      "source": [
        "np.sort(arr, axis=0)"
      ],
      "metadata": {
        "id": "pcFIdy8QFBb9",
        "outputId": "4ad9fc5e-96b4-4015-b035-cc76d177c2ae",
        "colab": {
          "base_uri": "https://localhost:8080/"
        }
      }
    },
    {
      "cell_type": "code",
      "execution_count": 13,
      "outputs": [
        {
          "output_type": "execute_result",
          "data": {
            "text/plain": [
              "array([[4, 5, 6],\n",
              "       [1, 2, 3]])"
            ]
          },
          "metadata": {},
          "execution_count": 13
        }
      ],
      "source": [
        "np.sort(arr, axis=1)"
      ],
      "metadata": {
        "id": "US9V8E16FBb9",
        "outputId": "51e5b0c2-7e24-49d5-d69c-bc6e982e96c9",
        "colab": {
          "base_uri": "https://localhost:8080/"
        }
      }
    },
    {
      "cell_type": "markdown",
      "source": [
        "---\n",
        "\n",
        "Такие функции, как $\\mathsf{np.min}$, $\\mathsf{np.max}$ и $\\mathsf{np.sum}$ (взятие минимума, максимума и суммирование), поддерживают использование параметра $\\mathsf{axis}$:"
      ],
      "metadata": {
        "collapsed": false,
        "id": "fiKL_hzKFBb-"
      }
    },
    {
      "cell_type": "code",
      "execution_count": 14,
      "outputs": [
        {
          "output_type": "execute_result",
          "data": {
            "text/plain": [
              "array([[  1,   1],\n",
              "       [  3,   5],\n",
              "       [ -1, -10]])"
            ]
          },
          "metadata": {},
          "execution_count": 14
        }
      ],
      "source": [
        "arr = np.array([[1, 1], [3, 5], [-1, -10]])\n",
        "arr"
      ],
      "metadata": {
        "id": "j7ihxQGEFBb-",
        "outputId": "b9e19e74-1603-435f-fe80-b10688291b12",
        "colab": {
          "base_uri": "https://localhost:8080/"
        }
      }
    },
    {
      "cell_type": "code",
      "execution_count": 15,
      "outputs": [
        {
          "output_type": "execute_result",
          "data": {
            "text/plain": [
              "5"
            ]
          },
          "metadata": {},
          "execution_count": 15
        }
      ],
      "source": [
        "arr.max()"
      ],
      "metadata": {
        "id": "4uY4hZNQFBb-",
        "outputId": "a055143f-8d91-499d-edab-a3611a3187b6",
        "colab": {
          "base_uri": "https://localhost:8080/"
        }
      }
    },
    {
      "cell_type": "code",
      "execution_count": 16,
      "outputs": [
        {
          "output_type": "execute_result",
          "data": {
            "text/plain": [
              "array([3, 5])"
            ]
          },
          "metadata": {},
          "execution_count": 16
        }
      ],
      "source": [
        "arr.max(axis=0)"
      ],
      "metadata": {
        "id": "am3L4fmWFBb-",
        "outputId": "4d2a114f-d87c-414b-dc12-9c6ddf5ad43e",
        "colab": {
          "base_uri": "https://localhost:8080/"
        }
      }
    },
    {
      "cell_type": "code",
      "execution_count": 17,
      "outputs": [
        {
          "output_type": "execute_result",
          "data": {
            "text/plain": [
              "array([ 1,  5, -1])"
            ]
          },
          "metadata": {},
          "execution_count": 17
        }
      ],
      "source": [
        "arr.max(axis=1)"
      ],
      "metadata": {
        "id": "5jJVB9huFBb-",
        "outputId": "a289f23c-dbab-450d-9bc8-c22c6c745c1c",
        "colab": {
          "base_uri": "https://localhost:8080/"
        }
      }
    },
    {
      "cell_type": "code",
      "execution_count": 18,
      "outputs": [
        {
          "output_type": "execute_result",
          "data": {
            "text/plain": [
              "-1"
            ]
          },
          "metadata": {},
          "execution_count": 18
        }
      ],
      "source": [
        "arr.sum()"
      ],
      "metadata": {
        "id": "Sz7RtVElFBb-",
        "outputId": "7797d691-91f5-4e8a-a9eb-c55efdb695c6",
        "colab": {
          "base_uri": "https://localhost:8080/"
        }
      }
    },
    {
      "cell_type": "code",
      "execution_count": 19,
      "outputs": [
        {
          "output_type": "execute_result",
          "data": {
            "text/plain": [
              "array([ 3, -4])"
            ]
          },
          "metadata": {},
          "execution_count": 19
        }
      ],
      "source": [
        "arr.sum(axis=0)"
      ],
      "metadata": {
        "id": "HzwCcHsOFBb_",
        "outputId": "c5542b20-9890-4974-ce37-c9875f93a05d",
        "colab": {
          "base_uri": "https://localhost:8080/"
        }
      }
    },
    {
      "cell_type": "code",
      "execution_count": 20,
      "outputs": [
        {
          "output_type": "execute_result",
          "data": {
            "text/plain": [
              "array([  2,   8, -11])"
            ]
          },
          "metadata": {},
          "execution_count": 20
        }
      ],
      "source": [
        "arr.sum(axis=1)"
      ],
      "metadata": {
        "id": "w7Xyy8zQFBb_",
        "outputId": "81d1b492-506b-4890-bfe4-38181766af9f",
        "colab": {
          "base_uri": "https://localhost:8080/"
        }
      }
    },
    {
      "cell_type": "markdown",
      "source": [
        "---\n",
        "\n",
        "Менять форму массива можно с помощью функции $\\mathsf{np.reshape}$ или аналогичного метода $\\mathsf{reshape}$:"
      ],
      "metadata": {
        "collapsed": false,
        "id": "RSLoq2IqFBb_"
      }
    },
    {
      "cell_type": "code",
      "execution_count": 21,
      "outputs": [
        {
          "output_type": "execute_result",
          "data": {
            "text/plain": [
              "array([0, 1, 2, 3, 4, 5])"
            ]
          },
          "metadata": {},
          "execution_count": 21
        }
      ],
      "source": [
        "a = np.arange(6)\n",
        "a"
      ],
      "metadata": {
        "id": "te9c6MNPFBb_",
        "outputId": "cc8bc2d7-1d1a-4561-af83-6a1486dc9b28",
        "colab": {
          "base_uri": "https://localhost:8080/"
        }
      }
    },
    {
      "cell_type": "code",
      "execution_count": 22,
      "outputs": [
        {
          "output_type": "execute_result",
          "data": {
            "text/plain": [
              "array([[0, 1, 2],\n",
              "       [3, 4, 5]])"
            ]
          },
          "metadata": {},
          "execution_count": 22
        }
      ],
      "source": [
        "np.reshape(a, (2, 3))"
      ],
      "metadata": {
        "id": "koDwTAb9FBb_",
        "outputId": "32a20c83-bc27-4ce2-e514-61a0d3e4f040",
        "colab": {
          "base_uri": "https://localhost:8080/"
        }
      }
    },
    {
      "cell_type": "markdown",
      "source": [
        "---\n",
        "\n",
        "Если мы не знаем количество элементов на какой-то оси, то можно писать $-1$, подразумевая под этим <<сколько влезет>>:"
      ],
      "metadata": {
        "collapsed": false,
        "id": "jBEor0vLFBb_"
      }
    },
    {
      "cell_type": "code",
      "execution_count": 23,
      "outputs": [
        {
          "output_type": "execute_result",
          "data": {
            "text/plain": [
              "array([[1, 2],\n",
              "       [3, 4],\n",
              "       [5, 6],\n",
              "       [7, 8]])"
            ]
          },
          "metadata": {},
          "execution_count": 23
        }
      ],
      "source": [
        "b = np.array([[1, 2], [3, 4], [5, 6], [7, 8]])\n",
        "b"
      ],
      "metadata": {
        "id": "VPfwQy2iFBcA",
        "outputId": "88ea9349-c849-45ba-a2e5-da8503f3bfbc",
        "colab": {
          "base_uri": "https://localhost:8080/"
        }
      }
    },
    {
      "cell_type": "code",
      "execution_count": 24,
      "outputs": [
        {
          "output_type": "execute_result",
          "data": {
            "text/plain": [
              "array([1, 2, 3, 4, 5, 6, 7, 8])"
            ]
          },
          "metadata": {},
          "execution_count": 24
        }
      ],
      "source": [
        "b.reshape((-1)) # Аналог np.reshape(b, (-1))"
      ],
      "metadata": {
        "id": "YC1l0ymyFBcA",
        "outputId": "81906433-1254-422d-ddf6-d8eded114efb",
        "colab": {
          "base_uri": "https://localhost:8080/"
        }
      }
    },
    {
      "cell_type": "code",
      "execution_count": 25,
      "outputs": [
        {
          "output_type": "execute_result",
          "data": {
            "text/plain": [
              "array([[1, 2, 3, 4],\n",
              "       [5, 6, 7, 8]])"
            ]
          },
          "metadata": {},
          "execution_count": 25
        }
      ],
      "source": [
        "b.reshape((2, -1)) # Аналог np.reshape(b, (2, -1))"
      ],
      "metadata": {
        "id": "ibBBee3qFBcA",
        "outputId": "1467ec37-03d6-4642-d061-4883150103cf",
        "colab": {
          "base_uri": "https://localhost:8080/"
        }
      }
    },
    {
      "cell_type": "markdown",
      "source": [
        "---\n",
        "\n",
        "Вместо преобразования к форме $(-1)$ можно воспользоваться методом $\\mathsf{flatten}$:"
      ],
      "metadata": {
        "collapsed": false,
        "id": "PguCbX0gFBcA"
      }
    },
    {
      "cell_type": "code",
      "execution_count": 26,
      "outputs": [
        {
          "output_type": "execute_result",
          "data": {
            "text/plain": [
              "array([[[ 1,  2],\n",
              "        [ 3,  4],\n",
              "        [ 5,  6]],\n",
              "\n",
              "       [[ 7,  8],\n",
              "        [ 9, 10],\n",
              "        [11, 12]]])"
            ]
          },
          "metadata": {},
          "execution_count": 26
        }
      ],
      "source": [
        "arr = np.arange(1, 13).reshape((2, 3, 2))\n",
        "arr"
      ],
      "metadata": {
        "id": "sl5qC1LEFBcA",
        "outputId": "4844dae5-076e-4466-9e4f-250ac520c486",
        "colab": {
          "base_uri": "https://localhost:8080/"
        }
      }
    },
    {
      "cell_type": "code",
      "execution_count": 27,
      "outputs": [
        {
          "output_type": "execute_result",
          "data": {
            "text/plain": [
              "array([ 1,  2,  3,  4,  5,  6,  7,  8,  9, 10, 11, 12])"
            ]
          },
          "metadata": {},
          "execution_count": 27
        }
      ],
      "source": [
        "arr.flatten()"
      ],
      "metadata": {
        "id": "gVV9NmE4FBcA",
        "outputId": "fcd262e0-81d3-4dc0-93c1-6284ab406586",
        "colab": {
          "base_uri": "https://localhost:8080/"
        }
      }
    },
    {
      "cell_type": "markdown",
      "source": [
        "---\n",
        "\n",
        "Преобразовывать надо аккуратно — при преобразовании к неправильной форме может возникнуть ошибка:"
      ],
      "metadata": {
        "collapsed": false,
        "id": "EHjRd2EBFBcB"
      }
    },
    {
      "cell_type": "code",
      "execution_count": 28,
      "outputs": [
        {
          "output_type": "error",
          "ename": "ValueError",
          "evalue": "ignored",
          "traceback": [
            "\u001b[0;31m---------------------------------------------------------------------------\u001b[0m",
            "\u001b[0;31mValueError\u001b[0m                                Traceback (most recent call last)",
            "\u001b[0;32m<ipython-input-28-3b16a1334707>\u001b[0m in \u001b[0;36m<cell line: 2>\u001b[0;34m()\u001b[0m\n\u001b[1;32m      1\u001b[0m \u001b[0marr\u001b[0m \u001b[0;34m=\u001b[0m \u001b[0mnp\u001b[0m\u001b[0;34m.\u001b[0m\u001b[0marange\u001b[0m\u001b[0;34m(\u001b[0m\u001b[0;36m5\u001b[0m\u001b[0;34m)\u001b[0m\u001b[0;34m\u001b[0m\u001b[0;34m\u001b[0m\u001b[0m\n\u001b[0;32m----> 2\u001b[0;31m \u001b[0marr\u001b[0m\u001b[0;34m.\u001b[0m\u001b[0mreshape\u001b[0m\u001b[0;34m(\u001b[0m\u001b[0;34m(\u001b[0m\u001b[0;36m2\u001b[0m\u001b[0;34m,\u001b[0m \u001b[0;36m2\u001b[0m\u001b[0;34m)\u001b[0m\u001b[0;34m)\u001b[0m \u001b[0;31m# Или даже arr.reshape((2, -1))\u001b[0m\u001b[0;34m\u001b[0m\u001b[0;34m\u001b[0m\u001b[0m\n\u001b[0m",
            "\u001b[0;31mValueError\u001b[0m: cannot reshape array of size 5 into shape (2,2)"
          ]
        }
      ],
      "source": [
        "arr = np.arange(5)\n",
        "arr.reshape((2, 2)) # Или даже arr.reshape((2, -1))"
      ],
      "metadata": {
        "id": "JQduvBRzFBcB",
        "outputId": "5eb07a4a-c72f-46cb-d936-551bbcb269aa",
        "colab": {
          "base_uri": "https://localhost:8080/",
          "height": 190
        }
      }
    },
    {
      "cell_type": "markdown",
      "source": [
        "---\n",
        "\n",
        "Для добавления форме фиктивной оси с одной стороны можно использовать метод $\\mathsf{reshape}$:"
      ],
      "metadata": {
        "collapsed": false,
        "id": "TIshaBL0FBcB"
      }
    },
    {
      "cell_type": "code",
      "execution_count": 29,
      "outputs": [
        {
          "output_type": "execute_result",
          "data": {
            "text/plain": [
              "array([[0, 1, 2, 3, 4, 5]])"
            ]
          },
          "metadata": {},
          "execution_count": 29
        }
      ],
      "source": [
        "arr = np.arange(6)\n",
        "arr.reshape((1, -1))"
      ],
      "metadata": {
        "id": "t7dLEHu6FBcB",
        "outputId": "4197e0b6-c53a-45d4-ccd6-b3651575035e",
        "colab": {
          "base_uri": "https://localhost:8080/"
        }
      }
    },
    {
      "cell_type": "code",
      "execution_count": 30,
      "outputs": [
        {
          "output_type": "execute_result",
          "data": {
            "text/plain": [
              "array([[0],\n",
              "       [1],\n",
              "       [2],\n",
              "       [3],\n",
              "       [4],\n",
              "       [5]])"
            ]
          },
          "metadata": {},
          "execution_count": 30
        }
      ],
      "source": [
        "arr.reshape((-1, 1))"
      ],
      "metadata": {
        "id": "CGqzlRNkFBcB",
        "outputId": "accef033-313b-4281-ee7b-25d36bd2742b",
        "colab": {
          "base_uri": "https://localhost:8080/"
        }
      }
    },
    {
      "cell_type": "code",
      "source": [
        "arr.reshape(-1), arr.flatten()"
      ],
      "metadata": {
        "colab": {
          "base_uri": "https://localhost:8080/"
        },
        "id": "d12N-cKnlK6Y",
        "outputId": "9d5700c8-7fdc-4ea0-f8a7-55b2387a84dc"
      },
      "execution_count": 31,
      "outputs": [
        {
          "output_type": "execute_result",
          "data": {
            "text/plain": [
              "(array([0, 1, 2, 3, 4, 5]), array([0, 1, 2, 3, 4, 5]))"
            ]
          },
          "metadata": {},
          "execution_count": 31
        }
      ]
    },
    {
      "cell_type": "markdown",
      "source": [
        "---\n",
        "\n",
        "Можно добиться того же самого с использованием функции $\\mathsf{np.expand\\_dims}$:"
      ],
      "metadata": {
        "collapsed": false,
        "id": "ciIjMrLXFBcB"
      }
    },
    {
      "cell_type": "code",
      "execution_count": 32,
      "outputs": [
        {
          "output_type": "execute_result",
          "data": {
            "text/plain": [
              "array([[0, 1, 2, 3, 4, 5]])"
            ]
          },
          "metadata": {},
          "execution_count": 32
        }
      ],
      "source": [
        "np.expand_dims(arr, axis=0)"
      ],
      "metadata": {
        "id": "ZkyB86FbFBcC",
        "outputId": "bbb3cae3-8795-4904-e406-d0c61473c421",
        "colab": {
          "base_uri": "https://localhost:8080/"
        }
      }
    },
    {
      "cell_type": "code",
      "execution_count": 33,
      "outputs": [
        {
          "output_type": "execute_result",
          "data": {
            "text/plain": [
              "array([[0],\n",
              "       [1],\n",
              "       [2],\n",
              "       [3],\n",
              "       [4],\n",
              "       [5]])"
            ]
          },
          "metadata": {},
          "execution_count": 33
        }
      ],
      "source": [
        "np.expand_dims(arr, axis=1)"
      ],
      "metadata": {
        "id": "jZqMs0VEFBcC",
        "outputId": "8423d5b0-94ab-451a-c876-9e00c4cea3e2",
        "colab": {
          "base_uri": "https://localhost:8080/"
        }
      }
    },
    {
      "cell_type": "markdown",
      "source": [
        "---"
      ],
      "metadata": {
        "collapsed": false,
        "id": "DjkpjmRIFBcQ"
      }
    }
  ],
  "metadata": {
    "kernelspec": {
      "display_name": "Python 3",
      "language": "python",
      "name": "python3"
    },
    "language_info": {
      "codemirror_mode": {
        "name": "ipython",
        "version": 2
      },
      "file_extension": ".py",
      "mimetype": "text/x-python",
      "name": "python",
      "nbconvert_exporter": "python",
      "pygments_lexer": "ipython2",
      "version": "2.7.6"
    },
    "colab": {
      "provenance": []
    }
  },
  "nbformat": 4,
  "nbformat_minor": 0
}