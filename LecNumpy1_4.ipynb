{
  "cells": [
    {
      "cell_type": "markdown",
      "source": [
        "---\n",
        "\n",
        "# Введение в NumPy\n"
      ],
      "metadata": {
        "collapsed": false,
        "id": "nCBOysUWFBby"
      }
    },
    {
      "cell_type": "markdown",
      "source": [
        "Импортируем $\\mathsf{numpy}$:"
      ],
      "metadata": {
        "collapsed": false,
        "id": "oyMU2ghiFBbz"
      }
    },
    {
      "cell_type": "code",
      "execution_count": 1,
      "outputs": [],
      "source": [
        "import numpy as np"
      ],
      "metadata": {
        "id": "xzGvCKYFFBb0"
      }
    },
    {
      "cell_type": "markdown",
      "source": [
        "---\n",
        "\n",
        "## 4 | Продвинутые возможности"
      ],
      "metadata": {
        "collapsed": false,
        "id": "Qe00FoCYFBcH"
      }
    },
    {
      "cell_type": "markdown",
      "source": [
        "---\n",
        "\n",
        "### 4.1 | Немного о линейности операций"
      ],
      "metadata": {
        "collapsed": false,
        "id": "kJgyNYPWFBcI"
      }
    },
    {
      "cell_type": "markdown",
      "source": [
        "---\n",
        "\n",
        "Матрица поддерживают операции добавления (вычитания) и умножения (деления) на некоторое число всех элементов, а также возведения значений матрицы в некоторую степень:"
      ],
      "metadata": {
        "collapsed": false,
        "id": "9uqG2j2PFBcI"
      }
    },
    {
      "cell_type": "code",
      "execution_count": 2,
      "outputs": [
        {
          "output_type": "execute_result",
          "data": {
            "text/plain": [
              "array([1, 4])"
            ]
          },
          "metadata": {},
          "execution_count": 2
        }
      ],
      "source": [
        "arr = np.array([1, 4])\n",
        "arr"
      ],
      "metadata": {
        "id": "b6MYk96TFBcI",
        "outputId": "d3c44bb6-63c0-41ad-f665-f3fd6d84465b",
        "colab": {
          "base_uri": "https://localhost:8080/"
        }
      }
    },
    {
      "cell_type": "code",
      "execution_count": 3,
      "outputs": [
        {
          "output_type": "execute_result",
          "data": {
            "text/plain": [
              "array([5, 8])"
            ]
          },
          "metadata": {},
          "execution_count": 3
        }
      ],
      "source": [
        "arr + 4"
      ],
      "metadata": {
        "id": "ZbbdNgIBFBcI",
        "outputId": "6d503e82-f4be-42e9-8bca-231ba28fe866",
        "colab": {
          "base_uri": "https://localhost:8080/"
        }
      }
    },
    {
      "cell_type": "code",
      "execution_count": 4,
      "outputs": [
        {
          "output_type": "execute_result",
          "data": {
            "text/plain": [
              "array([-1, -4])"
            ]
          },
          "metadata": {},
          "execution_count": 4
        }
      ],
      "source": [
        "arr * -1"
      ],
      "metadata": {
        "id": "Ntg1BKf_FBcI",
        "outputId": "017429d6-eeea-484c-9da0-7012d4e8fc6b",
        "colab": {
          "base_uri": "https://localhost:8080/"
        }
      }
    },
    {
      "cell_type": "code",
      "execution_count": 5,
      "outputs": [
        {
          "output_type": "execute_result",
          "data": {
            "text/plain": [
              "array([ 1, 64])"
            ]
          },
          "metadata": {},
          "execution_count": 5
        }
      ],
      "source": [
        "arr ** 3"
      ],
      "metadata": {
        "id": "o-HBM4-GFBcI",
        "outputId": "9eb52264-c2aa-40bf-a32a-c67ad88f4557",
        "colab": {
          "base_uri": "https://localhost:8080/"
        }
      }
    },
    {
      "cell_type": "markdown",
      "source": [
        "---\n",
        "\n",
        "Также эти операции поддерживаются между двумя матрицами одинаковой формы:"
      ],
      "metadata": {
        "collapsed": false,
        "id": "IBTKUfvOFBcI"
      }
    },
    {
      "cell_type": "code",
      "execution_count": 6,
      "outputs": [
        {
          "output_type": "execute_result",
          "data": {
            "text/plain": [
              "array([-1,  2])"
            ]
          },
          "metadata": {},
          "execution_count": 6
        }
      ],
      "source": [
        "a = np.array([-1, 2])\n",
        "a"
      ],
      "metadata": {
        "id": "sN9CSI9UFBcJ",
        "outputId": "bdcb2434-fecb-4e26-ae11-972acde25be3",
        "colab": {
          "base_uri": "https://localhost:8080/"
        }
      }
    },
    {
      "cell_type": "code",
      "execution_count": 7,
      "outputs": [
        {
          "output_type": "execute_result",
          "data": {
            "text/plain": [
              "array([1, 3])"
            ]
          },
          "metadata": {},
          "execution_count": 7
        }
      ],
      "source": [
        "b = np.array([1, 3])\n",
        "b"
      ],
      "metadata": {
        "id": "udqHsVqlFBcJ",
        "outputId": "604aa45e-d71a-4e85-a082-c65b9b7745aa",
        "colab": {
          "base_uri": "https://localhost:8080/"
        }
      }
    },
    {
      "cell_type": "code",
      "execution_count": 8,
      "outputs": [
        {
          "output_type": "execute_result",
          "data": {
            "text/plain": [
              "array([0, 5])"
            ]
          },
          "metadata": {},
          "execution_count": 8
        }
      ],
      "source": [
        "a + b"
      ],
      "metadata": {
        "id": "PNQ8B4FcFBcJ",
        "outputId": "fe35e795-329a-4c2c-f972-3cdb6e4c7421",
        "colab": {
          "base_uri": "https://localhost:8080/"
        }
      }
    },
    {
      "cell_type": "code",
      "execution_count": 9,
      "outputs": [
        {
          "output_type": "execute_result",
          "data": {
            "text/plain": [
              "array([-1,  6])"
            ]
          },
          "metadata": {},
          "execution_count": 9
        }
      ],
      "source": [
        "a * b"
      ],
      "metadata": {
        "id": "r0iiyKMOFBcJ",
        "outputId": "4ec95e2b-00b1-42e7-e9f6-d785248e9baa",
        "colab": {
          "base_uri": "https://localhost:8080/"
        }
      }
    },
    {
      "cell_type": "code",
      "execution_count": 10,
      "outputs": [
        {
          "output_type": "execute_result",
          "data": {
            "text/plain": [
              "array([-1,  8])"
            ]
          },
          "metadata": {},
          "execution_count": 10
        }
      ],
      "source": [
        "a ** b"
      ],
      "metadata": {
        "id": "D8ITMbshFBcJ",
        "outputId": "deb77522-b06e-472f-a9e3-1638593d069c",
        "colab": {
          "base_uri": "https://localhost:8080/"
        }
      }
    },
    {
      "cell_type": "markdown",
      "source": [
        "---\n",
        "\n",
        "Кроме предыдущих случаев, эти операции поддерживаются и над двумя матрицами. При этом, вторая матрица должна иметь форму, содержащуюся в форме первой:"
      ],
      "metadata": {
        "collapsed": false,
        "id": "aBVAR9eRFBcJ"
      }
    },
    {
      "cell_type": "code",
      "execution_count": 11,
      "outputs": [
        {
          "output_type": "execute_result",
          "data": {
            "text/plain": [
              "array([[[ 0,  1],\n",
              "        [ 2,  3],\n",
              "        [ 4,  5]],\n",
              "\n",
              "       [[ 6,  7],\n",
              "        [ 8,  9],\n",
              "        [10, 11]]])"
            ]
          },
          "metadata": {},
          "execution_count": 11
        }
      ],
      "source": [
        "a = np.arange(12).reshape((2, 3, 2))\n",
        "a"
      ],
      "metadata": {
        "id": "wW6YEToaFBcK",
        "outputId": "6e8f9d34-6a23-4d96-ebe3-c4994f13e528",
        "colab": {
          "base_uri": "https://localhost:8080/"
        }
      }
    },
    {
      "cell_type": "code",
      "execution_count": 12,
      "outputs": [
        {
          "output_type": "execute_result",
          "data": {
            "text/plain": [
              "array([[   0,    0],\n",
              "       [  -1,    1],\n",
              "       [-100,  100]])"
            ]
          },
          "metadata": {},
          "execution_count": 12
        }
      ],
      "source": [
        "b = np.array([0, 0, -1, 1, -100, 100]).reshape((3, 2))\n",
        "b"
      ],
      "metadata": {
        "id": "bW4KDbWDFBcK",
        "outputId": "fb504682-659f-4ea8-895b-c82fb0543d91",
        "colab": {
          "base_uri": "https://localhost:8080/"
        }
      }
    },
    {
      "cell_type": "code",
      "execution_count": 13,
      "outputs": [
        {
          "output_type": "execute_result",
          "data": {
            "text/plain": [
              "array([[[  0,   1],\n",
              "        [  1,   4],\n",
              "        [-96, 105]],\n",
              "\n",
              "       [[  6,   7],\n",
              "        [  7,  10],\n",
              "        [-90, 111]]])"
            ]
          },
          "metadata": {},
          "execution_count": 13
        }
      ],
      "source": [
        "a + b"
      ],
      "metadata": {
        "id": "LF3Pq3aiFBcK",
        "outputId": "ad9b5fbf-d4c3-4744-b3a5-c2d4f6e4f81a",
        "colab": {
          "base_uri": "https://localhost:8080/"
        }
      }
    },
    {
      "cell_type": "code",
      "execution_count": 14,
      "outputs": [
        {
          "output_type": "execute_result",
          "data": {
            "text/plain": [
              "array([[[    0,     0],\n",
              "        [   -2,     3],\n",
              "        [ -400,   500]],\n",
              "\n",
              "       [[    0,     0],\n",
              "        [   -8,     9],\n",
              "        [-1000,  1100]]])"
            ]
          },
          "metadata": {},
          "execution_count": 14
        }
      ],
      "source": [
        "a * b"
      ],
      "metadata": {
        "id": "e4cMOo98FBcK",
        "outputId": "f0865c24-8db5-4eba-f947-ac7922f6e251",
        "colab": {
          "base_uri": "https://localhost:8080/"
        }
      }
    },
    {
      "cell_type": "markdown",
      "source": [
        "---\n",
        "\n",
        "### 4.2 | В дополнение о форме"
      ],
      "metadata": {
        "collapsed": false,
        "id": "LmMaZqXxFBcK"
      }
    },
    {
      "cell_type": "markdown",
      "source": [
        "---\n",
        "\n",
        "Начнем с функции $\\mathsf{np.flip}$, разворачивающей содержимое массива целиком или вдоль оси:"
      ],
      "metadata": {
        "collapsed": false,
        "id": "8MJ7su5VFBcK"
      }
    },
    {
      "cell_type": "code",
      "execution_count": 15,
      "outputs": [
        {
          "output_type": "execute_result",
          "data": {
            "text/plain": [
              "array([[ 1,  2,  3,  4],\n",
              "       [ 5,  6,  7,  8],\n",
              "       [ 9, 10, 11, 12]])"
            ]
          },
          "metadata": {},
          "execution_count": 15
        }
      ],
      "source": [
        "arr = np.arange(1, 13).reshape((3, 4))\n",
        "arr"
      ],
      "metadata": {
        "id": "ubSK1VX6FBcK",
        "outputId": "09a0bdbf-8199-4a2d-f7fc-99133f152ecb",
        "colab": {
          "base_uri": "https://localhost:8080/"
        }
      }
    },
    {
      "cell_type": "code",
      "execution_count": 16,
      "outputs": [
        {
          "output_type": "execute_result",
          "data": {
            "text/plain": [
              "array([[12, 11, 10,  9],\n",
              "       [ 8,  7,  6,  5],\n",
              "       [ 4,  3,  2,  1]])"
            ]
          },
          "metadata": {},
          "execution_count": 16
        }
      ],
      "source": [
        "np.flip(arr)"
      ],
      "metadata": {
        "id": "-02lfS2MFBcL",
        "outputId": "88caacf6-ca9e-4228-de98-faffaf001a4c",
        "colab": {
          "base_uri": "https://localhost:8080/"
        }
      }
    },
    {
      "cell_type": "code",
      "execution_count": 17,
      "outputs": [
        {
          "output_type": "execute_result",
          "data": {
            "text/plain": [
              "array([[ 9, 10, 11, 12],\n",
              "       [ 5,  6,  7,  8],\n",
              "       [ 1,  2,  3,  4]])"
            ]
          },
          "metadata": {},
          "execution_count": 17
        }
      ],
      "source": [
        "np.flip(arr, axis=0)"
      ],
      "metadata": {
        "id": "xTzdr3i6FBcL",
        "outputId": "2738b6c5-4c70-4895-f2ff-e43fba3ef7a3",
        "colab": {
          "base_uri": "https://localhost:8080/"
        }
      }
    },
    {
      "cell_type": "code",
      "execution_count": 18,
      "outputs": [
        {
          "output_type": "execute_result",
          "data": {
            "text/plain": [
              "array([[ 4,  3,  2,  1],\n",
              "       [ 8,  7,  6,  5],\n",
              "       [12, 11, 10,  9]])"
            ]
          },
          "metadata": {},
          "execution_count": 18
        }
      ],
      "source": [
        "np.flip(arr, axis=1)"
      ],
      "metadata": {
        "id": "0A92bMEvFBcL",
        "outputId": "906e0b7b-4326-4c2a-bc2a-e2235ad00ef6",
        "colab": {
          "base_uri": "https://localhost:8080/"
        }
      }
    },
    {
      "cell_type": "markdown",
      "source": [
        "С помощью этой функции можно выполнять такие трюки, как реверс строки или колонки:"
      ],
      "metadata": {
        "collapsed": false,
        "id": "G0aRPlztFBcL"
      }
    },
    {
      "cell_type": "code",
      "execution_count": 19,
      "outputs": [
        {
          "output_type": "execute_result",
          "data": {
            "text/plain": [
              "array([[ 1,  2,  3,  4],\n",
              "       [ 5,  6,  7,  8],\n",
              "       [ 9, 10, 11, 12]])"
            ]
          },
          "metadata": {},
          "execution_count": 19
        }
      ],
      "source": [
        "arr"
      ],
      "metadata": {
        "id": "qBCmJY53FBcL",
        "outputId": "74e2c9e4-126f-421f-9adf-f90758eae23f",
        "colab": {
          "base_uri": "https://localhost:8080/"
        }
      }
    },
    {
      "cell_type": "code",
      "execution_count": 20,
      "outputs": [
        {
          "output_type": "execute_result",
          "data": {
            "text/plain": [
              "array([[ 1,  2,  3,  4],\n",
              "       [ 8,  7,  6,  5],\n",
              "       [ 9, 10, 11, 12]])"
            ]
          },
          "metadata": {},
          "execution_count": 20
        }
      ],
      "source": [
        "arr1, arr2 = arr.copy(), arr.copy()\n",
        "\n",
        "arr1[1] = np.flip(arr[1])\n",
        "arr1"
      ],
      "metadata": {
        "id": "gXxaZ4K2FBcL",
        "outputId": "12535434-585d-48fb-a403-3a4ee0a4ba69",
        "colab": {
          "base_uri": "https://localhost:8080/"
        }
      }
    },
    {
      "cell_type": "code",
      "execution_count": 21,
      "outputs": [
        {
          "output_type": "execute_result",
          "data": {
            "text/plain": [
              "array([[ 1, 10,  3,  4],\n",
              "       [ 5,  6,  7,  8],\n",
              "       [ 9,  2, 11, 12]])"
            ]
          },
          "metadata": {},
          "execution_count": 21
        }
      ],
      "source": [
        "arr2[:, 1] = np.flip(arr[:, 1])\n",
        "arr2"
      ],
      "metadata": {
        "id": "4bJyvTWyFBcM",
        "outputId": "0ff2dd48-d713-47ab-9d0b-34279a1554c1",
        "colab": {
          "base_uri": "https://localhost:8080/"
        }
      }
    },
    {
      "cell_type": "markdown",
      "source": [
        "---\n",
        "\n",
        "Транспонирование матриц производится с помощью метода $\\mathsf{transpose}$:"
      ],
      "metadata": {
        "collapsed": false,
        "id": "WBzdjd4MFBcM"
      }
    },
    {
      "cell_type": "code",
      "execution_count": 22,
      "outputs": [
        {
          "output_type": "execute_result",
          "data": {
            "text/plain": [
              "array([[1, 2, 3, 4],\n",
              "       [5, 6, 7, 8]])"
            ]
          },
          "metadata": {},
          "execution_count": 22
        }
      ],
      "source": [
        "arr = np.arange(1, 9).reshape((2, -1))\n",
        "arr"
      ],
      "metadata": {
        "id": "yHtG_yoxFBcM",
        "outputId": "4dcc8dfc-3053-44de-a78b-8521a8ac169a",
        "colab": {
          "base_uri": "https://localhost:8080/"
        }
      }
    },
    {
      "cell_type": "code",
      "execution_count": 23,
      "outputs": [
        {
          "output_type": "execute_result",
          "data": {
            "text/plain": [
              "array([[1, 5],\n",
              "       [2, 6],\n",
              "       [3, 7],\n",
              "       [4, 8]])"
            ]
          },
          "metadata": {},
          "execution_count": 23
        }
      ],
      "source": [
        "arr.transpose()"
      ],
      "metadata": {
        "id": "6cQXhwDBFBcM",
        "outputId": "592cfb8d-b0d0-4f66-dc91-d230555c8a61",
        "colab": {
          "base_uri": "https://localhost:8080/"
        }
      }
    },
    {
      "cell_type": "markdown",
      "source": [
        "---\n",
        "\n",
        "### Функции для сбора статистики"
      ],
      "metadata": {
        "collapsed": false,
        "id": "3dNJIpeeFBcM"
      }
    },
    {
      "cell_type": "markdown",
      "source": [
        "---\n",
        "\n",
        "Для сбора уникальных значений существует функция $\\mathsf{np.unique}$:"
      ],
      "metadata": {
        "collapsed": false,
        "id": "o7QGH6_PFBcM"
      }
    },
    {
      "cell_type": "code",
      "execution_count": 24,
      "outputs": [
        {
          "output_type": "execute_result",
          "data": {
            "text/plain": [
              "array([1, 4, 5, 7])"
            ]
          },
          "metadata": {},
          "execution_count": 24
        }
      ],
      "source": [
        "arr = np.array([1, 1, 1, 4, 5, 7, 4, 5])\n",
        "np.unique(arr)"
      ],
      "metadata": {
        "id": "MRJp436xFBcM",
        "outputId": "f1d7d85c-ab6f-467d-e26f-165510669afc",
        "colab": {
          "base_uri": "https://localhost:8080/"
        }
      }
    },
    {
      "cell_type": "markdown",
      "source": [
        "Если поставить флаг $\\mathsf{return\\_index}$, то мы получим список индексов первого вхождения представленных уникальных элементов:"
      ],
      "metadata": {
        "collapsed": false,
        "id": "iIWZyi8-FBcN"
      }
    },
    {
      "cell_type": "code",
      "execution_count": 25,
      "outputs": [
        {
          "output_type": "execute_result",
          "data": {
            "text/plain": [
              "array([1, 1, 1, 4, 5, 7, 4, 5])"
            ]
          },
          "metadata": {},
          "execution_count": 25
        }
      ],
      "source": [
        "arr"
      ],
      "metadata": {
        "id": "mNrX4s8eFBcN",
        "outputId": "8faaf799-8236-4bc9-9e21-287911bad8d1",
        "colab": {
          "base_uri": "https://localhost:8080/"
        }
      }
    },
    {
      "cell_type": "code",
      "execution_count": 26,
      "outputs": [
        {
          "output_type": "execute_result",
          "data": {
            "text/plain": [
              "array([1, 4, 5, 7])"
            ]
          },
          "metadata": {},
          "execution_count": 26
        }
      ],
      "source": [
        "unique_values, indices_list = np.unique(arr, return_index=True)\n",
        "unique_values"
      ],
      "metadata": {
        "id": "JB9300fIFBcN",
        "outputId": "a7678e46-2713-4e9d-eb4d-a53965140456",
        "colab": {
          "base_uri": "https://localhost:8080/"
        }
      }
    },
    {
      "cell_type": "code",
      "execution_count": 27,
      "outputs": [
        {
          "output_type": "execute_result",
          "data": {
            "text/plain": [
              "array([0, 3, 4, 5])"
            ]
          },
          "metadata": {},
          "execution_count": 27
        }
      ],
      "source": [
        "indices_list"
      ],
      "metadata": {
        "id": "63W5xksoFBcN",
        "outputId": "ba68fe32-6afd-47da-ad26-aff026923c73",
        "colab": {
          "base_uri": "https://localhost:8080/"
        }
      }
    },
    {
      "cell_type": "markdown",
      "source": [
        "Функция поддерживает также выбор $\\mathsf{axis}$:"
      ],
      "metadata": {
        "collapsed": false,
        "id": "pvq4KyO3FBcN"
      }
    },
    {
      "cell_type": "code",
      "execution_count": 28,
      "outputs": [
        {
          "output_type": "execute_result",
          "data": {
            "text/plain": [
              "array([[ 1,  2,  3,  1],\n",
              "       [ 5,  6,  7,  5],\n",
              "       [ 9, 10, 11,  9],\n",
              "       [ 1,  2,  3,  1]])"
            ]
          },
          "metadata": {},
          "execution_count": 28
        }
      ],
      "source": [
        "arr = np.array([\n",
        "    [1, 2, 3, 1],\n",
        "    [5, 6, 7, 5],\n",
        "    [9, 10, 11, 9],\n",
        "    [1, 2, 3, 1]\n",
        "])\n",
        "arr"
      ],
      "metadata": {
        "id": "soePs10fFBcN",
        "outputId": "0828dfa7-5ef9-4525-efb9-b646a5a3cd7c",
        "colab": {
          "base_uri": "https://localhost:8080/"
        }
      }
    },
    {
      "cell_type": "code",
      "execution_count": 29,
      "outputs": [
        {
          "output_type": "execute_result",
          "data": {
            "text/plain": [
              "array([[ 1,  2,  3,  1],\n",
              "       [ 5,  6,  7,  5],\n",
              "       [ 9, 10, 11,  9]])"
            ]
          },
          "metadata": {},
          "execution_count": 29
        }
      ],
      "source": [
        "np.unique(arr, axis=0)"
      ],
      "metadata": {
        "id": "lElOm7ltFBcO",
        "outputId": "95ea650c-7476-424f-b333-db150ddb3cc8",
        "colab": {
          "base_uri": "https://localhost:8080/"
        }
      }
    },
    {
      "cell_type": "code",
      "execution_count": 30,
      "outputs": [
        {
          "output_type": "execute_result",
          "data": {
            "text/plain": [
              "array([[ 1,  2,  3],\n",
              "       [ 5,  6,  7],\n",
              "       [ 9, 10, 11],\n",
              "       [ 1,  2,  3]])"
            ]
          },
          "metadata": {},
          "execution_count": 30
        }
      ],
      "source": [
        "np.unique(arr, axis=1)"
      ],
      "metadata": {
        "id": "nTnkYsKKFBcO",
        "outputId": "7c59bbcf-9502-450f-a700-8c3b5a33adea",
        "colab": {
          "base_uri": "https://localhost:8080/"
        }
      }
    },
    {
      "cell_type": "code",
      "execution_count": 31,
      "outputs": [
        {
          "output_type": "execute_result",
          "data": {
            "text/plain": [
              "array([ 1,  2,  3,  5,  6,  7,  9, 10, 11])"
            ]
          },
          "metadata": {},
          "execution_count": 31
        }
      ],
      "source": [
        "np.unique(arr)"
      ],
      "metadata": {
        "id": "dwTY0AMfFBcO",
        "outputId": "18bb9182-11cc-43da-fe43-a66d231d197d",
        "colab": {
          "base_uri": "https://localhost:8080/"
        }
      }
    },
    {
      "cell_type": "markdown",
      "source": [
        "Функцию также можно попросить вернуть нам встречаемость соответствующих элементов, используя параметр $\\mathsf{return\\_counts}$:"
      ],
      "metadata": {
        "collapsed": false,
        "id": "tn8aV6UkFBcO"
      }
    },
    {
      "cell_type": "code",
      "execution_count": 32,
      "outputs": [
        {
          "output_type": "execute_result",
          "data": {
            "text/plain": [
              "array([[ 1,  2,  3,  1],\n",
              "       [ 5,  6,  7,  5],\n",
              "       [ 9, 10, 11,  9]])"
            ]
          },
          "metadata": {},
          "execution_count": 32
        }
      ],
      "source": [
        "unique_rows, indices, occurrence_count = np.unique(\n",
        "    arr, axis=0, return_counts=True, return_index=True)\n",
        "unique_rows"
      ],
      "metadata": {
        "id": "VOH6WO_RFBcO",
        "outputId": "5591fd10-af07-4fb9-a7ce-3377aa7cc275",
        "colab": {
          "base_uri": "https://localhost:8080/"
        }
      }
    },
    {
      "cell_type": "code",
      "execution_count": 33,
      "outputs": [
        {
          "output_type": "execute_result",
          "data": {
            "text/plain": [
              "array([0, 1, 2])"
            ]
          },
          "metadata": {},
          "execution_count": 33
        }
      ],
      "source": [
        "indices"
      ],
      "metadata": {
        "id": "7iBu25avFBcO",
        "outputId": "1d88dd45-247a-48cd-f86f-1828009aa78f",
        "colab": {
          "base_uri": "https://localhost:8080/"
        }
      }
    },
    {
      "cell_type": "code",
      "execution_count": 34,
      "outputs": [
        {
          "output_type": "execute_result",
          "data": {
            "text/plain": [
              "array([2, 1, 1])"
            ]
          },
          "metadata": {},
          "execution_count": 34
        }
      ],
      "source": [
        "occurrence_count"
      ],
      "metadata": {
        "id": "qYGbyvlOFBcP",
        "outputId": "42cba0e0-41bd-468d-a271-f347cb4ba246",
        "colab": {
          "base_uri": "https://localhost:8080/"
        }
      }
    },
    {
      "cell_type": "markdown",
      "source": [
        "---\n",
        "\n",
        "Конструкции библиотеки позволяют нам, например, быстро и понятно имплиментировать выражение для подсчета среднеквадратичного отклонения:\n",
        "\n",
        "$$\n",
        "MeanSquareError = \\dfrac{1}{n}\\sum\\limits_{i=1}^n\\left(Y\\_prediction_i - Y\\_real_i\\right)^2\n",
        "$$\n",
        "\n",
        "Средствами чистого $\\mathsf{python}$ это можно сделать так:"
      ],
      "metadata": {
        "collapsed": false,
        "id": "BwufqvRRFBcP"
      }
    },
    {
      "cell_type": "code",
      "execution_count": 35,
      "outputs": [
        {
          "output_type": "execute_result",
          "data": {
            "text/plain": [
              "0.022"
            ]
          },
          "metadata": {},
          "execution_count": 35
        }
      ],
      "source": [
        "# Пример инициализации\n",
        "n = 10\n",
        "y_pred = [1.1, 2.0, 2.9, 2.4, 1.0, 1.3, 2.2, 2.5, 3.0, 1.9]\n",
        "y_real = [1.0, 2.0, 3.0, 2.5, 1.0, 1.0, 2.5, 2.5, 3.0, 2.0]\n",
        "\n",
        "# Сама функция\n",
        "\n",
        "mean_square_error = 0\n",
        "\n",
        "for i in range(n):\n",
        "    mean_square_error += (y_pred[i] - y_real[i]) ** 2\n",
        "mean_square_error /= n\n",
        "\n",
        "mean_square_error"
      ],
      "metadata": {
        "id": "09wIIeJfFBcP",
        "outputId": "befff62b-dcf2-4645-f0e6-b3376c627618",
        "colab": {
          "base_uri": "https://localhost:8080/"
        }
      }
    },
    {
      "cell_type": "markdown",
      "source": [
        "Или для тех, кто опытен в использовании этого языка программирования:"
      ],
      "metadata": {
        "collapsed": false,
        "id": "uoBbBTkQFBcP"
      }
    },
    {
      "cell_type": "code",
      "execution_count": 36,
      "outputs": [
        {
          "output_type": "execute_result",
          "data": {
            "text/plain": [
              "0.022"
            ]
          },
          "metadata": {},
          "execution_count": 36
        }
      ],
      "source": [
        "# Пример инициализации\n",
        "n = 10\n",
        "y_pred = [1.1, 2.0, 2.9, 2.4, 1.0, 1.3, 2.2, 2.5, 3.0, 1.9]\n",
        "y_real = [1.0, 2.0, 3.0, 2.5, 1.0, 1.0, 2.5, 2.5, 3.0, 2.0]\n",
        "\n",
        "# Сама функция\n",
        "\n",
        "mean_square_error = sum([(i_pred - i_real) ** 2\n",
        "    for i_pred, i_real in zip(y_pred, y_real)]) / n\n",
        "\n",
        "mean_square_error"
      ],
      "metadata": {
        "id": "NfUSbRcAFBcP",
        "outputId": "094c193d-8fe5-4c88-f2e4-97a82515c060",
        "colab": {
          "base_uri": "https://localhost:8080/"
        }
      }
    },
    {
      "cell_type": "markdown",
      "source": [
        "А вот, чего можно добиться, используя лишь средства $\\mathsf{numpy}$:"
      ],
      "metadata": {
        "collapsed": false,
        "id": "HgKkFybWFBcP"
      }
    },
    {
      "cell_type": "code",
      "execution_count": 37,
      "outputs": [
        {
          "output_type": "execute_result",
          "data": {
            "text/plain": [
              "0.022"
            ]
          },
          "metadata": {},
          "execution_count": 37
        }
      ],
      "source": [
        "# Пример инициализации\n",
        "\n",
        "n = 10\n",
        "y_pred = np.array([\n",
        "    1.1, 2.0, 2.9, 2.4, 1.0, 1.3, 2.2, 2.5, 3.0, 1.9])\n",
        "y_real = np.array([\n",
        "    1.0, 2.0, 3.0, 2.5, 1.0, 1.0, 2.5, 2.5, 3.0, 2.0])\n",
        "\n",
        "# Сама функция\n",
        "\n",
        "mean_square_error = np.sum((y_pred - y_real) ** 2) / n\n",
        "\n",
        "mean_square_error"
      ],
      "metadata": {
        "id": "vqhR_8W_FBcQ",
        "outputId": "972f5b98-5e70-4365-8f56-ebacbd3ed2bd",
        "colab": {
          "base_uri": "https://localhost:8080/"
        }
      }
    },
    {
      "cell_type": "markdown",
      "source": [
        "---"
      ],
      "metadata": {
        "collapsed": false,
        "id": "DjkpjmRIFBcQ"
      }
    }
  ],
  "metadata": {
    "kernelspec": {
      "display_name": "Python 3",
      "language": "python",
      "name": "python3"
    },
    "language_info": {
      "codemirror_mode": {
        "name": "ipython",
        "version": 2
      },
      "file_extension": ".py",
      "mimetype": "text/x-python",
      "name": "python",
      "nbconvert_exporter": "python",
      "pygments_lexer": "ipython2",
      "version": "2.7.6"
    },
    "colab": {
      "provenance": []
    }
  },
  "nbformat": 4,
  "nbformat_minor": 0
}