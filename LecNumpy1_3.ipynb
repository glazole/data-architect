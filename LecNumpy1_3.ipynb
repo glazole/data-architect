{
  "cells": [
    {
      "cell_type": "markdown",
      "source": [
        "---\n",
        "\n",
        "# Введение в NumPy\n"
      ],
      "metadata": {
        "collapsed": false,
        "id": "nCBOysUWFBby"
      }
    },
    {
      "cell_type": "code",
      "execution_count": 1,
      "outputs": [],
      "source": [
        "import numpy as np"
      ],
      "metadata": {
        "id": "xzGvCKYFFBb0"
      }
    },
    {
      "cell_type": "markdown",
      "source": [
        "---\n",
        "\n",
        "### 3.3 | Индексация, срезы и маски"
      ],
      "metadata": {
        "collapsed": false,
        "id": "CO347lPGFBcC"
      }
    },
    {
      "cell_type": "markdown",
      "source": [
        "---\n",
        "\n",
        "Обращаться к элементам одномерного массива и брать срезы от него можно так:"
      ],
      "metadata": {
        "collapsed": false,
        "id": "Yb35R2Y-FBcC"
      }
    },
    {
      "cell_type": "code",
      "execution_count": 2,
      "outputs": [
        {
          "output_type": "execute_result",
          "data": {
            "text/plain": [
              "(array([4, 5, 6, 7]), 5)"
            ]
          },
          "metadata": {},
          "execution_count": 2
        }
      ],
      "source": [
        "arr = np.arange(4, 8)\n",
        "arr, arr[1] # Взятие первого по индексу элемента"
      ],
      "metadata": {
        "id": "VxFPPaFUFBcC",
        "outputId": "ab9266bf-fcfb-4ed8-b329-92367b0733b7",
        "colab": {
          "base_uri": "https://localhost:8080/"
        }
      }
    },
    {
      "cell_type": "code",
      "execution_count": 3,
      "outputs": [
        {
          "output_type": "execute_result",
          "data": {
            "text/plain": [
              "array([4, 5])"
            ]
          },
          "metadata": {},
          "execution_count": 3
        }
      ],
      "source": [
        "arr[0:2] # Срез от 0 до 2 индекса"
      ],
      "metadata": {
        "id": "1YCSJLD_FBcC",
        "outputId": "d991ef5e-a114-4892-fb5f-32698f1d14a3",
        "colab": {
          "base_uri": "https://localhost:8080/"
        }
      }
    },
    {
      "cell_type": "code",
      "execution_count": 4,
      "outputs": [
        {
          "output_type": "execute_result",
          "data": {
            "text/plain": [
              "array([5, 6, 7])"
            ]
          },
          "metadata": {},
          "execution_count": 4
        }
      ],
      "source": [
        "arr[1:] # Срез от первого индекса и до конца"
      ],
      "metadata": {
        "id": "mnMcsNh_FBcD",
        "outputId": "cc79bf5d-37db-48f3-f34c-b62beae1fba1",
        "colab": {
          "base_uri": "https://localhost:8080/"
        }
      }
    },
    {
      "cell_type": "code",
      "execution_count": 5,
      "outputs": [
        {
          "output_type": "execute_result",
          "data": {
            "text/plain": [
              "array([6, 7])"
            ]
          },
          "metadata": {},
          "execution_count": 5
        }
      ],
      "source": [
        "arr[-2:] # Сраз со второго с конца индекса и до конца"
      ],
      "metadata": {
        "id": "4Uep9Z_JFBcD",
        "outputId": "60e22455-828c-457e-81bc-0be56f51a7fa",
        "colab": {
          "base_uri": "https://localhost:8080/"
        }
      }
    },
    {
      "cell_type": "code",
      "source": [
        "arr[::-1]"
      ],
      "metadata": {
        "colab": {
          "base_uri": "https://localhost:8080/"
        },
        "id": "2nkLltzLmKtP",
        "outputId": "07ced9d3-19c9-46ac-9750-3eab92e59cf4"
      },
      "execution_count": 6,
      "outputs": [
        {
          "output_type": "execute_result",
          "data": {
            "text/plain": [
              "array([7, 6, 5, 4])"
            ]
          },
          "metadata": {},
          "execution_count": 6
        }
      ]
    },
    {
      "cell_type": "markdown",
      "source": [
        "---\n",
        "\n",
        "Использовать индексы и срезы в многомерных массивах можно так:"
      ],
      "metadata": {
        "collapsed": false,
        "id": "Iu8V26FyFBcD"
      }
    },
    {
      "cell_type": "code",
      "execution_count": 7,
      "outputs": [
        {
          "output_type": "execute_result",
          "data": {
            "text/plain": [
              "array([[1, 2],\n",
              "       [3, 4],\n",
              "       [5, 6]])"
            ]
          },
          "metadata": {},
          "execution_count": 7
        }
      ],
      "source": [
        "arr = np.array([[1, 2], [3, 4], [5, 6]])\n",
        "arr"
      ],
      "metadata": {
        "id": "98jcg-8VFBcD",
        "outputId": "38cc4c5b-e7da-49c7-ffa4-81398f7a0ac0",
        "colab": {
          "base_uri": "https://localhost:8080/"
        }
      }
    },
    {
      "cell_type": "code",
      "execution_count": 8,
      "outputs": [
        {
          "output_type": "execute_result",
          "data": {
            "text/plain": [
              "4"
            ]
          },
          "metadata": {},
          "execution_count": 8
        }
      ],
      "source": [
        "arr[1, 1]"
      ],
      "metadata": {
        "id": "DOhz_Ym_FBcD",
        "outputId": "06ac2acb-8fdc-478c-91de-e33d39fdf75a",
        "colab": {
          "base_uri": "https://localhost:8080/"
        }
      }
    },
    {
      "cell_type": "code",
      "execution_count": 9,
      "outputs": [
        {
          "output_type": "execute_result",
          "data": {
            "text/plain": [
              "array([1, 3, 5])"
            ]
          },
          "metadata": {},
          "execution_count": 9
        }
      ],
      "source": [
        "arr[:, 0]"
      ],
      "metadata": {
        "id": "gEGZ889FFBcD",
        "outputId": "ef62ab52-1804-4a14-f481-42014ab27103",
        "colab": {
          "base_uri": "https://localhost:8080/"
        }
      }
    },
    {
      "cell_type": "code",
      "execution_count": 10,
      "outputs": [
        {
          "output_type": "execute_result",
          "data": {
            "text/plain": [
              "array([[3],\n",
              "       [5]])"
            ]
          },
          "metadata": {},
          "execution_count": 10
        }
      ],
      "source": [
        "arr[-2:, :1]"
      ],
      "metadata": {
        "id": "351hZeHvFBcE",
        "outputId": "077b083e-dce9-4cae-a1ee-88007ec9f201",
        "colab": {
          "base_uri": "https://localhost:8080/"
        }
      }
    },
    {
      "cell_type": "markdown",
      "source": [
        "---\n",
        "\n",
        "Логические маски можно получать следующим образом:"
      ],
      "metadata": {
        "collapsed": false,
        "id": "MZySGB1_FBcE"
      }
    },
    {
      "cell_type": "code",
      "execution_count": 11,
      "outputs": [
        {
          "output_type": "execute_result",
          "data": {
            "text/plain": [
              "array([[1, 2],\n",
              "       [3, 4],\n",
              "       [5, 6]])"
            ]
          },
          "metadata": {},
          "execution_count": 11
        }
      ],
      "source": [
        "arr = np.array([[1, 2], [3, 4], [5, 6]])\n",
        "arr"
      ],
      "metadata": {
        "id": "imCvrZVxFBcE",
        "outputId": "dda60d57-2b06-4bd2-93f6-620cb04ceac2",
        "colab": {
          "base_uri": "https://localhost:8080/"
        }
      }
    },
    {
      "cell_type": "code",
      "execution_count": 12,
      "outputs": [
        {
          "output_type": "execute_result",
          "data": {
            "text/plain": [
              "array([[False, False],\n",
              "       [False,  True],\n",
              "       [ True,  True]])"
            ]
          },
          "metadata": {},
          "execution_count": 12
        }
      ],
      "source": [
        "arr > 3"
      ],
      "metadata": {
        "id": "NY1GHuSuFBcE",
        "outputId": "d9b58d47-02e4-4096-98f4-ce27e9ca44cc",
        "colab": {
          "base_uri": "https://localhost:8080/"
        }
      }
    },
    {
      "cell_type": "markdown",
      "source": [
        "---\n",
        "\n",
        "Маски можно накладывать на реальные данные:"
      ],
      "metadata": {
        "collapsed": false,
        "id": "7cgf3GydFBcE"
      }
    },
    {
      "cell_type": "code",
      "execution_count": 13,
      "outputs": [
        {
          "output_type": "execute_result",
          "data": {
            "text/plain": [
              "array([4, 5, 6])"
            ]
          },
          "metadata": {},
          "execution_count": 13
        }
      ],
      "source": [
        "mask = arr > 3\n",
        "arr[mask]"
      ],
      "metadata": {
        "id": "-Ajt4hHjFBcE",
        "outputId": "1137a3e7-f9cc-49b0-d927-f7d1e722a497",
        "colab": {
          "base_uri": "https://localhost:8080/"
        }
      }
    },
    {
      "cell_type": "code",
      "source": [
        "~mask"
      ],
      "metadata": {
        "colab": {
          "base_uri": "https://localhost:8080/"
        },
        "id": "C2UtFcvUmiFi",
        "outputId": "9184afff-2cc5-4f28-ae66-3f6bd9606679"
      },
      "execution_count": 14,
      "outputs": [
        {
          "output_type": "execute_result",
          "data": {
            "text/plain": [
              "array([[ True,  True],\n",
              "       [ True, False],\n",
              "       [False, False]])"
            ]
          },
          "metadata": {},
          "execution_count": 14
        }
      ]
    },
    {
      "cell_type": "code",
      "source": [
        "arr[~mask]"
      ],
      "metadata": {
        "colab": {
          "base_uri": "https://localhost:8080/"
        },
        "id": "cT1dhN6cmds9",
        "outputId": "ad3bb7cc-330b-4710-9786-6957ef834459"
      },
      "execution_count": 15,
      "outputs": [
        {
          "output_type": "execute_result",
          "data": {
            "text/plain": [
              "array([1, 2, 3])"
            ]
          },
          "metadata": {},
          "execution_count": 15
        }
      ]
    },
    {
      "cell_type": "markdown",
      "source": [
        "---\n",
        "\n",
        "Поддерживаются также логические операции <<или>> или <<и>>:"
      ],
      "metadata": {
        "collapsed": false,
        "id": "H_FtD3f9FBcF"
      }
    },
    {
      "cell_type": "code",
      "execution_count": 16,
      "outputs": [
        {
          "output_type": "execute_result",
          "data": {
            "text/plain": [
              "array([2, 3, 4, 5, 6])"
            ]
          },
          "metadata": {},
          "execution_count": 16
        }
      ],
      "source": [
        "mask = ((arr > 0) & (arr % 2 == 0)) | (arr == 5) | (arr == 3)\n",
        "arr[mask]"
      ],
      "metadata": {
        "id": "O5tf517lFBcF",
        "outputId": "1f86b8d8-d188-4d26-8662-0221bd6953bb",
        "colab": {
          "base_uri": "https://localhost:8080/"
        }
      }
    },
    {
      "cell_type": "markdown",
      "source": [
        "---\n",
        "\n",
        "Выделенным ячейкам можно присваивать разные значения:"
      ],
      "metadata": {
        "collapsed": false,
        "id": "KtyXaYV0FBcF"
      }
    },
    {
      "cell_type": "code",
      "execution_count": 17,
      "outputs": [
        {
          "output_type": "execute_result",
          "data": {
            "text/plain": [
              "array([[1, 2],\n",
              "       [3, 4],\n",
              "       [5, 6]])"
            ]
          },
          "metadata": {},
          "execution_count": 17
        }
      ],
      "source": [
        "arr = np.array([[1, 2], [3, 4], [5, 6]])\n",
        "arr"
      ],
      "metadata": {
        "id": "Gs8aSzsYFBcF",
        "outputId": "e4357858-b621-48ed-db36-0ffa4120a6c8",
        "colab": {
          "base_uri": "https://localhost:8080/"
        }
      }
    },
    {
      "cell_type": "code",
      "execution_count": 18,
      "outputs": [
        {
          "output_type": "execute_result",
          "data": {
            "text/plain": [
              "array([[ 1, 10],\n",
              "       [ 3,  4],\n",
              "       [ 5,  6]])"
            ]
          },
          "metadata": {},
          "execution_count": 18
        }
      ],
      "source": [
        "arr[0, 1] = 10 # Присваиваем конкретной ячейке значение 10\n",
        "arr"
      ],
      "metadata": {
        "id": "kJqV-VIzFBcF",
        "outputId": "331efda9-f528-46bc-f4e7-7a557e05e3cc",
        "colab": {
          "base_uri": "https://localhost:8080/"
        }
      }
    },
    {
      "cell_type": "code",
      "execution_count": 19,
      "outputs": [
        {
          "output_type": "execute_result",
          "data": {
            "text/plain": [
              "array([[ 1, 10],\n",
              "       [ 0,  0],\n",
              "       [ 5,  6]])"
            ]
          },
          "metadata": {},
          "execution_count": 19
        }
      ],
      "source": [
        "arr[1, :] = 0 # Срез ячеек первой строки и всех колонок\n",
        "arr"
      ],
      "metadata": {
        "id": "VnLy9owdFBcF",
        "outputId": "fa31ec0e-c5bd-4250-d031-9d4529b5331c",
        "colab": {
          "base_uri": "https://localhost:8080/"
        }
      }
    },
    {
      "cell_type": "code",
      "execution_count": 20,
      "outputs": [
        {
          "output_type": "execute_result",
          "data": {
            "text/plain": [
              "array([[ 1, 75],\n",
              "       [75, 75],\n",
              "       [ 5, 75]])"
            ]
          },
          "metadata": {},
          "execution_count": 20
        }
      ],
      "source": [
        "arr[arr % 2 == 0] = 75 # Все ячейки с нечетными значениями\n",
        "arr"
      ],
      "metadata": {
        "id": "O9V4GSB6FBcG",
        "outputId": "1fe21c83-5e77-44a7-efce-df5216edb1b2",
        "colab": {
          "base_uri": "https://localhost:8080/"
        }
      }
    },
    {
      "cell_type": "markdown",
      "source": [
        "---\n",
        "\n",
        "Можно получить индексы всех элементов, удовлетворяющих маске:"
      ],
      "metadata": {
        "collapsed": false,
        "id": "FZjhqz1cFBcG"
      }
    },
    {
      "cell_type": "code",
      "execution_count": 21,
      "outputs": [
        {
          "output_type": "execute_result",
          "data": {
            "text/plain": [
              "array([[1, 2, 3],\n",
              "       [4, 5, 6],\n",
              "       [7, 8, 9]])"
            ]
          },
          "metadata": {},
          "execution_count": 21
        }
      ],
      "source": [
        "arr = np.array([[1, 2, 3], [4, 5, 6], [7, 8, 9]])\n",
        "arr"
      ],
      "metadata": {
        "id": "xdR48K4fFBcG",
        "outputId": "9f4a1462-16cb-4529-88a2-0c32d9e06d7b",
        "colab": {
          "base_uri": "https://localhost:8080/"
        }
      }
    },
    {
      "cell_type": "code",
      "execution_count": 22,
      "outputs": [
        {
          "output_type": "execute_result",
          "data": {
            "text/plain": [
              "(array([0, 0, 0, 1, 1]), array([0, 1, 2, 0, 1]))"
            ]
          },
          "metadata": {},
          "execution_count": 22
        }
      ],
      "source": [
        "np.where(arr <  6)"
      ],
      "metadata": {
        "id": "GwBZQBJUFBcG",
        "outputId": "ee6ccb4b-ad37-4be3-c7aa-7a530bfbae82",
        "colab": {
          "base_uri": "https://localhost:8080/"
        }
      }
    },
    {
      "cell_type": "markdown",
      "source": [
        "---\n",
        "\n",
        "Существуют функции $\\mathsf{np.hsplit}$ и $\\mathsf{np.vsplit}$, разделяющие данные вдоль строк и столбцов:"
      ],
      "metadata": {
        "collapsed": false,
        "id": "gtzAKyziFBcG"
      }
    },
    {
      "cell_type": "code",
      "execution_count": 23,
      "outputs": [
        {
          "output_type": "execute_result",
          "data": {
            "text/plain": [
              "array([[ 1,  2,  3,  4,  5,  6,  7,  8,  9, 10],\n",
              "       [11, 12, 13, 14, 15, 16, 17, 18, 19, 20]])"
            ]
          },
          "metadata": {},
          "execution_count": 23
        }
      ],
      "source": [
        "arr = np.arange(1, 21).reshape((2, -1))\n",
        "arr"
      ],
      "metadata": {
        "id": "ppRw1yOBFBcG",
        "outputId": "e0870e70-bc4b-4e61-aeaa-173abb5ce1ce",
        "colab": {
          "base_uri": "https://localhost:8080/"
        }
      }
    },
    {
      "cell_type": "code",
      "execution_count": 24,
      "outputs": [
        {
          "output_type": "execute_result",
          "data": {
            "text/plain": [
              "[array([[ 1,  2],\n",
              "        [11, 12]]),\n",
              " array([[ 3,  4],\n",
              "        [13, 14]]),\n",
              " array([[ 5,  6],\n",
              "        [15, 16]]),\n",
              " array([[ 7,  8],\n",
              "        [17, 18]]),\n",
              " array([[ 9, 10],\n",
              "        [19, 20]])]"
            ]
          },
          "metadata": {},
          "execution_count": 24
        }
      ],
      "source": [
        "np.hsplit(arr, 5)"
      ],
      "metadata": {
        "id": "ZIqKFiUZFBcG",
        "outputId": "bef2840f-612e-472d-8881-75150b1a3b05",
        "colab": {
          "base_uri": "https://localhost:8080/"
        }
      }
    },
    {
      "cell_type": "markdown",
      "source": [
        "---\n",
        "\n",
        "Также есть функция $\\mathsf{np.copy}$:"
      ],
      "metadata": {
        "collapsed": false,
        "id": "VtomTMBBFBcH"
      }
    },
    {
      "cell_type": "code",
      "execution_count": 25,
      "outputs": [
        {
          "output_type": "execute_result",
          "data": {
            "text/plain": [
              "array([[0, 1, 2],\n",
              "       [3, 4, 5]])"
            ]
          },
          "metadata": {},
          "execution_count": 25
        }
      ],
      "source": [
        "arr = np.arange(6).reshape((2, -1))\n",
        "arr"
      ],
      "metadata": {
        "id": "RniqZL8YFBcH",
        "outputId": "851046fc-adf5-4a0c-b802-4ceb8b1409dc",
        "colab": {
          "base_uri": "https://localhost:8080/"
        }
      }
    },
    {
      "cell_type": "code",
      "execution_count": 26,
      "outputs": [
        {
          "output_type": "execute_result",
          "data": {
            "text/plain": [
              "array([[0, 1, 2],\n",
              "       [3, 4, 5]])"
            ]
          },
          "metadata": {},
          "execution_count": 26
        }
      ],
      "source": [
        "arr_copy = arr.copy()\n",
        "arr_copy"
      ],
      "metadata": {
        "id": "oDRGyZ7tFBcH",
        "outputId": "afc3df56-25e6-4eed-c6c9-69919d4bfd90",
        "colab": {
          "base_uri": "https://localhost:8080/"
        }
      }
    },
    {
      "cell_type": "code",
      "execution_count": 27,
      "outputs": [
        {
          "output_type": "execute_result",
          "data": {
            "text/plain": [
              "array([[10,  1, 10],\n",
              "       [ 3, 10,  5]])"
            ]
          },
          "metadata": {},
          "execution_count": 27
        }
      ],
      "source": [
        "arr_copy[arr_copy % 2 == 0] = 10\n",
        "arr_copy"
      ],
      "metadata": {
        "id": "XgQbpD_AFBcH",
        "outputId": "68f93ae7-d9c6-4cf6-e091-156f10761aa9",
        "colab": {
          "base_uri": "https://localhost:8080/"
        }
      }
    },
    {
      "cell_type": "code",
      "execution_count": 28,
      "outputs": [
        {
          "output_type": "execute_result",
          "data": {
            "text/plain": [
              "array([[0, 1, 2],\n",
              "       [3, 4, 5]])"
            ]
          },
          "metadata": {},
          "execution_count": 28
        }
      ],
      "source": [
        "arr"
      ],
      "metadata": {
        "id": "eahbUr5uFBcH",
        "outputId": "74035700-aa5e-439c-d647-644c1432258f",
        "colab": {
          "base_uri": "https://localhost:8080/"
        }
      }
    },
    {
      "cell_type": "markdown",
      "source": [
        "---"
      ],
      "metadata": {
        "collapsed": false,
        "id": "DjkpjmRIFBcQ"
      }
    }
  ],
  "metadata": {
    "kernelspec": {
      "display_name": "Python 3",
      "language": "python",
      "name": "python3"
    },
    "language_info": {
      "codemirror_mode": {
        "name": "ipython",
        "version": 2
      },
      "file_extension": ".py",
      "mimetype": "text/x-python",
      "name": "python",
      "nbconvert_exporter": "python",
      "pygments_lexer": "ipython2",
      "version": "2.7.6"
    },
    "colab": {
      "provenance": []
    }
  },
  "nbformat": 4,
  "nbformat_minor": 0
}