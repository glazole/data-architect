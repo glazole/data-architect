{
  "nbformat": 4,
  "nbformat_minor": 0,
  "metadata": {
    "colab": {
      "provenance": [],
      "toc_visible": true
    },
    "kernelspec": {
      "name": "python3",
      "display_name": "Python 3"
    },
    "language_info": {
      "name": "python"
    }
  },
  "cells": [
    {
      "cell_type": "markdown",
      "source": [
        "# Новый раздел"
      ],
      "metadata": {
        "id": "Mg-Mt0vm4LDh"
      }
    },
    {
      "cell_type": "markdown",
      "source": [
        "# **Библиотека BeautifulSoup**"
      ],
      "metadata": {
        "id": "_QIU1hh7ktN9"
      }
    },
    {
      "cell_type": "code",
      "source": [
        "!pip install beautifulsoup4 -U"
      ],
      "metadata": {
        "colab": {
          "base_uri": "https://localhost:8080/"
        },
        "id": "k5hXuK8Bk3M_",
        "outputId": "8fe8e94c-aafa-4dbb-954f-5d3f3992bea2"
      },
      "execution_count": 1,
      "outputs": [
        {
          "output_type": "stream",
          "name": "stdout",
          "text": [
            "Looking in indexes: https://pypi.org/simple, https://us-python.pkg.dev/colab-wheels/public/simple/\n",
            "Requirement already satisfied: beautifulsoup4 in /usr/local/lib/python3.10/dist-packages (4.12.2)\n",
            "Requirement already satisfied: soupsieve>1.2 in /usr/local/lib/python3.10/dist-packages (from beautifulsoup4) (2.4.1)\n"
          ]
        }
      ]
    },
    {
      "cell_type": "code",
      "source": [
        "from bs4 import BeautifulSoup # подключение библиотеки"
      ],
      "metadata": {
        "id": "dHMrScvzk5rk"
      },
      "execution_count": 2,
      "outputs": []
    },
    {
      "cell_type": "code",
      "source": [
        "html_doc = \"\"\"\n",
        "  <html>\n",
        "  <h2 style=\"padding-left: 180px;\">\n",
        "  <strong>Заголовок</strong>\n",
        "  </h2>\n",
        "  <p>\n",
        "  <a href=\"https://itmo.ru/?ysclid=lbyuch9pd5418300167\"> Ссылка </a>\n",
        "  </p>\n",
        "  <ul>\n",
        "  <li><span style=\"color: orange;\">Оранжевый</span></li>\n",
        "  <li><span style=\"color: green; font-size: xx-large;\">Зелёный</span></li>\n",
        "  <li><span style=\"color: blue; font-family: Arial; font-size: x-large; background-color: yellow\">Синий</span></li>\n",
        "  </ul></html>\"\"\""
      ],
      "metadata": {
        "id": "r0lb6D-gyuKV"
      },
      "execution_count": 3,
      "outputs": []
    },
    {
      "cell_type": "code",
      "source": [
        "print(html_doc)"
      ],
      "metadata": {
        "colab": {
          "base_uri": "https://localhost:8080/"
        },
        "id": "vfyYoFUvlJ3U",
        "outputId": "bb0f22f7-a9ed-4166-96ba-a3e720f3df88"
      },
      "execution_count": 4,
      "outputs": [
        {
          "output_type": "stream",
          "name": "stdout",
          "text": [
            "\n",
            "  <html>\n",
            "  <h2 style=\"padding-left: 180px;\">\n",
            "  <strong>Заголовок</strong>\n",
            "  </h2>\n",
            "  <p>\n",
            "  <a href=\"https://itmo.ru/?ysclid=lbyuch9pd5418300167\"> Ссылка </a>\n",
            "  </p>\n",
            "  <ul>\n",
            "  <li><span style=\"color: orange;\">Оранжевый</span></li>\n",
            "  <li><span style=\"color: green; font-size: xx-large;\">Зелёный</span></li>\n",
            "  <li><span style=\"color: blue; font-family: Arial; font-size: x-large; background-color: yellow\">Синий</span></li>\n",
            "  </ul></html>\n"
          ]
        }
      ]
    },
    {
      "cell_type": "code",
      "source": [
        "page = BeautifulSoup(html_doc, features='html.parser')"
      ],
      "metadata": {
        "id": "WCxOYBzvlPpV"
      },
      "execution_count": 5,
      "outputs": []
    },
    {
      "cell_type": "code",
      "source": [
        "print(page)"
      ],
      "metadata": {
        "colab": {
          "base_uri": "https://localhost:8080/"
        },
        "id": "ePgfvxQElTKZ",
        "outputId": "77653782-6932-4f2a-ccc5-15b1d7a17299"
      },
      "execution_count": 6,
      "outputs": [
        {
          "output_type": "stream",
          "name": "stdout",
          "text": [
            "\n",
            "<html>\n",
            "<h2 style=\"padding-left: 180px;\">\n",
            "<strong>Заголовок</strong>\n",
            "</h2>\n",
            "<p>\n",
            "<a href=\"https://itmo.ru/?ysclid=lbyuch9pd5418300167\"> Ссылка </a>\n",
            "</p>\n",
            "<ul>\n",
            "<li><span style=\"color: orange;\">Оранжевый</span></li>\n",
            "<li><span style=\"color: green; font-size: xx-large;\">Зелёный</span></li>\n",
            "<li><span style=\"color: blue; font-family: Arial; font-size: x-large; background-color: yellow\">Синий</span></li>\n",
            "</ul></html>\n"
          ]
        }
      ]
    },
    {
      "cell_type": "code",
      "source": [
        "print(page.prettify())"
      ],
      "metadata": {
        "colab": {
          "base_uri": "https://localhost:8080/"
        },
        "id": "j_3kz48elVUk",
        "outputId": "0a06508a-ec3a-44a5-c89d-2bdbcf7a5d8b"
      },
      "execution_count": 7,
      "outputs": [
        {
          "output_type": "stream",
          "name": "stdout",
          "text": [
            "<html>\n",
            " <h2 style=\"padding-left: 180px;\">\n",
            "  <strong>\n",
            "   Заголовок\n",
            "  </strong>\n",
            " </h2>\n",
            " <p>\n",
            "  <a href=\"https://itmo.ru/?ysclid=lbyuch9pd5418300167\">\n",
            "   Ссылка\n",
            "  </a>\n",
            " </p>\n",
            " <ul>\n",
            "  <li>\n",
            "   <span style=\"color: orange;\">\n",
            "    Оранжевый\n",
            "   </span>\n",
            "  </li>\n",
            "  <li>\n",
            "   <span style=\"color: green; font-size: xx-large;\">\n",
            "    Зелёный\n",
            "   </span>\n",
            "  </li>\n",
            "  <li>\n",
            "   <span style=\"color: blue; font-family: Arial; font-size: x-large; background-color: yellow\">\n",
            "    Синий\n",
            "   </span>\n",
            "  </li>\n",
            " </ul>\n",
            "</html>\n",
            "\n"
          ]
        }
      ]
    },
    {
      "cell_type": "code",
      "source": [
        "page.li"
      ],
      "metadata": {
        "colab": {
          "base_uri": "https://localhost:8080/"
        },
        "id": "7GFlwCl7lZB4",
        "outputId": "0de85c15-898d-45e5-85d0-1fb456779287"
      },
      "execution_count": 8,
      "outputs": [
        {
          "output_type": "execute_result",
          "data": {
            "text/plain": [
              "<li><span style=\"color: orange;\">Оранжевый</span></li>"
            ]
          },
          "metadata": {},
          "execution_count": 8
        }
      ]
    },
    {
      "cell_type": "code",
      "source": [
        "page.find_all('li')"
      ],
      "metadata": {
        "colab": {
          "base_uri": "https://localhost:8080/"
        },
        "id": "O4Vbk5nGlb7J",
        "outputId": "96fdaa90-9694-4421-9532-36c5866bc1fa"
      },
      "execution_count": 9,
      "outputs": [
        {
          "output_type": "execute_result",
          "data": {
            "text/plain": [
              "[<li><span style=\"color: orange;\">Оранжевый</span></li>,\n",
              " <li><span style=\"color: green; font-size: xx-large;\">Зелёный</span></li>,\n",
              " <li><span style=\"color: blue; font-family: Arial; font-size: x-large; background-color: yellow\">Синий</span></li>]"
            ]
          },
          "metadata": {},
          "execution_count": 9
        }
      ]
    },
    {
      "cell_type": "code",
      "source": [
        "page.find('li')"
      ],
      "metadata": {
        "colab": {
          "base_uri": "https://localhost:8080/"
        },
        "id": "M6toqCYOlkmu",
        "outputId": "37dda2c3-98d3-4922-e0b4-d83a418b329a"
      },
      "execution_count": 10,
      "outputs": [
        {
          "output_type": "execute_result",
          "data": {
            "text/plain": [
              "<li><span style=\"color: orange;\">Оранжевый</span></li>"
            ]
          },
          "metadata": {},
          "execution_count": 10
        }
      ]
    },
    {
      "cell_type": "code",
      "source": [
        "page.find_all('span', {'style':'color: orange;'}) # по аттрибутам"
      ],
      "metadata": {
        "colab": {
          "base_uri": "https://localhost:8080/"
        },
        "id": "20GcLe59muEQ",
        "outputId": "c6a34d2d-7d30-4df0-d17d-b47d4aa43039"
      },
      "execution_count": 11,
      "outputs": [
        {
          "output_type": "execute_result",
          "data": {
            "text/plain": [
              "[<span style=\"color: orange;\">Оранжевый</span>]"
            ]
          },
          "metadata": {},
          "execution_count": 11
        }
      ]
    },
    {
      "cell_type": "code",
      "source": [
        "page.find_all('strong', text='Заголовок') # по тексту"
      ],
      "metadata": {
        "colab": {
          "base_uri": "https://localhost:8080/"
        },
        "id": "T2HNZ204mzYW",
        "outputId": "c45feb44-b3c1-411f-bfa4-94c6460a022a"
      },
      "execution_count": 12,
      "outputs": [
        {
          "output_type": "stream",
          "name": "stderr",
          "text": [
            "<ipython-input-12-bb44df648771>:1: DeprecationWarning: The 'text' argument to find()-type methods is deprecated. Use 'string' instead.\n",
            "  page.find_all('strong', text='Заголовок') # по тексту\n"
          ]
        },
        {
          "output_type": "execute_result",
          "data": {
            "text/plain": [
              "[<strong>Заголовок</strong>]"
            ]
          },
          "metadata": {},
          "execution_count": 12
        }
      ]
    },
    {
      "cell_type": "code",
      "source": [
        "for tag in page.find_all('span'):\n",
        " print(tag.contents, tag.get_text(), ) #извлекаем текст элемента"
      ],
      "metadata": {
        "colab": {
          "base_uri": "https://localhost:8080/"
        },
        "id": "D20S2MgNm_zq",
        "outputId": "7f012ee0-a796-4821-bfc8-52093652c7c1"
      },
      "execution_count": 13,
      "outputs": [
        {
          "output_type": "stream",
          "name": "stdout",
          "text": [
            "['Оранжевый'] Оранжевый\n",
            "['Зелёный'] Зелёный\n",
            "['Синий'] Синий\n"
          ]
        }
      ]
    },
    {
      "cell_type": "code",
      "source": [
        "for tag in page.find_all('span'):\n",
        " print(tag.get('style')) #извлекаем значение атрибута"
      ],
      "metadata": {
        "colab": {
          "base_uri": "https://localhost:8080/"
        },
        "id": "3Y_kosMFnD4T",
        "outputId": "3f6e3b2a-e1e2-4228-f3e1-39be34500423"
      },
      "execution_count": 14,
      "outputs": [
        {
          "output_type": "stream",
          "name": "stdout",
          "text": [
            "color: orange;\n",
            "color: green; font-size: xx-large;\n",
            "color: blue; font-family: Arial; font-size: x-large; background-color: yellow\n"
          ]
        }
      ]
    },
    {
      "cell_type": "markdown",
      "source": [
        "## .children и .descendants"
      ],
      "metadata": {
        "id": "3d-WNMFDse2i"
      }
    },
    {
      "cell_type": "markdown",
      "source": [
        "![P1.jpg](data:image/jpeg;base64,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)"
      ],
      "metadata": {
        "id": "31huOzrEnYUx"
      }
    },
    {
      "cell_type": "markdown",
      "source": [
        "![image.png](data:image/png;base64,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)"
      ],
      "metadata": {
        "id": "bQE_oAZkrzMW"
      }
    },
    {
      "cell_type": "code",
      "source": [
        "for child in page.html.children:\n",
        "  print(child)"
      ],
      "metadata": {
        "colab": {
          "base_uri": "https://localhost:8080/"
        },
        "id": "n4aBBezl0Mi9",
        "outputId": "80ee3c6e-6b65-496f-883f-354da7b617df"
      },
      "execution_count": 15,
      "outputs": [
        {
          "output_type": "stream",
          "name": "stdout",
          "text": [
            "\n",
            "\n",
            "<h2 style=\"padding-left: 180px;\">\n",
            "<strong>Заголовок</strong>\n",
            "</h2>\n",
            "\n",
            "\n",
            "<p>\n",
            "<a href=\"https://itmo.ru/?ysclid=lbyuch9pd5418300167\"> Ссылка </a>\n",
            "</p>\n",
            "\n",
            "\n",
            "<ul>\n",
            "<li><span style=\"color: orange;\">Оранжевый</span></li>\n",
            "<li><span style=\"color: green; font-size: xx-large;\">Зелёный</span></li>\n",
            "<li><span style=\"color: blue; font-family: Arial; font-size: x-large; background-color: yellow\">Синий</span></li>\n",
            "</ul>\n"
          ]
        }
      ]
    },
    {
      "cell_type": "code",
      "source": [
        "print(list(page.html.children))"
      ],
      "metadata": {
        "colab": {
          "base_uri": "https://localhost:8080/"
        },
        "id": "1Rn5gTwWuLUq",
        "outputId": "6ae0a087-2275-4da8-aa92-4c6b1c5d94ee"
      },
      "execution_count": 16,
      "outputs": [
        {
          "output_type": "stream",
          "name": "stdout",
          "text": [
            "['\\n', <h2 style=\"padding-left: 180px;\">\n",
            "<strong>Заголовок</strong>\n",
            "</h2>, '\\n', <p>\n",
            "<a href=\"https://itmo.ru/?ysclid=lbyuch9pd5418300167\"> Ссылка </a>\n",
            "</p>, '\\n', <ul>\n",
            "<li><span style=\"color: orange;\">Оранжевый</span></li>\n",
            "<li><span style=\"color: green; font-size: xx-large;\">Зелёный</span></li>\n",
            "<li><span style=\"color: blue; font-family: Arial; font-size: x-large; background-color: yellow\">Синий</span></li>\n",
            "</ul>]\n"
          ]
        }
      ]
    },
    {
      "cell_type": "code",
      "source": [
        "for child in page.html.descendants:\n",
        "  print(child)"
      ],
      "metadata": {
        "colab": {
          "base_uri": "https://localhost:8080/"
        },
        "id": "usrjp7pp0YHV",
        "outputId": "b0991266-bed4-4191-9bcb-23f55245565c"
      },
      "execution_count": 17,
      "outputs": [
        {
          "output_type": "stream",
          "name": "stdout",
          "text": [
            "\n",
            "\n",
            "<h2 style=\"padding-left: 180px;\">\n",
            "<strong>Заголовок</strong>\n",
            "</h2>\n",
            "\n",
            "\n",
            "<strong>Заголовок</strong>\n",
            "Заголовок\n",
            "\n",
            "\n",
            "\n",
            "\n",
            "<p>\n",
            "<a href=\"https://itmo.ru/?ysclid=lbyuch9pd5418300167\"> Ссылка </a>\n",
            "</p>\n",
            "\n",
            "\n",
            "<a href=\"https://itmo.ru/?ysclid=lbyuch9pd5418300167\"> Ссылка </a>\n",
            " Ссылка \n",
            "\n",
            "\n",
            "\n",
            "\n",
            "<ul>\n",
            "<li><span style=\"color: orange;\">Оранжевый</span></li>\n",
            "<li><span style=\"color: green; font-size: xx-large;\">Зелёный</span></li>\n",
            "<li><span style=\"color: blue; font-family: Arial; font-size: x-large; background-color: yellow\">Синий</span></li>\n",
            "</ul>\n",
            "\n",
            "\n",
            "<li><span style=\"color: orange;\">Оранжевый</span></li>\n",
            "<span style=\"color: orange;\">Оранжевый</span>\n",
            "Оранжевый\n",
            "\n",
            "\n",
            "<li><span style=\"color: green; font-size: xx-large;\">Зелёный</span></li>\n",
            "<span style=\"color: green; font-size: xx-large;\">Зелёный</span>\n",
            "Зелёный\n",
            "\n",
            "\n",
            "<li><span style=\"color: blue; font-family: Arial; font-size: x-large; background-color: yellow\">Синий</span></li>\n",
            "<span style=\"color: blue; font-family: Arial; font-size: x-large; background-color: yellow\">Синий</span>\n",
            "Синий\n",
            "\n",
            "\n"
          ]
        }
      ]
    },
    {
      "cell_type": "code",
      "source": [
        "print(list(page.html.descendants))"
      ],
      "metadata": {
        "colab": {
          "base_uri": "https://localhost:8080/"
        },
        "id": "N09WSZjVWWa_",
        "outputId": "71f86dec-8956-47d2-d840-35c407c1e896"
      },
      "execution_count": 18,
      "outputs": [
        {
          "output_type": "stream",
          "name": "stdout",
          "text": [
            "['\\n', <h2 style=\"padding-left: 180px;\">\n",
            "<strong>Заголовок</strong>\n",
            "</h2>, '\\n', <strong>Заголовок</strong>, 'Заголовок', '\\n', '\\n', <p>\n",
            "<a href=\"https://itmo.ru/?ysclid=lbyuch9pd5418300167\"> Ссылка </a>\n",
            "</p>, '\\n', <a href=\"https://itmo.ru/?ysclid=lbyuch9pd5418300167\"> Ссылка </a>, ' Ссылка ', '\\n', '\\n', <ul>\n",
            "<li><span style=\"color: orange;\">Оранжевый</span></li>\n",
            "<li><span style=\"color: green; font-size: xx-large;\">Зелёный</span></li>\n",
            "<li><span style=\"color: blue; font-family: Arial; font-size: x-large; background-color: yellow\">Синий</span></li>\n",
            "</ul>, '\\n', <li><span style=\"color: orange;\">Оранжевый</span></li>, <span style=\"color: orange;\">Оранжевый</span>, 'Оранжевый', '\\n', <li><span style=\"color: green; font-size: xx-large;\">Зелёный</span></li>, <span style=\"color: green; font-size: xx-large;\">Зелёный</span>, 'Зелёный', '\\n', <li><span style=\"color: blue; font-family: Arial; font-size: x-large; background-color: yellow\">Синий</span></li>, <span style=\"color: blue; font-family: Arial; font-size: x-large; background-color: yellow\">Синий</span>, 'Синий', '\\n']\n"
          ]
        }
      ]
    },
    {
      "cell_type": "code",
      "source": [
        "html_childs = [e for e in page.html.children if e.name is not None]\n",
        "print(html_childs)"
      ],
      "metadata": {
        "colab": {
          "base_uri": "https://localhost:8080/"
        },
        "id": "1Ofzv0Nh8SvI",
        "outputId": "fcc7b23a-8f5b-4ea0-a490-3f947f474ecd"
      },
      "execution_count": 19,
      "outputs": [
        {
          "output_type": "stream",
          "name": "stdout",
          "text": [
            "[<h2 style=\"padding-left: 180px;\">\n",
            "<strong>Заголовок</strong>\n",
            "</h2>, <p>\n",
            "<a href=\"https://itmo.ru/?ysclid=lbyuch9pd5418300167\"> Ссылка </a>\n",
            "</p>, <ul>\n",
            "<li><span style=\"color: orange;\">Оранжевый</span></li>\n",
            "<li><span style=\"color: green; font-size: xx-large;\">Зелёный</span></li>\n",
            "<li><span style=\"color: blue; font-family: Arial; font-size: x-large; background-color: yellow\">Синий</span></li>\n",
            "</ul>]\n"
          ]
        }
      ]
    },
    {
      "cell_type": "code",
      "source": [
        "html_childs = [e for e in page.html.descendants if e.name is not None]\n",
        "print(html_childs)"
      ],
      "metadata": {
        "colab": {
          "base_uri": "https://localhost:8080/"
        },
        "id": "AoQPT9MlXGbk",
        "outputId": "2f01c52c-f166-4f68-f917-61a2dfe8f746"
      },
      "execution_count": 20,
      "outputs": [
        {
          "output_type": "stream",
          "name": "stdout",
          "text": [
            "[<h2 style=\"padding-left: 180px;\">\n",
            "<strong>Заголовок</strong>\n",
            "</h2>, <strong>Заголовок</strong>, <p>\n",
            "<a href=\"https://itmo.ru/?ysclid=lbyuch9pd5418300167\"> Ссылка </a>\n",
            "</p>, <a href=\"https://itmo.ru/?ysclid=lbyuch9pd5418300167\"> Ссылка </a>, <ul>\n",
            "<li><span style=\"color: orange;\">Оранжевый</span></li>\n",
            "<li><span style=\"color: green; font-size: xx-large;\">Зелёный</span></li>\n",
            "<li><span style=\"color: blue; font-family: Arial; font-size: x-large; background-color: yellow\">Синий</span></li>\n",
            "</ul>, <li><span style=\"color: orange;\">Оранжевый</span></li>, <span style=\"color: orange;\">Оранжевый</span>, <li><span style=\"color: green; font-size: xx-large;\">Зелёный</span></li>, <span style=\"color: green; font-size: xx-large;\">Зелёный</span>, <li><span style=\"color: blue; font-family: Arial; font-size: x-large; background-color: yellow\">Синий</span></li>, <span style=\"color: blue; font-family: Arial; font-size: x-large; background-color: yellow\">Синий</span>]\n"
          ]
        }
      ]
    },
    {
      "cell_type": "code",
      "source": [
        "html_childs = [e.name for e in page.html.children if e.name is not None]\n",
        "print(html_childs)"
      ],
      "metadata": {
        "colab": {
          "base_uri": "https://localhost:8080/"
        },
        "id": "r2iV0-BP8pfP",
        "outputId": "00d555eb-58ec-49f4-d4e7-490210cdcf43"
      },
      "execution_count": 21,
      "outputs": [
        {
          "output_type": "stream",
          "name": "stdout",
          "text": [
            "['h2', 'p', 'ul']\n"
          ]
        }
      ]
    },
    {
      "cell_type": "code",
      "source": [
        "html_childs = [e.name for e in page.html.descendants if e.name is not None]\n",
        "print(html_childs)"
      ],
      "metadata": {
        "colab": {
          "base_uri": "https://localhost:8080/"
        },
        "id": "KR-kcVb8zU9U",
        "outputId": "d93c985c-f882-4d5e-8486-8f12bd422cf8"
      },
      "execution_count": 22,
      "outputs": [
        {
          "output_type": "stream",
          "name": "stdout",
          "text": [
            "['h2', 'strong', 'p', 'a', 'ul', 'li', 'span', 'li', 'span', 'li', 'span']\n"
          ]
        }
      ]
    }
  ]
}