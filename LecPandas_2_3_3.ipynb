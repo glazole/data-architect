{
  "cells": [
    {
      "cell_type": "markdown",
      "source": [
        "---\n",
        "\n",
        "# Анализ данных в Pandas"
      ],
      "metadata": {
        "collapsed": false,
        "id": "vcWHNCagHo46"
      }
    },
    {
      "cell_type": "markdown",
      "source": [
        "---\n",
        "\n",
        "## 1 | Немного о природе данных"
      ],
      "metadata": {
        "collapsed": false,
        "id": "MZIFcnuCHo48"
      }
    },
    {
      "cell_type": "markdown",
      "source": [
        "---\n",
        "\n",
        "Импортируем библиотеки и загрузим данные:"
      ],
      "metadata": {
        "collapsed": false,
        "id": "z6b7ATAoHo48"
      }
    },
    {
      "cell_type": "code",
      "execution_count": 1,
      "metadata": {
        "collapsed": true,
        "id": "SFHUTT3PHo49"
      },
      "outputs": [],
      "source": [
        "import pandas as pd\n",
        "import numpy as np"
      ]
    },
    {
      "cell_type": "code",
      "execution_count": 2,
      "outputs": [
        {
          "output_type": "stream",
          "name": "stdout",
          "text": [
            "Index(['id', 'Город', 'Район', 'Улица', 'Геометка_дома', 'Тип_сделки',\n",
            "       'Срок_аренды', 'Цена', 'Тип_дома', 'Количество_комнат', 'Общая_площадь',\n",
            "       'Количество_этажей', 'Материал_стен', 'Тип_продажи', 'Дата',\n",
            "       'Площадь_кухни', 'Жилая_площадь', 'Этаж'],\n",
            "      dtype='object')\n"
          ]
        }
      ],
      "source": [
        "df = pd.read_csv('/content/sample_data/avito_flats.csv', sep=';', index_col=0)\n",
        "print(df.columns)"
      ],
      "metadata": {
        "colab": {
          "base_uri": "https://localhost:8080/"
        },
        "id": "jurFJqUrHo49",
        "outputId": "4459b952-7797-43e7-b9fc-fb1548fcafc2"
      }
    },
    {
      "cell_type": "markdown",
      "source": [
        "---\n",
        "\n",
        "### 1.2 | Описательные статистики"
      ],
      "metadata": {
        "collapsed": false,
        "id": "S9Tk7MGqHo4-"
      }
    },
    {
      "cell_type": "markdown",
      "source": [
        "Узнаем среднюю площадь квартир по количеству комнат с кирпичными стенами:"
      ],
      "metadata": {
        "collapsed": false,
        "id": "Dj6jKPBnHo4-"
      }
    },
    {
      "cell_type": "code",
      "execution_count": 3,
      "outputs": [
        {
          "output_type": "execute_result",
          "data": {
            "text/plain": [
              "                   Общая_площадь\n",
              "Количество_комнат               \n",
              "1                      38.907625\n",
              "2                      61.601440\n",
              "3                      93.072085\n",
              "4                     120.500000\n",
              "5                     230.100000\n",
              "своб. планировка       58.000000\n",
              "студия                 26.714849"
            ],
            "text/html": [
              "\n",
              "  <div id=\"df-6d12ba96-02da-4a82-87fd-3e16f6c7c9c0\">\n",
              "    <div class=\"colab-df-container\">\n",
              "      <div>\n",
              "<style scoped>\n",
              "    .dataframe tbody tr th:only-of-type {\n",
              "        vertical-align: middle;\n",
              "    }\n",
              "\n",
              "    .dataframe tbody tr th {\n",
              "        vertical-align: top;\n",
              "    }\n",
              "\n",
              "    .dataframe thead th {\n",
              "        text-align: right;\n",
              "    }\n",
              "</style>\n",
              "<table border=\"1\" class=\"dataframe\">\n",
              "  <thead>\n",
              "    <tr style=\"text-align: right;\">\n",
              "      <th></th>\n",
              "      <th>Общая_площадь</th>\n",
              "    </tr>\n",
              "    <tr>\n",
              "      <th>Количество_комнат</th>\n",
              "      <th></th>\n",
              "    </tr>\n",
              "  </thead>\n",
              "  <tbody>\n",
              "    <tr>\n",
              "      <th>1</th>\n",
              "      <td>38.907625</td>\n",
              "    </tr>\n",
              "    <tr>\n",
              "      <th>2</th>\n",
              "      <td>61.601440</td>\n",
              "    </tr>\n",
              "    <tr>\n",
              "      <th>3</th>\n",
              "      <td>93.072085</td>\n",
              "    </tr>\n",
              "    <tr>\n",
              "      <th>4</th>\n",
              "      <td>120.500000</td>\n",
              "    </tr>\n",
              "    <tr>\n",
              "      <th>5</th>\n",
              "      <td>230.100000</td>\n",
              "    </tr>\n",
              "    <tr>\n",
              "      <th>своб. планировка</th>\n",
              "      <td>58.000000</td>\n",
              "    </tr>\n",
              "    <tr>\n",
              "      <th>студия</th>\n",
              "      <td>26.714849</td>\n",
              "    </tr>\n",
              "  </tbody>\n",
              "</table>\n",
              "</div>\n",
              "      <button class=\"colab-df-convert\" onclick=\"convertToInteractive('df-6d12ba96-02da-4a82-87fd-3e16f6c7c9c0')\"\n",
              "              title=\"Convert this dataframe to an interactive table.\"\n",
              "              style=\"display:none;\">\n",
              "        \n",
              "  <svg xmlns=\"http://www.w3.org/2000/svg\" height=\"24px\"viewBox=\"0 0 24 24\"\n",
              "       width=\"24px\">\n",
              "    <path d=\"M0 0h24v24H0V0z\" fill=\"none\"/>\n",
              "    <path d=\"M18.56 5.44l.94 2.06.94-2.06 2.06-.94-2.06-.94-.94-2.06-.94 2.06-2.06.94zm-11 1L8.5 8.5l.94-2.06 2.06-.94-2.06-.94L8.5 2.5l-.94 2.06-2.06.94zm10 10l.94 2.06.94-2.06 2.06-.94-2.06-.94-.94-2.06-.94 2.06-2.06.94z\"/><path d=\"M17.41 7.96l-1.37-1.37c-.4-.4-.92-.59-1.43-.59-.52 0-1.04.2-1.43.59L10.3 9.45l-7.72 7.72c-.78.78-.78 2.05 0 2.83L4 21.41c.39.39.9.59 1.41.59.51 0 1.02-.2 1.41-.59l7.78-7.78 2.81-2.81c.8-.78.8-2.07 0-2.86zM5.41 20L4 18.59l7.72-7.72 1.47 1.35L5.41 20z\"/>\n",
              "  </svg>\n",
              "      </button>\n",
              "      \n",
              "  <style>\n",
              "    .colab-df-container {\n",
              "      display:flex;\n",
              "      flex-wrap:wrap;\n",
              "      gap: 12px;\n",
              "    }\n",
              "\n",
              "    .colab-df-convert {\n",
              "      background-color: #E8F0FE;\n",
              "      border: none;\n",
              "      border-radius: 50%;\n",
              "      cursor: pointer;\n",
              "      display: none;\n",
              "      fill: #1967D2;\n",
              "      height: 32px;\n",
              "      padding: 0 0 0 0;\n",
              "      width: 32px;\n",
              "    }\n",
              "\n",
              "    .colab-df-convert:hover {\n",
              "      background-color: #E2EBFA;\n",
              "      box-shadow: 0px 1px 2px rgba(60, 64, 67, 0.3), 0px 1px 3px 1px rgba(60, 64, 67, 0.15);\n",
              "      fill: #174EA6;\n",
              "    }\n",
              "\n",
              "    [theme=dark] .colab-df-convert {\n",
              "      background-color: #3B4455;\n",
              "      fill: #D2E3FC;\n",
              "    }\n",
              "\n",
              "    [theme=dark] .colab-df-convert:hover {\n",
              "      background-color: #434B5C;\n",
              "      box-shadow: 0px 1px 3px 1px rgba(0, 0, 0, 0.15);\n",
              "      filter: drop-shadow(0px 1px 2px rgba(0, 0, 0, 0.3));\n",
              "      fill: #FFFFFF;\n",
              "    }\n",
              "  </style>\n",
              "\n",
              "      <script>\n",
              "        const buttonEl =\n",
              "          document.querySelector('#df-6d12ba96-02da-4a82-87fd-3e16f6c7c9c0 button.colab-df-convert');\n",
              "        buttonEl.style.display =\n",
              "          google.colab.kernel.accessAllowed ? 'block' : 'none';\n",
              "\n",
              "        async function convertToInteractive(key) {\n",
              "          const element = document.querySelector('#df-6d12ba96-02da-4a82-87fd-3e16f6c7c9c0');\n",
              "          const dataTable =\n",
              "            await google.colab.kernel.invokeFunction('convertToInteractive',\n",
              "                                                     [key], {});\n",
              "          if (!dataTable) return;\n",
              "\n",
              "          const docLinkHtml = 'Like what you see? Visit the ' +\n",
              "            '<a target=\"_blank\" href=https://colab.research.google.com/notebooks/data_table.ipynb>data table notebook</a>'\n",
              "            + ' to learn more about interactive tables.';\n",
              "          element.innerHTML = '';\n",
              "          dataTable['output_type'] = 'display_data';\n",
              "          await google.colab.output.renderOutput(dataTable, element);\n",
              "          const docLink = document.createElement('div');\n",
              "          docLink.innerHTML = docLinkHtml;\n",
              "          element.appendChild(docLink);\n",
              "        }\n",
              "      </script>\n",
              "    </div>\n",
              "  </div>\n",
              "  "
            ]
          },
          "metadata": {},
          "execution_count": 3
        }
      ],
      "source": [
        "df[df['Материал_стен'] == 'кирпичный'] \\\n",
        "    .groupby('Количество_комнат') \\\n",
        "    .agg({'Общая_площадь': 'mean'})"
      ],
      "metadata": {
        "colab": {
          "base_uri": "https://localhost:8080/",
          "height": 300
        },
        "id": "eN-sFFXJHo4-",
        "outputId": "92c33988-1eb6-432c-d0d8-66213a3112e3"
      }
    },
    {
      "cell_type": "markdown",
      "source": [
        "---\n",
        "\n",
        "### 1.3 | Предобработка данных"
      ],
      "metadata": {
        "collapsed": false,
        "id": "UNfNZ_yvHo4_"
      }
    },
    {
      "cell_type": "markdown",
      "source": [
        "---\n",
        "\n",
        "Заменим все ячейки со значением 'Не указано' на $\\mathsf{np.nan}$, преобразуем такие строки с ценой, как '9 616 960' к '9616960', а также преобразуем все численные данные к типу $\\mathsf{np.float64}$:"
      ],
      "metadata": {
        "collapsed": false,
        "id": "jFv_07sQHo4_"
      }
    },
    {
      "cell_type": "code",
      "execution_count": 4,
      "outputs": [
        {
          "output_type": "execute_result",
          "data": {
            "text/plain": [
              "0    12.2\n",
              "1    27.0\n",
              "2     NaN\n",
              "3    24.4\n",
              "4    37.7\n",
              "Name: Жилая_площадь, dtype: float64"
            ]
          },
          "metadata": {},
          "execution_count": 4
        }
      ],
      "source": [
        "df = df.replace('Не указано', np.nan)\n",
        "df['Цена'] = df['Цена'].str.replace(' ', '')\n",
        "\n",
        "df = df.astype({'Цена': np.float64, 'Общая_площадь': np.float64,\n",
        "                'Площадь_кухни': np.float64, 'Жилая_площадь': np.float64})\n",
        "df['Жилая_площадь'].head()"
      ],
      "metadata": {
        "colab": {
          "base_uri": "https://localhost:8080/"
        },
        "id": "Y9SXbPb2Ho4_",
        "outputId": "e1c21903-6b0c-47fd-8b22-6b07d9bcdf4b"
      }
    },
    {
      "cell_type": "markdown",
      "source": [
        "---\n",
        "\n",
        "Рассмотрим уникальные значения некоторых колонок, чтобы отсеять бесполезные признаки:"
      ],
      "metadata": {
        "collapsed": false,
        "id": "MD8Q8c7sHo4_"
      }
    },
    {
      "cell_type": "code",
      "execution_count": 5,
      "outputs": [
        {
          "output_type": "execute_result",
          "data": {
            "text/plain": [
              "array(['Продажа'], dtype=object)"
            ]
          },
          "metadata": {},
          "execution_count": 5
        }
      ],
      "source": [
        "df['Тип_сделки'].unique()"
      ],
      "metadata": {
        "colab": {
          "base_uri": "https://localhost:8080/"
        },
        "id": "tq1BuYRIHo5A",
        "outputId": "67eb9828-2a0f-4dde-d38a-d1d848ce9dc0"
      }
    },
    {
      "cell_type": "code",
      "execution_count": 6,
      "outputs": [
        {
          "output_type": "execute_result",
          "data": {
            "text/plain": [
              "array(['Не аренда'], dtype=object)"
            ]
          },
          "metadata": {},
          "execution_count": 6
        }
      ],
      "source": [
        "df['Срок_аренды'].unique()"
      ],
      "metadata": {
        "colab": {
          "base_uri": "https://localhost:8080/"
        },
        "id": "DNNwdi3hHo5A",
        "outputId": "da9e52aa-7c53-4141-9b9a-c407d5eb2867"
      }
    },
    {
      "cell_type": "code",
      "execution_count": 7,
      "outputs": [
        {
          "output_type": "execute_result",
          "data": {
            "text/plain": [
              "array(['Новостройка'], dtype=object)"
            ]
          },
          "metadata": {},
          "execution_count": 7
        }
      ],
      "source": [
        "df['Тип_дома'].unique()"
      ],
      "metadata": {
        "colab": {
          "base_uri": "https://localhost:8080/"
        },
        "id": "IWcntWUCHo5A",
        "outputId": "50e48743-b401-46e1-a081-2150b57095d6"
      }
    },
    {
      "cell_type": "code",
      "execution_count": 8,
      "outputs": [
        {
          "output_type": "execute_result",
          "data": {
            "text/plain": [
              "array([nan])"
            ]
          },
          "metadata": {},
          "execution_count": 8
        }
      ],
      "source": [
        "df['Количество_этажей'].unique()"
      ],
      "metadata": {
        "colab": {
          "base_uri": "https://localhost:8080/"
        },
        "id": "XLdpfVI1Ho5A",
        "outputId": "86345f3f-fa23-4d61-cedd-d7f62d1d6435"
      }
    },
    {
      "cell_type": "code",
      "execution_count": 9,
      "outputs": [
        {
          "output_type": "execute_result",
          "data": {
            "text/plain": [
              "array([nan])"
            ]
          },
          "metadata": {},
          "execution_count": 9
        }
      ],
      "source": [
        "df['Тип_продажи'].unique()"
      ],
      "metadata": {
        "colab": {
          "base_uri": "https://localhost:8080/"
        },
        "id": "U1Zpd61MHo5B",
        "outputId": "d3f47663-3334-413f-c882-d57ae64b721d"
      }
    },
    {
      "cell_type": "code",
      "execution_count": 10,
      "outputs": [
        {
          "output_type": "execute_result",
          "data": {
            "text/plain": [
              "NaN                     6616\n",
              "Приморский район           2\n",
              "Красносельский район       1\n",
              "Name: Район, dtype: int64"
            ]
          },
          "metadata": {},
          "execution_count": 10
        }
      ],
      "source": [
        "df['Район'].value_counts(dropna=False)"
      ],
      "metadata": {
        "colab": {
          "base_uri": "https://localhost:8080/"
        },
        "id": "cNo-x61_Ho5B",
        "outputId": "10205274-dae3-4351-8361-b2c0efde9a26"
      }
    },
    {
      "cell_type": "code",
      "execution_count": 11,
      "outputs": [
        {
          "output_type": "execute_result",
          "data": {
            "text/plain": [
              "Index(['id', 'Город', 'Улица', 'Геометка_дома', 'Цена', 'Количество_комнат',\n",
              "       'Общая_площадь', 'Материал_стен', 'Дата', 'Площадь_кухни',\n",
              "       'Жилая_площадь', 'Этаж'],\n",
              "      dtype='object')"
            ]
          },
          "metadata": {},
          "execution_count": 11
        }
      ],
      "source": [
        "df = df.drop(['Тип_сделки', 'Срок_аренды', 'Тип_дома',\n",
        "              'Количество_этажей', 'Тип_продажи', 'Район'], axis=1)\n",
        "df.columns"
      ],
      "metadata": {
        "colab": {
          "base_uri": "https://localhost:8080/"
        },
        "id": "eMDMuXANHo5B",
        "outputId": "f43baff6-e2a5-4e9b-d5c8-1d9a6edd90a9"
      }
    },
    {
      "cell_type": "markdown",
      "source": [
        "---\n",
        "\n",
        "Также могут встречаться и те признаки, у которых не практически все значения пропущены. Например, такие, как 'Жилая_площадь' и 'Площадь кухни':"
      ],
      "metadata": {
        "collapsed": false,
        "id": "ijbRPMyWHo5B"
      }
    },
    {
      "cell_type": "code",
      "execution_count": 12,
      "outputs": [
        {
          "output_type": "execute_result",
          "data": {
            "text/plain": [
              "(6619, 1904)"
            ]
          },
          "metadata": {},
          "execution_count": 12
        }
      ],
      "source": [
        "df['Жилая_площадь'].size, df['Жилая_площадь'].isna().sum()"
      ],
      "metadata": {
        "colab": {
          "base_uri": "https://localhost:8080/"
        },
        "id": "cF8O-5pcHo5B",
        "outputId": "ec59bd22-ad53-4797-b940-d33ad8afad18"
      }
    },
    {
      "cell_type": "code",
      "execution_count": 13,
      "outputs": [
        {
          "output_type": "execute_result",
          "data": {
            "text/plain": [
              "(6619, 2545)"
            ]
          },
          "metadata": {},
          "execution_count": 13
        }
      ],
      "source": [
        "df['Площадь_кухни'].size, df['Площадь_кухни'].isna().sum()"
      ],
      "metadata": {
        "colab": {
          "base_uri": "https://localhost:8080/"
        },
        "id": "TdhJnhJmHo5C",
        "outputId": "84434fc6-591e-4767-bf1e-6b6aed4761e7"
      }
    },
    {
      "cell_type": "markdown",
      "source": [
        "Такие колонки можно и выкинуть, и наоборот — заполнить пропущенные места какими-то значениями. Давайте для разнообразия заполним пропущенные значения медианами:"
      ],
      "metadata": {
        "collapsed": false,
        "id": "EqP_djpbHo5C"
      }
    },
    {
      "cell_type": "code",
      "execution_count": 14,
      "outputs": [],
      "source": [
        "df['Жилая_площадь'] = df['Жилая_площадь'].fillna(df['Жилая_площадь'].median())\n",
        "df['Площадь_кухни'] = df['Площадь_кухни'].fillna(df['Площадь_кухни'].median())"
      ],
      "metadata": {
        "id": "PEJu8PBfHo5C"
      }
    },
    {
      "cell_type": "markdown",
      "source": [
        "---\n",
        "\n",
        "## 3 | Обработка и первичный анализ"
      ],
      "metadata": {
        "collapsed": false,
        "id": "vGNTuCorHo5F"
      }
    },
    {
      "cell_type": "markdown",
      "source": [
        "---\n",
        "\n",
        "### 3.1 | Группировка и аггрегация"
      ],
      "metadata": {
        "collapsed": false,
        "id": "54rQK8bGHo5F"
      }
    },
    {
      "cell_type": "markdown",
      "source": [
        "---\n",
        "\n",
        "С помощью группировки и аггрегации мы может, например, ращбить квартиры по материалу стен и посмотреть на медиану площадей для каждого из классов:"
      ],
      "metadata": {
        "collapsed": false,
        "id": "lO2c8nMJHo5F"
      }
    },
    {
      "cell_type": "code",
      "execution_count": 15,
      "outputs": [
        {
          "output_type": "execute_result",
          "data": {
            "text/plain": [
              "<Axes: xlabel='Материал_стен'>"
            ]
          },
          "metadata": {},
          "execution_count": 15
        },
        {
          "output_type": "display_data",
          "data": {
            "text/plain": [
              "<Figure size 640x480 with 1 Axes>"
            ],
            "image/png": "[encoded data removed]"
          },
          "metadata": {}
        }
      ],
      "source": [
        "df.groupby('Материал_стен').agg({\n",
        "    'Площадь_кухни': 'median',\n",
        "    'Жилая_площадь': 'median',\n",
        "    'Общая_площадь': 'median'\n",
        "}).plot.bar()"
      ],
      "metadata": {
        "colab": {
          "base_uri": "https://localhost:8080/",
          "height": 545
        },
        "id": "fjW_jInxHo5F",
        "outputId": "df446eb3-709f-4a06-973f-d0bfa10cee4a"
      }
    },
    {
      "cell_type": "markdown",
      "source": [
        "---\n",
        "\n",
        "Нам может захотеться построить гистограммы цен по каждому из материалов стен, тогда мы можем в методе построения диаграммы указать такой параметр, как $\\mathsf{by}$:"
      ],
      "metadata": {
        "collapsed": false,
        "id": "mh--LSquHo5F"
      }
    },
    {
      "cell_type": "code",
      "execution_count": 16,
      "outputs": [
        {
          "output_type": "execute_result",
          "data": {
            "text/plain": [
              "array([[<Axes: title={'center': 'блочный'}, ylabel='Frequency'>,\n",
              "        <Axes: title={'center': 'кирпичный'}, ylabel='Frequency'>,\n",
              "        <Axes: title={'center': 'монолитный'}, ylabel='Frequency'>,\n",
              "        <Axes: title={'center': 'панельный'}, ylabel='Frequency'>]],\n",
              "      dtype=object)"
            ]
          },
          "metadata": {},
          "execution_count": 16
        },
        {
          "output_type": "display_data",
          "data": {
            "text/plain": [
              "<Figure size 1600x400 with 4 Axes>"
            ],
            "image/png": "[encoded data removed]"
          },
          "metadata": {}
        }
      ],
      "source": [
        "df[['Цена', 'Материал_стен']].plot.hist(\n",
        "    by='Материал_стен', bins=25, figsize=(16, 4), layout=(1, 4))"
      ],
      "metadata": {
        "colab": {
          "base_uri": "https://localhost:8080/",
          "height": 340
        },
        "id": "LYpMDOv1Ho5G",
        "outputId": "ab83ed8f-9f58-4078-8cdd-92849cefee73"
      }
    },
    {
      "cell_type": "markdown",
      "source": [
        "Как мы видим, у панельных квартир есть нет единого пика — их несколько. Может, это из-за количества комнат? Давайте исследуем:"
      ],
      "metadata": {
        "collapsed": false,
        "id": "U4lbivzGHo5G"
      }
    },
    {
      "cell_type": "code",
      "execution_count": 17,
      "outputs": [
        {
          "output_type": "execute_result",
          "data": {
            "text/plain": [
              "array([[<Axes: title={'center': '1'}, ylabel='Frequency'>,\n",
              "        <Axes: title={'center': '2'}, ylabel='Frequency'>,\n",
              "        <Axes: title={'center': '3'}, ylabel='Frequency'>,\n",
              "        <Axes: title={'center': '4'}, ylabel='Frequency'>,\n",
              "        <Axes: title={'center': 'студия'}, ylabel='Frequency'>]],\n",
              "      dtype=object)"
            ]
          },
          "metadata": {},
          "execution_count": 17
        },
        {
          "output_type": "display_data",
          "data": {
            "text/plain": [
              "<Figure size 1600x400 with 5 Axes>"
            ],
            "image/png": "[encoded data removed]"
          },
          "metadata": {}
        }
      ],
      "source": [
        "df[df['Материал_стен'] == 'панельный'][\n",
        "    ['Количество_комнат', 'Цена']].plot.hist(\n",
        "    by='Количество_комнат', bins=10,\n",
        "    figsize=(16, 4), layout=(1, -1))"
      ],
      "metadata": {
        "colab": {
          "base_uri": "https://localhost:8080/",
          "height": 359
        },
        "id": "-_LO3V77Ho5G",
        "outputId": "69818ca3-0288-4121-f782-2759ae9744b6"
      }
    },
    {
      "cell_type": "markdown",
      "source": [
        "---\n",
        "\n",
        "## 3.2 | Слияние фреймов"
      ],
      "metadata": {
        "collapsed": false,
        "id": "39WD2Lg2Ho5G"
      }
    },
    {
      "cell_type": "markdown",
      "source": [
        "---\n",
        "\n",
        "Бывает так, что связанные между собой данные хранятся в двух файлах или таблицах. Например, как в нашем случае, метаинформация хранится в файле 'avito_flats_meta.csv':"
      ],
      "metadata": {
        "collapsed": false,
        "id": "n41r3eXVHo5H"
      }
    },
    {
      "cell_type": "code",
      "execution_count": 18,
      "outputs": [
        {
          "output_type": "execute_result",
          "data": {
            "text/plain": [
              "Index(['id', 'Фото', 'Описание'], dtype='object')"
            ]
          },
          "metadata": {},
          "execution_count": 18
        }
      ],
      "source": [
        "meta_df = pd.read_csv('/content/sample_data/avito_flats_meta.csv', sep='*', index_col=0)\n",
        "meta_df.columns"
      ],
      "metadata": {
        "colab": {
          "base_uri": "https://localhost:8080/"
        },
        "id": "lHRtuJL0Ho5H",
        "outputId": "2643694f-de37-452e-c244-0c7bea90c541"
      }
    },
    {
      "cell_type": "markdown",
      "source": [
        "Но как слить наши данные во что-то одно? Есть несколько способов слияния таблиц:\n",
        "\n",
        "- Внутренее (inner)\n",
        "- Слева (left)\n",
        "- Справа (right)\n",
        "- Внешнее (outer)\n",
        "\n",
        "![](data:image/png;base64,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 )"
      ],
      "metadata": {
        "collapsed": false,
        "id": "QZ5zIupvHo5H"
      }
    },
    {
      "cell_type": "markdown",
      "source": [
        "---\n",
        "\n",
        "Итак, давайте сольем наши таблицы по колонке 'id' в одну, используя inner join. Для этого существует метод $\\mathsf{merge}$ с его параметрами $\\mathsf{left\\_on}$, $\\mathsf{right\\_on}$ и $\\mathsf{inner}$:"
      ],
      "metadata": {
        "collapsed": false,
        "id": "UQBQtD_5Ho5J"
      }
    },
    {
      "cell_type": "code",
      "execution_count": 19,
      "outputs": [
        {
          "output_type": "execute_result",
          "data": {
            "text/plain": [
              "id                   False\n",
              "Город                False\n",
              "Улица                 True\n",
              "Геометка_дома        False\n",
              "Цена                 False\n",
              "Количество_комнат    False\n",
              "Общая_площадь        False\n",
              "Материал_стен        False\n",
              "Дата                 False\n",
              "Площадь_кухни        False\n",
              "Жилая_площадь        False\n",
              "Этаж                 False\n",
              "Фото                 False\n",
              "Описание             False\n",
              "dtype: bool"
            ]
          },
          "metadata": {},
          "execution_count": 19
        }
      ],
      "source": [
        "df.merge(meta_df, left_on='id', right_on='id', how='inner') \\\n",
        "    .isna().any()"
      ],
      "metadata": {
        "colab": {
          "base_uri": "https://localhost:8080/"
        },
        "id": "V0ImueTRHo5J",
        "outputId": "0efa8e8e-cf08-48fa-b9aa-566d11b00f88"
      }
    },
    {
      "cell_type": "code",
      "execution_count": 20,
      "outputs": [
        {
          "output_type": "execute_result",
          "data": {
            "text/plain": [
              "id                   False\n",
              "Город                False\n",
              "Улица                 True\n",
              "Геометка_дома        False\n",
              "Цена                 False\n",
              "Количество_комнат    False\n",
              "Общая_площадь        False\n",
              "Материал_стен        False\n",
              "Дата                 False\n",
              "Площадь_кухни        False\n",
              "Жилая_площадь        False\n",
              "Этаж                 False\n",
              "Фото                  True\n",
              "Описание              True\n",
              "dtype: bool"
            ]
          },
          "metadata": {},
          "execution_count": 20
        }
      ],
      "source": [
        "df.merge(meta_df, left_on='id', right_on='id', how='left') \\\n",
        "    .isna().any()"
      ],
      "metadata": {
        "colab": {
          "base_uri": "https://localhost:8080/"
        },
        "id": "GmcgQJG8Ho5J",
        "outputId": "524f4b04-9a23-428b-aadb-5b624698f801"
      }
    },
    {
      "cell_type": "code",
      "execution_count": 21,
      "outputs": [
        {
          "output_type": "execute_result",
          "data": {
            "text/plain": [
              "id                   False\n",
              "Город                 True\n",
              "Улица                 True\n",
              "Геометка_дома         True\n",
              "Цена                  True\n",
              "Количество_комнат     True\n",
              "Общая_площадь         True\n",
              "Материал_стен         True\n",
              "Дата                  True\n",
              "Площадь_кухни         True\n",
              "Жилая_площадь         True\n",
              "Этаж                  True\n",
              "Фото                 False\n",
              "Описание             False\n",
              "dtype: bool"
            ]
          },
          "metadata": {},
          "execution_count": 21
        }
      ],
      "source": [
        "df.merge(meta_df, left_on='id', right_on='id', how='right') \\\n",
        "    .isna().any()"
      ],
      "metadata": {
        "colab": {
          "base_uri": "https://localhost:8080/"
        },
        "id": "Zmj0-Y-uHo5J",
        "outputId": "31e7f926-93fc-4eaf-f0f5-2af9d687f58a"
      }
    },
    {
      "cell_type": "code",
      "execution_count": 22,
      "outputs": [
        {
          "output_type": "execute_result",
          "data": {
            "text/plain": [
              "id                   False\n",
              "Город                 True\n",
              "Улица                 True\n",
              "Геометка_дома         True\n",
              "Цена                  True\n",
              "Количество_комнат     True\n",
              "Общая_площадь         True\n",
              "Материал_стен         True\n",
              "Дата                  True\n",
              "Площадь_кухни         True\n",
              "Жилая_площадь         True\n",
              "Этаж                  True\n",
              "Фото                  True\n",
              "Описание              True\n",
              "dtype: bool"
            ]
          },
          "metadata": {},
          "execution_count": 22
        }
      ],
      "source": [
        "df.merge(meta_df, left_on='id', right_on='id', how='outer') \\\n",
        "    .isna().any()"
      ],
      "metadata": {
        "colab": {
          "base_uri": "https://localhost:8080/"
        },
        "id": "nLhKjV2cHo5J",
        "outputId": "4f09c83a-fd31-41f9-fc92-14c5ad3f0d00"
      }
    },
    {
      "cell_type": "markdown",
      "source": [
        "---\n",
        "\n",
        "Давайте в итоге используем inner join:"
      ],
      "metadata": {
        "collapsed": false,
        "id": "UpNKhGUvHo5J"
      }
    },
    {
      "cell_type": "code",
      "execution_count": 23,
      "outputs": [
        {
          "output_type": "execute_result",
          "data": {
            "text/plain": [
              "Index(['id', 'Город', 'Улица', 'Геометка_дома', 'Цена', 'Количество_комнат',\n",
              "       'Общая_площадь', 'Материал_стен', 'Дата', 'Площадь_кухни',\n",
              "       'Жилая_площадь', 'Этаж', 'Фото', 'Описание'],\n",
              "      dtype='object')"
            ]
          },
          "metadata": {},
          "execution_count": 23
        }
      ],
      "source": [
        "df = df.merge(meta_df, left_on='id', right_on='id', how='inner')\n",
        "df.columns"
      ],
      "metadata": {
        "colab": {
          "base_uri": "https://localhost:8080/"
        },
        "id": "KfW7ixYXHo5J",
        "outputId": "887ccd2d-c4db-457f-b76f-2d4f57a0c010"
      }
    }
  ],
  "metadata": {
    "kernelspec": {
      "display_name": "Python 3",
      "language": "python",
      "name": "python3"
    },
    "language_info": {
      "codemirror_mode": {
        "name": "ipython",
        "version": 2
      },
      "file_extension": ".py",
      "mimetype": "text/x-python",
      "name": "python",
      "nbconvert_exporter": "python",
      "pygments_lexer": "ipython2",
      "version": "2.7.6"
    },
    "colab": {
      "provenance": []
    }
  },
  "nbformat": 4,
  "nbformat_minor": 0
}