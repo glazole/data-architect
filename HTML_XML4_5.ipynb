{
  "nbformat": 4,
  "nbformat_minor": 0,
  "metadata": {
    "colab": {
      "provenance": [],
      "toc_visible": true
    },
    "kernelspec": {
      "name": "python3",
      "display_name": "Python 3"
    },
    "language_info": {
      "name": "python"
    }
  },
  "cells": [
    {
      "cell_type": "markdown",
      "source": [
        "# **Библиотека BeautifulSoup**"
      ],
      "metadata": {
        "id": "_QIU1hh7ktN9"
      }
    },
    {
      "cell_type": "code",
      "source": [
        "!pip install beautifulsoup4 -U"
      ],
      "metadata": {
        "colab": {
          "base_uri": "https://localhost:8080/"
        },
        "id": "k5hXuK8Bk3M_",
        "outputId": "2fb9ce94-1cf3-47b1-dc9d-862da0e6bb55"
      },
      "execution_count": 1,
      "outputs": [
        {
          "output_type": "stream",
          "name": "stdout",
          "text": [
            "Looking in indexes: https://pypi.org/simple, https://us-python.pkg.dev/colab-wheels/public/simple/\n",
            "Requirement already satisfied: beautifulsoup4 in /usr/local/lib/python3.10/dist-packages (4.12.2)\n",
            "Requirement already satisfied: soupsieve>1.2 in /usr/local/lib/python3.10/dist-packages (from beautifulsoup4) (2.4.1)\n"
          ]
        }
      ]
    },
    {
      "cell_type": "code",
      "source": [
        "from bs4 import BeautifulSoup # подключение библиотеки"
      ],
      "metadata": {
        "id": "dHMrScvzk5rk"
      },
      "execution_count": 2,
      "outputs": []
    },
    {
      "cell_type": "code",
      "source": [
        "html_doc = \"\"\"\n",
        "  <html>\n",
        "  <h2 style=\"padding-left: 180px;\">\n",
        "  <strong>Заголовок</strong>\n",
        "  </h2>\n",
        "  <p>\n",
        "  <a href=\"https://itmo.ru/?ysclid=lbyuch9pd5418300167\"> Ссылка </a>\n",
        "  </p>\n",
        "  <ul>\n",
        "  <li><span style=\"color: orange;\">Оранжевый</span></li>\n",
        "  <li><span style=\"color: green; font-size: xx-large;\">Зелёный</span></li>\n",
        "  <li><span style=\"color: blue; font-family: Arial; font-size: x-large; background-color: yellow\">Синий</span></li>\n",
        "  </ul></html>\"\"\""
      ],
      "metadata": {
        "id": "r0lb6D-gyuKV"
      },
      "execution_count": 3,
      "outputs": []
    },
    {
      "cell_type": "code",
      "source": [
        "print(html_doc)"
      ],
      "metadata": {
        "colab": {
          "base_uri": "https://localhost:8080/"
        },
        "id": "vfyYoFUvlJ3U",
        "outputId": "01c5069d-3560-4206-d757-79bc429faef8"
      },
      "execution_count": 4,
      "outputs": [
        {
          "output_type": "stream",
          "name": "stdout",
          "text": [
            "\n",
            "  <html>\n",
            "  <h2 style=\"padding-left: 180px;\">\n",
            "  <strong>Заголовок</strong>\n",
            "  </h2>\n",
            "  <p>\n",
            "  <a href=\"https://itmo.ru/?ysclid=lbyuch9pd5418300167\"> Ссылка </a>\n",
            "  </p>\n",
            "  <ul>\n",
            "  <li><span style=\"color: orange;\">Оранжевый</span></li>\n",
            "  <li><span style=\"color: green; font-size: xx-large;\">Зелёный</span></li>\n",
            "  <li><span style=\"color: blue; font-family: Arial; font-size: x-large; background-color: yellow\">Синий</span></li>\n",
            "  </ul></html>\n"
          ]
        }
      ]
    },
    {
      "cell_type": "code",
      "source": [
        "page = BeautifulSoup(html_doc, features='html.parser')"
      ],
      "metadata": {
        "id": "WCxOYBzvlPpV"
      },
      "execution_count": 5,
      "outputs": []
    },
    {
      "cell_type": "markdown",
      "source": [
        "## .previous_siblings (.previous_sibling) и .next_siblings (.next_sibling)"
      ],
      "metadata": {
        "id": "UOOKsJnn84_M"
      }
    },
    {
      "cell_type": "markdown",
      "source": [
        "![image.png](data:image/png;base64,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)"
      ],
      "metadata": {
        "id": "fWBDdd4y9IpA"
      }
    },
    {
      "cell_type": "code",
      "source": [
        "html_siblings = [e for e in page.p.previous_siblings if e.name is not None]\n",
        "print(html_siblings)"
      ],
      "metadata": {
        "colab": {
          "base_uri": "https://localhost:8080/"
        },
        "id": "_UE-ZbJKLcjW",
        "outputId": "a3c22cf9-d06f-46ea-81cb-d58ca91a98bb"
      },
      "execution_count": 6,
      "outputs": [
        {
          "output_type": "stream",
          "name": "stdout",
          "text": [
            "[<h2 style=\"padding-left: 180px;\">\n",
            "<strong>Заголовок</strong>\n",
            "</h2>]\n"
          ]
        }
      ]
    },
    {
      "cell_type": "code",
      "source": [
        "html_siblings = [e for e in page.p.next_siblings if e.name is not None]\n",
        "print(html_siblings)"
      ],
      "metadata": {
        "colab": {
          "base_uri": "https://localhost:8080/"
        },
        "id": "a1Sg1OPpLmWh",
        "outputId": "3d5c1598-d924-43f4-8f0b-00cdf940981d"
      },
      "execution_count": 7,
      "outputs": [
        {
          "output_type": "stream",
          "name": "stdout",
          "text": [
            "[<ul>\n",
            "<li><span style=\"color: orange;\">Оранжевый</span></li>\n",
            "<li><span style=\"color: green; font-size: xx-large;\">Зелёный</span></li>\n",
            "<li><span style=\"color: blue; font-family: Arial; font-size: x-large; background-color: yellow\">Синий</span></li>\n",
            "</ul>]\n"
          ]
        }
      ]
    },
    {
      "cell_type": "markdown",
      "source": [
        "## CSS селекторы"
      ],
      "metadata": {
        "id": "TLEyep8_Tz4Y"
      }
    },
    {
      "cell_type": "markdown",
      "source": [
        "![image.png](data:image/png;base64,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)"
      ],
      "metadata": {
        "id": "AsOv5_sWVhuy"
      }
    },
    {
      "cell_type": "markdown",
      "source": [
        "test.css файл\n",
        "```\n",
        "* {\n",
        "    color: yellow;\n",
        "}\n",
        "```\n",
        "\n",
        "K HTML документу его можно подключить с помощью тега <link>:\n",
        "```\n",
        "<head>\n",
        "<link> rel=\"stylesheet\" href=\"test.css\">\n",
        "</head>\n",
        "```"
      ],
      "metadata": {
        "id": "39VIA6Lo9Atv"
      }
    },
    {
      "cell_type": "code",
      "source": [
        "page.select('li')"
      ],
      "metadata": {
        "colab": {
          "base_uri": "https://localhost:8080/"
        },
        "id": "ZaQZK9ns2hNR",
        "outputId": "1e247f1b-4d24-44e5-93b9-a7732d93671c"
      },
      "execution_count": 8,
      "outputs": [
        {
          "output_type": "execute_result",
          "data": {
            "text/plain": [
              "[<li><span style=\"color: orange;\">Оранжевый</span></li>,\n",
              " <li><span style=\"color: green; font-size: xx-large;\">Зелёный</span></li>,\n",
              " <li><span style=\"color: blue; font-family: Arial; font-size: x-large; background-color: yellow\">Синий</span></li>]"
            ]
          },
          "metadata": {},
          "execution_count": 8
        }
      ]
    },
    {
      "cell_type": "code",
      "source": [
        "page.select_one('li')"
      ],
      "metadata": {
        "colab": {
          "base_uri": "https://localhost:8080/"
        },
        "id": "a-1Q9vXM2hWv",
        "outputId": "ac44c6de-e611-41d3-c7be-c3fdb5da8c6a"
      },
      "execution_count": 9,
      "outputs": [
        {
          "output_type": "execute_result",
          "data": {
            "text/plain": [
              "<li><span style=\"color: orange;\">Оранжевый</span></li>"
            ]
          },
          "metadata": {},
          "execution_count": 9
        }
      ]
    },
    {
      "cell_type": "code",
      "source": [
        "page.select('[href]')  # поиск по атрибуту"
      ],
      "metadata": {
        "colab": {
          "base_uri": "https://localhost:8080/"
        },
        "id": "bH6lJfjP2hfx",
        "outputId": "8336bbe3-6403-4ce4-fa0d-e852573e7c7f"
      },
      "execution_count": 10,
      "outputs": [
        {
          "output_type": "execute_result",
          "data": {
            "text/plain": [
              "[<a href=\"https://itmo.ru/?ysclid=lbyuch9pd5418300167\"> Ссылка </a>]"
            ]
          },
          "metadata": {},
          "execution_count": 10
        }
      ]
    },
    {
      "cell_type": "code",
      "source": [
        "page.select('strong, a')"
      ],
      "metadata": {
        "colab": {
          "base_uri": "https://localhost:8080/"
        },
        "id": "0qWWn2dC_oBC",
        "outputId": "dc5d8a06-e940-4c92-8269-c79bbb071843"
      },
      "execution_count": 11,
      "outputs": [
        {
          "output_type": "execute_result",
          "data": {
            "text/plain": [
              "[<strong>Заголовок</strong>,\n",
              " <a href=\"https://itmo.ru/?ysclid=lbyuch9pd5418300167\"> Ссылка </a>]"
            ]
          },
          "metadata": {},
          "execution_count": 11
        }
      ]
    },
    {
      "cell_type": "code",
      "source": [
        "page.select('ul span')"
      ],
      "metadata": {
        "colab": {
          "base_uri": "https://localhost:8080/"
        },
        "id": "z8AhtlIwAQwO",
        "outputId": "535f1317-67a4-4c3c-b258-d14ba5be29be"
      },
      "execution_count": 12,
      "outputs": [
        {
          "output_type": "execute_result",
          "data": {
            "text/plain": [
              "[<span style=\"color: orange;\">Оранжевый</span>,\n",
              " <span style=\"color: green; font-size: xx-large;\">Зелёный</span>,\n",
              " <span style=\"color: blue; font-family: Arial; font-size: x-large; background-color: yellow\">Синий</span>]"
            ]
          },
          "metadata": {},
          "execution_count": 12
        }
      ]
    },
    {
      "cell_type": "code",
      "source": [
        "page.select('*:not(html, ul, li,span)')"
      ],
      "metadata": {
        "colab": {
          "base_uri": "https://localhost:8080/"
        },
        "id": "bLdYJ2j8AQ7L",
        "outputId": "b8c87171-fda8-4819-f6b6-c92a007b345d"
      },
      "execution_count": 13,
      "outputs": [
        {
          "output_type": "execute_result",
          "data": {
            "text/plain": [
              "[<h2 style=\"padding-left: 180px;\">\n",
              " <strong>Заголовок</strong>\n",
              " </h2>,\n",
              " <strong>Заголовок</strong>,\n",
              " <p>\n",
              " <a href=\"https://itmo.ru/?ysclid=lbyuch9pd5418300167\"> Ссылка </a>\n",
              " </p>,\n",
              " <a href=\"https://itmo.ru/?ysclid=lbyuch9pd5418300167\"> Ссылка </a>]"
            ]
          },
          "metadata": {},
          "execution_count": 13
        }
      ]
    },
    {
      "cell_type": "code",
      "source": [
        "print(page.select(\"li:nth-of-type(1)\"))\n",
        "print(page.select(\"li:nth-of-type(2)\"))\n",
        "print(page.select(\"li:nth-of-type(3)\"))"
      ],
      "metadata": {
        "colab": {
          "base_uri": "https://localhost:8080/"
        },
        "id": "HAlCJUA62hoS",
        "outputId": "1df5bcd2-c661-4ce3-a749-b6a348d8ab97"
      },
      "execution_count": 14,
      "outputs": [
        {
          "output_type": "stream",
          "name": "stdout",
          "text": [
            "[<li><span style=\"color: orange;\">Оранжевый</span></li>]\n",
            "[<li><span style=\"color: green; font-size: xx-large;\">Зелёный</span></li>]\n",
            "[<li><span style=\"color: blue; font-family: Arial; font-size: x-large; background-color: yellow\">Синий</span></li>]\n"
          ]
        }
      ]
    },
    {
      "cell_type": "code",
      "source": [
        "print(page.select(\"li:nth-of-type(-n+2)\"))  # n = 0,1,..."
      ],
      "metadata": {
        "colab": {
          "base_uri": "https://localhost:8080/"
        },
        "id": "nrkJpbXy3hIS",
        "outputId": "6f2bbfc6-ccf2-4c78-ccf2-bc27a1e45b2f"
      },
      "execution_count": 15,
      "outputs": [
        {
          "output_type": "stream",
          "name": "stdout",
          "text": [
            "[<li><span style=\"color: orange;\">Оранжевый</span></li>, <li><span style=\"color: green; font-size: xx-large;\">Зелёный</span></li>]\n"
          ]
        }
      ]
    },
    {
      "cell_type": "code",
      "source": [
        "print(page.select(\"li:nth-of-type(odd)\"))"
      ],
      "metadata": {
        "colab": {
          "base_uri": "https://localhost:8080/"
        },
        "id": "inolONfV53yR",
        "outputId": "96a12232-e71a-4a5e-aad0-915cb788e224"
      },
      "execution_count": 16,
      "outputs": [
        {
          "output_type": "stream",
          "name": "stdout",
          "text": [
            "[<li><span style=\"color: orange;\">Оранжевый</span></li>, <li><span style=\"color: blue; font-family: Arial; font-size: x-large; background-color: yellow\">Синий</span></li>]\n"
          ]
        }
      ]
    },
    {
      "cell_type": "code",
      "source": [
        "page.select('strong:only-child') # элемент не имеет одноуровневых элементов, является единственным дочерним элементом."
      ],
      "metadata": {
        "colab": {
          "base_uri": "https://localhost:8080/"
        },
        "id": "RSkjb9KT6LEn",
        "outputId": "31d70115-d0d8-4856-b540-974e8dd41146"
      },
      "execution_count": 17,
      "outputs": [
        {
          "output_type": "execute_result",
          "data": {
            "text/plain": [
              "[<strong>Заголовок</strong>]"
            ]
          },
          "metadata": {},
          "execution_count": 17
        }
      ]
    }
  ]
}