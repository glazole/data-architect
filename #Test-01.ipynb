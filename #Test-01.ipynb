{
 "cells": [
  {
   "cell_type": "code",
   "execution_count": 1,
   "metadata": {},
   "outputs": [],
   "source": [
    "import numpy as np\n",
    "import pandas as pd\n",
    "import datetime as dt\n",
    "from datetime import timedelta\n",
    "import re\n",
    "import seaborn as sns\n",
    "import matplotlib.pyplot as plt"
   ]
  },
  {
   "cell_type": "code",
   "execution_count": 2,
   "metadata": {},
   "outputs": [],
   "source": [
    "df = pd.read_csv('C:\\\\Users\\\\GlazkovOI\\\\#MyProjectAirflow\\\\itmo\\\\lawnmower_var_135223.csv')"
   ]
  },
  {
   "cell_type": "code",
   "execution_count": 3,
   "metadata": {},
   "outputs": [
    {
     "data": {
      "text/html": [
       "<div>\n",
       "<style scoped>\n",
       "    .dataframe tbody tr th:only-of-type {\n",
       "        vertical-align: middle;\n",
       "    }\n",
       "\n",
       "    .dataframe tbody tr th {\n",
       "        vertical-align: top;\n",
       "    }\n",
       "\n",
       "    .dataframe thead th {\n",
       "        text-align: right;\n",
       "    }\n",
       "</style>\n",
       "<table border=\"1\" class=\"dataframe\">\n",
       "  <thead>\n",
       "    <tr style=\"text-align: right;\">\n",
       "      <th></th>\n",
       "      <th>NAME</th>\n",
       "      <th>WIDTH</th>\n",
       "      <th>PRICE</th>\n",
       "      <th>POWER</th>\n",
       "      <th>GRASS</th>\n",
       "      <th>AREA</th>\n",
       "      <th>DESCRIPTION</th>\n",
       "    </tr>\n",
       "  </thead>\n",
       "  <tbody>\n",
       "    <tr>\n",
       "      <th>0</th>\n",
       "      <td>Champion NPI256</td>\n",
       "      <td>41.0</td>\n",
       "      <td>22000.0</td>\n",
       "      <td>1.55</td>\n",
       "      <td>30.0</td>\n",
       "      <td>450.0</td>\n",
       "      <td>Широкая полоса скашивания на данной газонокоси...</td>\n",
       "    </tr>\n",
       "    <tr>\n",
       "      <th>1</th>\n",
       "      <td>Nakita CPA252</td>\n",
       "      <td>44.0</td>\n",
       "      <td>37000.0</td>\n",
       "      <td>1.85</td>\n",
       "      <td>60.0</td>\n",
       "      <td>400.0</td>\n",
       "      <td>Широкая полоса скашивания на данной газонокоси...</td>\n",
       "    </tr>\n",
       "    <tr>\n",
       "      <th>2</th>\n",
       "      <td>Champion XUB235</td>\n",
       "      <td>33.0</td>\n",
       "      <td>15000.0</td>\n",
       "      <td>1.50</td>\n",
       "      <td>40.0</td>\n",
       "      <td>600.0</td>\n",
       "      <td>Узкая ширина скашиваемой полосы на данной газо...</td>\n",
       "    </tr>\n",
       "    <tr>\n",
       "      <th>3</th>\n",
       "      <td>Gardez GYW727</td>\n",
       "      <td>NaN</td>\n",
       "      <td>39000.0</td>\n",
       "      <td>1.65</td>\n",
       "      <td>50.0</td>\n",
       "      <td>200.0</td>\n",
       "      <td>Широкая полоса скашивания на данной газонокоси...</td>\n",
       "    </tr>\n",
       "    <tr>\n",
       "      <th>4</th>\n",
       "      <td>Gardez WBB365</td>\n",
       "      <td>30.0</td>\n",
       "      <td>25000.0</td>\n",
       "      <td>1.45</td>\n",
       "      <td>70.0</td>\n",
       "      <td>350.0</td>\n",
       "      <td>Узкая ширина скашиваемой полосы на данной газо...</td>\n",
       "    </tr>\n",
       "  </tbody>\n",
       "</table>\n",
       "</div>"
      ],
      "text/plain": [
       "              NAME  WIDTH    PRICE  POWER  GRASS   AREA  \\\n",
       "0  Champion NPI256   41.0  22000.0   1.55   30.0  450.0   \n",
       "1    Nakita CPA252   44.0  37000.0   1.85   60.0  400.0   \n",
       "2  Champion XUB235   33.0  15000.0   1.50   40.0  600.0   \n",
       "3    Gardez GYW727    NaN  39000.0   1.65   50.0  200.0   \n",
       "4    Gardez WBB365   30.0  25000.0   1.45   70.0  350.0   \n",
       "\n",
       "                                         DESCRIPTION  \n",
       "0  Широкая полоса скашивания на данной газонокоси...  \n",
       "1  Широкая полоса скашивания на данной газонокоси...  \n",
       "2  Узкая ширина скашиваемой полосы на данной газо...  \n",
       "3  Широкая полоса скашивания на данной газонокоси...  \n",
       "4  Узкая ширина скашиваемой полосы на данной газо...  "
      ]
     },
     "execution_count": 3,
     "metadata": {},
     "output_type": "execute_result"
    }
   ],
   "source": [
    "df.head()"
   ]
  },
  {
   "cell_type": "markdown",
   "metadata": {},
   "source": [
    "Описание полей таблицы:\n",
    "\n",
    "- Название газонокосилки — NAME\n",
    "- Ширина скашиваемой полосы — WIDTH\n",
    "- Стоимость — PRICE\n",
    "- Мощность — POWER\n",
    "- Объем травосборника — GRASS\n",
    "- Площадь скашиваемой поверхности на одном заряде аккумулятора — AREA\n",
    "- Описание газонокосилки — DESCRIPTION"
   ]
  },
  {
   "cell_type": "markdown",
   "metadata": {},
   "source": [
    "1. Параметр \"Ширина скашиваемой полосы\" содержит много пропущенных значений\n",
    "\n",
    "- Если в описании газонокосилки встречались слова \"узкая\"/\"узкие\", то значение восстанавливалось как медиана по существующим в исходном датасете значениям в диапазоне от 30 до 35. Введите медиану по существующим в исходном датасете значениям в диапазоне от 30 до 35.\n",
    "- Если встречались слова \"средняя ширина\"/\"ширина средняя\", то значение восстанавливалось как округленное до целого среднее арифметическое по существующим значениям в диапазоне от 36 до 40. Введите округленное до целого среднее арифметическое по существующим в исходном датасете значениям в диапазоне от 36 до 40.\n",
    "- Если встречались слова (\"широкая\" и \"полоса\")/(\"широкие\" и \"полосы\"), то значение восстанавливалось как медиана по существующим значениям в диапазоне от 41 до 45. Введите медиану по существующим в исходном датасете значениям в диапазоне от 41 до 45.\n",
    "- Введите среднее арифметическое для параметра \"Ширина скашиваемой полосы\" после восстановления пропущенных значений"
   ]
  },
  {
   "cell_type": "markdown",
   "metadata": {},
   "source": [
    "Посчитаем количество пустых - NaN"
   ]
  },
  {
   "cell_type": "code",
   "execution_count": 4,
   "metadata": {},
   "outputs": [
    {
     "data": {
      "text/plain": [
       "False    180\n",
       "True      20\n",
       "Name: WIDTH, dtype: int64"
      ]
     },
     "execution_count": 4,
     "metadata": {},
     "output_type": "execute_result"
    }
   ],
   "source": [
    "df.WIDTH.isna().value_counts()"
   ]
  },
  {
   "cell_type": "markdown",
   "metadata": {},
   "source": [
    "Определим новый датафрейм содержащий только пустые"
   ]
  },
  {
   "cell_type": "code",
   "execution_count": 5,
   "metadata": {},
   "outputs": [
    {
     "data": {
      "text/plain": [
       "'WIDTH'"
      ]
     },
     "execution_count": 5,
     "metadata": {},
     "output_type": "execute_result"
    }
   ],
   "source": [
    "column_of_interest = df.columns[df.isna().any()][0]\n",
    "column_of_interest"
   ]
  },
  {
   "cell_type": "code",
   "execution_count": 6,
   "metadata": {},
   "outputs": [
    {
     "data": {
      "text/html": [
       "<div>\n",
       "<style scoped>\n",
       "    .dataframe tbody tr th:only-of-type {\n",
       "        vertical-align: middle;\n",
       "    }\n",
       "\n",
       "    .dataframe tbody tr th {\n",
       "        vertical-align: top;\n",
       "    }\n",
       "\n",
       "    .dataframe thead th {\n",
       "        text-align: right;\n",
       "    }\n",
       "</style>\n",
       "<table border=\"1\" class=\"dataframe\">\n",
       "  <thead>\n",
       "    <tr style=\"text-align: right;\">\n",
       "      <th></th>\n",
       "      <th>NAME</th>\n",
       "      <th>WIDTH</th>\n",
       "      <th>PRICE</th>\n",
       "      <th>POWER</th>\n",
       "      <th>GRASS</th>\n",
       "      <th>AREA</th>\n",
       "      <th>DESCRIPTION</th>\n",
       "    </tr>\n",
       "  </thead>\n",
       "  <tbody>\n",
       "    <tr>\n",
       "      <th>3</th>\n",
       "      <td>Gardez GYW727</td>\n",
       "      <td>NaN</td>\n",
       "      <td>39000.0</td>\n",
       "      <td>1.65</td>\n",
       "      <td>50.0</td>\n",
       "      <td>200.0</td>\n",
       "      <td>Широкая полоса скашивания на данной газонокоси...</td>\n",
       "    </tr>\n",
       "    <tr>\n",
       "      <th>13</th>\n",
       "      <td>Boch ATS658</td>\n",
       "      <td>NaN</td>\n",
       "      <td>45000.0</td>\n",
       "      <td>1.20</td>\n",
       "      <td>30.0</td>\n",
       "      <td>250.0</td>\n",
       "      <td>Узкая ширина скашиваемой полосы на данной газо...</td>\n",
       "    </tr>\n",
       "    <tr>\n",
       "      <th>25</th>\n",
       "      <td>Nakita MHM126</td>\n",
       "      <td>NaN</td>\n",
       "      <td>NaN</td>\n",
       "      <td>NaN</td>\n",
       "      <td>40.0</td>\n",
       "      <td>400.0</td>\n",
       "      <td>Широкая полоса скашивания на данной газонокоси...</td>\n",
       "    </tr>\n",
       "    <tr>\n",
       "      <th>33</th>\n",
       "      <td>Champion IIA763</td>\n",
       "      <td>NaN</td>\n",
       "      <td>10000.0</td>\n",
       "      <td>1.40</td>\n",
       "      <td>50.0</td>\n",
       "      <td>550.0</td>\n",
       "      <td>Широкая полоса скашивания на данной газонокоси...</td>\n",
       "    </tr>\n",
       "    <tr>\n",
       "      <th>40</th>\n",
       "      <td>Bear ELB654</td>\n",
       "      <td>NaN</td>\n",
       "      <td>37000.0</td>\n",
       "      <td>1.85</td>\n",
       "      <td>25.0</td>\n",
       "      <td>550.0</td>\n",
       "      <td>Узкая ширина скашиваемой полосы на данной газо...</td>\n",
       "    </tr>\n",
       "  </tbody>\n",
       "</table>\n",
       "</div>"
      ],
      "text/plain": [
       "               NAME  WIDTH    PRICE  POWER  GRASS   AREA  \\\n",
       "3     Gardez GYW727    NaN  39000.0   1.65   50.0  200.0   \n",
       "13      Boch ATS658    NaN  45000.0   1.20   30.0  250.0   \n",
       "25    Nakita MHM126    NaN      NaN    NaN   40.0  400.0   \n",
       "33  Champion IIA763    NaN  10000.0   1.40   50.0  550.0   \n",
       "40      Bear ELB654    NaN  37000.0   1.85   25.0  550.0   \n",
       "\n",
       "                                          DESCRIPTION  \n",
       "3   Широкая полоса скашивания на данной газонокоси...  \n",
       "13  Узкая ширина скашиваемой полосы на данной газо...  \n",
       "25  Широкая полоса скашивания на данной газонокоси...  \n",
       "33  Широкая полоса скашивания на данной газонокоси...  \n",
       "40  Узкая ширина скашиваемой полосы на данной газо...  "
      ]
     },
     "execution_count": 6,
     "metadata": {},
     "output_type": "execute_result"
    }
   ],
   "source": [
    "df_new = df.loc[np.where(df[column_of_interest].isna())]\n",
    "df_new.head()"
   ]
  },
  {
   "cell_type": "code",
   "execution_count": 7,
   "metadata": {},
   "outputs": [
    {
     "name": "stdout",
     "output_type": "stream",
     "text": [
      "<class 'pandas.core.frame.DataFrame'>\n",
      "RangeIndex: 200 entries, 0 to 199\n",
      "Data columns (total 7 columns):\n",
      " #   Column       Non-Null Count  Dtype  \n",
      "---  ------       --------------  -----  \n",
      " 0   NAME         200 non-null    object \n",
      " 1   WIDTH        180 non-null    float64\n",
      " 2   PRICE        194 non-null    float64\n",
      " 3   POWER        198 non-null    float64\n",
      " 4   GRASS        199 non-null    float64\n",
      " 5   AREA         196 non-null    float64\n",
      " 6   DESCRIPTION  200 non-null    object \n",
      "dtypes: float64(5), object(2)\n",
      "memory usage: 11.1+ KB\n"
     ]
    }
   ],
   "source": [
    "df1 = df.copy()\n",
    "df1.info()"
   ]
  },
  {
   "cell_type": "code",
   "execution_count": 8,
   "metadata": {},
   "outputs": [
    {
     "data": {
      "text/plain": [
       "Text(0.5, 1.0, 'Распределение WIDTH до заполнения пропусков')"
      ]
     },
     "execution_count": 8,
     "metadata": {},
     "output_type": "execute_result"
    },
    {
     "data": {
      "image/png": "[encoded data removed]",
      "text/plain": [
       "<Figure size 1000x600 with 1 Axes>"
      ]
     },
     "metadata": {},
     "output_type": "display_data"
    }
   ],
   "source": [
    "sns.set(rc = {'figure.figsize' : (10, 6)})\n",
    "sns.histplot(df1.WIDTH, bins = 20)\n",
    "plt.title('Распределение WIDTH до заполнения пропусков')"
   ]
  },
  {
   "cell_type": "code",
   "execution_count": 9,
   "metadata": {},
   "outputs": [
    {
     "data": {
      "text/plain": [
       "(37.3, 37.0)"
      ]
     },
     "execution_count": 9,
     "metadata": {},
     "output_type": "execute_result"
    }
   ],
   "source": [
    "df1.WIDTH.mean(), df1.WIDTH.median()"
   ]
  },
  {
   "cell_type": "code",
   "execution_count": 10,
   "metadata": {},
   "outputs": [],
   "source": [
    "df2 = df1.loc[(df1['WIDTH'] >= 30) & (df1['WIDTH'] <= 35)]\n",
    "df3 = df1.loc[(df1['WIDTH'] >= 36) & (df1['WIDTH'] <= 40)]\n",
    "df4 = df1.loc[(df1['WIDTH'] >= 41) & (df1['WIDTH'] <= 45)]"
   ]
  },
  {
   "cell_type": "code",
   "execution_count": 11,
   "metadata": {},
   "outputs": [
    {
     "data": {
      "text/plain": [
       "(32.0, 38, 42.0)"
      ]
     },
     "execution_count": 11,
     "metadata": {},
     "output_type": "execute_result"
    }
   ],
   "source": [
    "df2.WIDTH.median(), round(df3.WIDTH.mean()), df4.WIDTH.median()"
   ]
  },
  {
   "cell_type": "code",
   "execution_count": 12,
   "metadata": {},
   "outputs": [],
   "source": [
    "pattern1 = re.compile(r'узкая | узкие', re.IGNORECASE)\n",
    "pattern2 = re.compile(r'средняя ширина | ширина средняя', re.IGNORECASE)\n",
    "pattern3 = re.compile(r'широкая полоса | широкие полосы', re.IGNORECASE)"
   ]
  },
  {
   "cell_type": "code",
   "execution_count": 13,
   "metadata": {},
   "outputs": [],
   "source": [
    "df1['WIDTH'].fillna(df2.WIDTH.median(), inplace = True)"
   ]
  },
  {
   "cell_type": "code",
   "execution_count": 14,
   "metadata": {},
   "outputs": [
    {
     "data": {
      "text/plain": [
       "0                                                None\n",
       "1                                                None\n",
       "2      <re.Match object; span=(0, 6), match='Узкая '>\n",
       "3                                                None\n",
       "4      <re.Match object; span=(0, 6), match='Узкая '>\n",
       "                            ...                      \n",
       "195    <re.Match object; span=(0, 6), match='Узкая '>\n",
       "196                                              None\n",
       "197                                              None\n",
       "198    <re.Match object; span=(0, 6), match='Узкая '>\n",
       "199                                              None\n",
       "Name: DESCRIPTION, Length: 200, dtype: object"
      ]
     },
     "execution_count": 14,
     "metadata": {},
     "output_type": "execute_result"
    }
   ],
   "source": [
    "df1['DESCRIPTION'].apply(lambda x: re.search(pattern1, x))"
   ]
  },
  {
   "cell_type": "code",
   "execution_count": 16,
   "metadata": {},
   "outputs": [
    {
     "data": {
      "text/html": [
       "<div>\n",
       "<style scoped>\n",
       "    .dataframe tbody tr th:only-of-type {\n",
       "        vertical-align: middle;\n",
       "    }\n",
       "\n",
       "    .dataframe tbody tr th {\n",
       "        vertical-align: top;\n",
       "    }\n",
       "\n",
       "    .dataframe thead th {\n",
       "        text-align: right;\n",
       "    }\n",
       "</style>\n",
       "<table border=\"1\" class=\"dataframe\">\n",
       "  <thead>\n",
       "    <tr style=\"text-align: right;\">\n",
       "      <th></th>\n",
       "      <th>NAME</th>\n",
       "      <th>WIDTH</th>\n",
       "      <th>PRICE</th>\n",
       "      <th>POWER</th>\n",
       "      <th>GRASS</th>\n",
       "      <th>AREA</th>\n",
       "      <th>DESCRIPTION</th>\n",
       "    </tr>\n",
       "  </thead>\n",
       "  <tbody>\n",
       "    <tr>\n",
       "      <th>0</th>\n",
       "      <td>Champion NPI256</td>\n",
       "      <td>41.0</td>\n",
       "      <td>22000.0</td>\n",
       "      <td>1.55</td>\n",
       "      <td>30.0</td>\n",
       "      <td>450.0</td>\n",
       "      <td>Широкая полоса скашивания на данной газонокоси...</td>\n",
       "    </tr>\n",
       "    <tr>\n",
       "      <th>1</th>\n",
       "      <td>Nakita CPA252</td>\n",
       "      <td>44.0</td>\n",
       "      <td>37000.0</td>\n",
       "      <td>1.85</td>\n",
       "      <td>60.0</td>\n",
       "      <td>400.0</td>\n",
       "      <td>Широкая полоса скашивания на данной газонокоси...</td>\n",
       "    </tr>\n",
       "    <tr>\n",
       "      <th>2</th>\n",
       "      <td>Champion XUB235</td>\n",
       "      <td>33.0</td>\n",
       "      <td>15000.0</td>\n",
       "      <td>1.50</td>\n",
       "      <td>40.0</td>\n",
       "      <td>600.0</td>\n",
       "      <td>Узкая ширина скашиваемой полосы на данной газо...</td>\n",
       "    </tr>\n",
       "    <tr>\n",
       "      <th>3</th>\n",
       "      <td>Gardez GYW727</td>\n",
       "      <td>32.0</td>\n",
       "      <td>39000.0</td>\n",
       "      <td>1.65</td>\n",
       "      <td>50.0</td>\n",
       "      <td>200.0</td>\n",
       "      <td>Широкая полоса скашивания на данной газонокоси...</td>\n",
       "    </tr>\n",
       "    <tr>\n",
       "      <th>4</th>\n",
       "      <td>Gardez WBB365</td>\n",
       "      <td>30.0</td>\n",
       "      <td>25000.0</td>\n",
       "      <td>1.45</td>\n",
       "      <td>70.0</td>\n",
       "      <td>350.0</td>\n",
       "      <td>Узкая ширина скашиваемой полосы на данной газо...</td>\n",
       "    </tr>\n",
       "  </tbody>\n",
       "</table>\n",
       "</div>"
      ],
      "text/plain": [
       "              NAME  WIDTH    PRICE  POWER  GRASS   AREA  \\\n",
       "0  Champion NPI256   41.0  22000.0   1.55   30.0  450.0   \n",
       "1    Nakita CPA252   44.0  37000.0   1.85   60.0  400.0   \n",
       "2  Champion XUB235   33.0  15000.0   1.50   40.0  600.0   \n",
       "3    Gardez GYW727   32.0  39000.0   1.65   50.0  200.0   \n",
       "4    Gardez WBB365   30.0  25000.0   1.45   70.0  350.0   \n",
       "\n",
       "                                         DESCRIPTION  \n",
       "0  Широкая полоса скашивания на данной газонокоси...  \n",
       "1  Широкая полоса скашивания на данной газонокоси...  \n",
       "2  Узкая ширина скашиваемой полосы на данной газо...  \n",
       "3  Широкая полоса скашивания на данной газонокоси...  \n",
       "4  Узкая ширина скашиваемой полосы на данной газо...  "
      ]
     },
     "execution_count": 16,
     "metadata": {},
     "output_type": "execute_result"
    }
   ],
   "source": [
    "df1.head()"
   ]
  },
  {
   "cell_type": "code",
   "execution_count": 15,
   "metadata": {},
   "outputs": [],
   "source": [
    "# sns.set(rc = {'figure.figsize' : (10, 6)})\n",
    "# sns.histplot(df1.WIDTH, bins = 20)\n",
    "# plt.title('Распределение WIDTH после заполнения пропусков')"
   ]
  }
 ],
 "metadata": {
  "kernelspec": {
   "display_name": "Python 3 (ipykernel)",
   "language": "python",
   "name": "python3"
  },
  "language_info": {
   "codemirror_mode": {
    "name": "ipython",
    "version": 3
   },
   "file_extension": ".py",
   "mimetype": "text/x-python",
   "name": "python",
   "nbconvert_exporter": "python",
   "pygments_lexer": "ipython3",
   "version": "3.9.13"
  },
  "vscode": {
   "interpreter": {
    "hash": "5acf879415b0356c58266681cd63fdd61d0de14133c63ffad7f50fcced62fa0d"
   }
  }
 },
 "nbformat": 4,
 "nbformat_minor": 2
}
