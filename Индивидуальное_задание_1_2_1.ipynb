{
  "cells": [
    {
      "attachments": {},
      "cell_type": "markdown",
      "metadata": {
        "id": "RG1leUApCxfO"
      },
      "source": [
        "В этом блокноте мы научимся производить нормировку данных и строить целевую функцию\n",
        "\n",
        "Для начала подключаем библиотеку pandas и загружаем интересующий нас файл при помощи метода `read_csv(file_name, delimeter, index_col, decimal, usecols, header, ...)`. Подробное описание можно найти по [ссылке](https://pandas.pydata.org/pandas-docs/stable/reference/api/pandas.read_csv.html)."
      ]
    },
    {
      "cell_type": "code",
      "execution_count": null,
      "metadata": {
        "id": "yEvd3yZrCUGp"
      },
      "outputs": [],
      "source": [
        "import pandas as pd\n",
        "import numpy as np"
      ]
    },
    {
      "attachments": {},
      "cell_type": "markdown",
      "metadata": {
        "id": "xBaLzM6m1V9f"
      },
      "source": [
        "**Используйте файл с данными из своего варианта задания!!!**"
      ]
    },
    {
      "cell_type": "code",
      "execution_count": null,
      "metadata": {
        "id": "IJDMl235F3GJ"
      },
      "outputs": [],
      "source": [
        "link = 'https://studio.dc-edu.itmo.ru/assets/courseware/v1/9b9fe57aaa50f72f4b24a89c9f02f016/asset-v1:ITMO+DA+2023+type@asset+block/task4_1_341849.csv'"
      ]
    },
    {
      "cell_type": "code",
      "execution_count": null,
      "metadata": {
        "id": "ecwbwTVtCu7w"
      },
      "outputs": [],
      "source": [
        "data = pd.read_csv(link, index_col = 'ID')"
      ]
    },
    {
      "attachments": {},
      "cell_type": "markdown",
      "metadata": {
        "id": "hFzDjX4FFg3a"
      },
      "source": [
        "Посмотрим на наши данные"
      ]
    },
    {
      "cell_type": "code",
      "execution_count": null,
      "metadata": {
        "id": "YsFfu_H8CvSx"
      },
      "outputs": [],
      "source": [
        "data"
      ]
    },
    {
      "cell_type": "code",
      "execution_count": null,
      "metadata": {
        "id": "6t_jr698l7iS"
      },
      "outputs": [],
      "source": [
        "data.info()"
      ]
    },
    {
      "cell_type": "code",
      "execution_count": null,
      "metadata": {
        "id": "f452BSO8pmis"
      },
      "outputs": [],
      "source": [
        "data = data[data['INTERNET'] != 0]"
      ]
    },
    {
      "cell_type": "code",
      "execution_count": null,
      "metadata": {
        "id": "kGyGv8bWqxMj"
      },
      "outputs": [],
      "source": [
        "data"
      ]
    },
    {
      "attachments": {},
      "cell_type": "markdown",
      "metadata": {
        "id": "cYS_wMDlD3sR"
      },
      "source": [
        "Теперь выполним экспоненциальную нормировку:\n",
        "$$\n",
        "\\widetilde x_i = 1 - e^{1 - \\frac{x_i}{x_{min}}}\n",
        "$$"
      ]
    },
    {
      "attachments": {},
      "cell_type": "markdown",
      "metadata": {
        "id": "caF5AUCPFmwD"
      },
      "source": [
        "Проведем экспоненциальную нормировку и выведем данные"
      ]
    },
    {
      "cell_type": "code",
      "execution_count": null,
      "metadata": {
        "id": "M44V-xt_EFg6"
      },
      "outputs": [],
      "source": [
        "data = 1 - np.exp(1 - data/data.min())\n",
        "data"
      ]
    },
    {
      "attachments": {},
      "cell_type": "markdown",
      "metadata": {
        "id": "n-U13w20FvjE"
      },
      "source": [
        "Вычислим значение целевой функции и отсортируем результат:"
      ]
    },
    {
      "cell_type": "code",
      "execution_count": null,
      "metadata": {
        "id": "rG-3IWYPEjyB"
      },
      "outputs": [],
      "source": [
        "data['SUM'] = data['DISTANCE'] + data['STOP_COUNT'] + data['COST'] + 0.5 * data['FITNESS'] - 0.3 * data['INTERNET']\n",
        "data.sort_values(by = ['SUM'], ascending = True)"
      ]
    },
    {
      "cell_type": "code",
      "execution_count": null,
      "metadata": {
        "id": "I9F8bYOWkkkF"
      },
      "outputs": [],
      "source": [
        "data.sort_values(by = ['SUM'], ascending = True).iloc[0:3]"
      ]
    },
    {
      "cell_type": "code",
      "execution_count": null,
      "metadata": {
        "id": "nX546L1RGnqD"
      },
      "outputs": [],
      "source": [
        "list(data.sort_values(by = ['SUM'], ascending = True).iloc[0:3].index)"
      ]
    },
    {
      "cell_type": "code",
      "execution_count": null,
      "metadata": {
        "id": "mb_X8iTwI4Co"
      },
      "outputs": [],
      "source": [
        "data1 = data[data['SUM'] < 1.5]"
      ]
    },
    {
      "cell_type": "code",
      "execution_count": null,
      "metadata": {
        "id": "fpAOrtnu4c1a"
      },
      "outputs": [],
      "source": [
        "data1 = data1.reset_index()\n"
      ]
    },
    {
      "cell_type": "code",
      "execution_count": null,
      "metadata": {
        "id": "uWyfs7OX4lAx"
      },
      "outputs": [],
      "source": [
        "print(data1)"
      ]
    },
    {
      "cell_type": "code",
      "execution_count": null,
      "metadata": {
        "id": "oWs3YSVpnSG1"
      },
      "outputs": [],
      "source": [
        "import re"
      ]
    },
    {
      "attachments": {},
      "cell_type": "markdown",
      "metadata": {
        "id": "6vmXn9mhpGa6"
      },
      "source": [
        "Добавим значения для выборки Анны"
      ]
    },
    {
      "cell_type": "code",
      "execution_count": null,
      "metadata": {
        "id": "58KBtUHn0yyR"
      },
      "outputs": [],
      "source": [
        "data_Ann = pd.read_csv('/content/sample_data/Инд_1_2_1_Анна.csv', delimiter=';', index_col = 'ID')\n",
        "data_Ann"
      ]
    },
    {
      "cell_type": "code",
      "execution_count": null,
      "metadata": {
        "id": "_l7SG1qs6kxm"
      },
      "outputs": [],
      "source": [
        "df = data.join(data_Ann)\n",
        "df.head()"
      ]
    },
    {
      "cell_type": "code",
      "execution_count": null,
      "metadata": {
        "id": "nLrq-czCClLC"
      },
      "outputs": [],
      "source": [
        "df = df.drop('SUM', axis=1)\n",
        "df"
      ]
    },
    {
      "cell_type": "code",
      "execution_count": null,
      "metadata": {
        "id": "cC_5bOluMmNi"
      },
      "outputs": [],
      "source": [
        "df.info()"
      ]
    },
    {
      "cell_type": "code",
      "execution_count": null,
      "metadata": {
        "id": "VIIZEkgxMg4Y"
      },
      "outputs": [],
      "source": [
        "df['Дополнительная информация'] = df['Дополнительная информация'].fillna('')"
      ]
    },
    {
      "attachments": {},
      "cell_type": "markdown",
      "metadata": {
        "id": "PGZq60bU6x2y"
      },
      "source": [
        "Добавим новую колонку \"Выгул собак\" cо значениями 1/0"
      ]
    },
    {
      "cell_type": "code",
      "execution_count": null,
      "metadata": {
        "id": "vqPs4xzaNKJn"
      },
      "outputs": [],
      "source": [
        "pattern = re.compile(r'соба[кч]|питомц[ае]|dog|четвероноги[хме]', re.IGNORECASE)\n",
        "df['Выгул собак'] = df['Дополнительная информация'].apply(lambda x: 1 if re.search(pattern, x) else 0)\n",
        "\n",
        "df"
      ]
    },
    {
      "cell_type": "code",
      "execution_count": null,
      "metadata": {
        "id": "NzmTi5Zd7NOi"
      },
      "outputs": [],
      "source": [
        "df['SUM'] = df['DISTANCE'] + df['STOP_COUNT'] + df['COST'] + 0.1 * df['FITNESS'] - 0.3 * df['INTERNET'] - 0.7 * df['Выгул собак']\n",
        "df.sort_values(by = ['SUM'], ascending = True)"
      ]
    }
  ],
  "metadata": {
    "colab": {
      "provenance": []
    },
    "kernelspec": {
      "display_name": "Python 3",
      "name": "python3"
    },
    "language_info": {
      "name": "python"
    }
  },
  "nbformat": 4,
  "nbformat_minor": 0
}
