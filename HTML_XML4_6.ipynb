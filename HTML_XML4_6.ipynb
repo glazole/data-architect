{
  "nbformat": 4,
  "nbformat_minor": 0,
  "metadata": {
    "colab": {
      "provenance": [],
      "toc_visible": true
    },
    "kernelspec": {
      "name": "python3",
      "display_name": "Python 3"
    },
    "language_info": {
      "name": "python"
    }
  },
  "cells": [
    {
      "cell_type": "markdown",
      "source": [
        "# **Библиотека BeautifulSoup**"
      ],
      "metadata": {
        "id": "_QIU1hh7ktN9"
      }
    },
    {
      "cell_type": "code",
      "source": [
        "!pip install beautifulsoup4 -U"
      ],
      "metadata": {
        "colab": {
          "base_uri": "https://localhost:8080/"
        },
        "id": "k5hXuK8Bk3M_",
        "outputId": "53cecaf2-1ce5-4e05-9ed6-6b65c4657dd1"
      },
      "execution_count": 1,
      "outputs": [
        {
          "output_type": "stream",
          "name": "stdout",
          "text": [
            "Looking in indexes: https://pypi.org/simple, https://us-python.pkg.dev/colab-wheels/public/simple/\n",
            "Requirement already satisfied: beautifulsoup4 in /usr/local/lib/python3.10/dist-packages (4.12.2)\n",
            "Requirement already satisfied: soupsieve>1.2 in /usr/local/lib/python3.10/dist-packages (from beautifulsoup4) (2.4.1)\n"
          ]
        }
      ]
    },
    {
      "cell_type": "code",
      "source": [
        "from bs4 import BeautifulSoup # подключение библиотеки"
      ],
      "metadata": {
        "id": "dHMrScvzk5rk"
      },
      "execution_count": 2,
      "outputs": []
    },
    {
      "cell_type": "code",
      "source": [
        "html_doc = \"\"\"\n",
        "  <html>\n",
        "  <h2 style=\"padding-left: 180px;\">\n",
        "  <strong>Заголовок</strong>\n",
        "  </h2>\n",
        "  <p>\n",
        "  <a href=\"https://itmo.ru/?ysclid=lbyuch9pd5418300167\"> Ссылка </a>\n",
        "  </p>\n",
        "  <ul>\n",
        "  <li><span style=\"color: orange;\">Оранжевый</span></li>\n",
        "  <li><span style=\"color: green; font-size: xx-large;\">Зелёный</span></li>\n",
        "  <li><span style=\"color: blue; font-family: Arial; font-size: x-large; background-color: yellow\">Синий</span></li>\n",
        "  </ul></html>\"\"\""
      ],
      "metadata": {
        "id": "r0lb6D-gyuKV"
      },
      "execution_count": 3,
      "outputs": []
    },
    {
      "cell_type": "code",
      "source": [
        "print(html_doc)"
      ],
      "metadata": {
        "colab": {
          "base_uri": "https://localhost:8080/"
        },
        "id": "vfyYoFUvlJ3U",
        "outputId": "a7d17d8b-b2ec-424a-9346-fe5c99453a94"
      },
      "execution_count": 4,
      "outputs": [
        {
          "output_type": "stream",
          "name": "stdout",
          "text": [
            "\n",
            "  <html>\n",
            "  <h2 style=\"padding-left: 180px;\">\n",
            "  <strong>Заголовок</strong>\n",
            "  </h2>\n",
            "  <p>\n",
            "  <a href=\"https://itmo.ru/?ysclid=lbyuch9pd5418300167\"> Ссылка </a>\n",
            "  </p>\n",
            "  <ul>\n",
            "  <li><span style=\"color: orange;\">Оранжевый</span></li>\n",
            "  <li><span style=\"color: green; font-size: xx-large;\">Зелёный</span></li>\n",
            "  <li><span style=\"color: blue; font-family: Arial; font-size: x-large; background-color: yellow\">Синий</span></li>\n",
            "  </ul></html>\n"
          ]
        }
      ]
    },
    {
      "cell_type": "code",
      "source": [
        "page = BeautifulSoup(html_doc, features='html.parser')"
      ],
      "metadata": {
        "id": "WCxOYBzvlPpV"
      },
      "execution_count": 5,
      "outputs": []
    },
    {
      "cell_type": "markdown",
      "source": [
        "## Редактирование HTML документа"
      ],
      "metadata": {
        "id": "eqz-Ac9oPdxn"
      }
    },
    {
      "cell_type": "code",
      "source": [
        "print(page.prettify())"
      ],
      "metadata": {
        "colab": {
          "base_uri": "https://localhost:8080/"
        },
        "id": "E1wPMhMcQJIf",
        "outputId": "c9fd3eef-4adc-4107-8fdc-5dd4a6069c79"
      },
      "execution_count": 6,
      "outputs": [
        {
          "output_type": "stream",
          "name": "stdout",
          "text": [
            "<html>\n",
            " <h2 style=\"padding-left: 180px;\">\n",
            "  <strong>\n",
            "   Заголовок\n",
            "  </strong>\n",
            " </h2>\n",
            " <p>\n",
            "  <a href=\"https://itmo.ru/?ysclid=lbyuch9pd5418300167\">\n",
            "   Ссылка\n",
            "  </a>\n",
            " </p>\n",
            " <ul>\n",
            "  <li>\n",
            "   <span style=\"color: orange;\">\n",
            "    Оранжевый\n",
            "   </span>\n",
            "  </li>\n",
            "  <li>\n",
            "   <span style=\"color: green; font-size: xx-large;\">\n",
            "    Зелёный\n",
            "   </span>\n",
            "  </li>\n",
            "  <li>\n",
            "   <span style=\"color: blue; font-family: Arial; font-size: x-large; background-color: yellow\">\n",
            "    Синий\n",
            "   </span>\n",
            "  </li>\n",
            " </ul>\n",
            "</html>\n",
            "\n"
          ]
        }
      ]
    },
    {
      "cell_type": "code",
      "source": [
        "page.h2.append(\"******  new text  ******\")\n",
        "print(page.prettify())"
      ],
      "metadata": {
        "colab": {
          "base_uri": "https://localhost:8080/"
        },
        "id": "X-AINP3OPn73",
        "outputId": "6dd7ab69-7628-43dc-8fa9-44b86931e0a2"
      },
      "execution_count": 7,
      "outputs": [
        {
          "output_type": "stream",
          "name": "stdout",
          "text": [
            "<html>\n",
            " <h2 style=\"padding-left: 180px;\">\n",
            "  <strong>\n",
            "   Заголовок\n",
            "  </strong>\n",
            "  ******  new text  ******\n",
            " </h2>\n",
            " <p>\n",
            "  <a href=\"https://itmo.ru/?ysclid=lbyuch9pd5418300167\">\n",
            "   Ссылка\n",
            "  </a>\n",
            " </p>\n",
            " <ul>\n",
            "  <li>\n",
            "   <span style=\"color: orange;\">\n",
            "    Оранжевый\n",
            "   </span>\n",
            "  </li>\n",
            "  <li>\n",
            "   <span style=\"color: green; font-size: xx-large;\">\n",
            "    Зелёный\n",
            "   </span>\n",
            "  </li>\n",
            "  <li>\n",
            "   <span style=\"color: blue; font-family: Arial; font-size: x-large; background-color: yellow\">\n",
            "    Синий\n",
            "   </span>\n",
            "  </li>\n",
            " </ul>\n",
            "</html>\n",
            "\n"
          ]
        }
      ]
    },
    {
      "cell_type": "code",
      "source": [
        "new = page.new_tag('new')\n",
        "new.string='NEW TEXT'\n",
        "page.h2.append(new)\n",
        "print(page.prettify())"
      ],
      "metadata": {
        "colab": {
          "base_uri": "https://localhost:8080/"
        },
        "id": "7Cw7UDq7QcF3",
        "outputId": "a4f0cfe3-c6a9-4315-d11a-f68c7351f2e8"
      },
      "execution_count": 8,
      "outputs": [
        {
          "output_type": "stream",
          "name": "stdout",
          "text": [
            "<html>\n",
            " <h2 style=\"padding-left: 180px;\">\n",
            "  <strong>\n",
            "   Заголовок\n",
            "  </strong>\n",
            "  ******  new text  ******\n",
            "  <new>\n",
            "   NEW TEXT\n",
            "  </new>\n",
            " </h2>\n",
            " <p>\n",
            "  <a href=\"https://itmo.ru/?ysclid=lbyuch9pd5418300167\">\n",
            "   Ссылка\n",
            "  </a>\n",
            " </p>\n",
            " <ul>\n",
            "  <li>\n",
            "   <span style=\"color: orange;\">\n",
            "    Оранжевый\n",
            "   </span>\n",
            "  </li>\n",
            "  <li>\n",
            "   <span style=\"color: green; font-size: xx-large;\">\n",
            "    Зелёный\n",
            "   </span>\n",
            "  </li>\n",
            "  <li>\n",
            "   <span style=\"color: blue; font-family: Arial; font-size: x-large; background-color: yellow\">\n",
            "    Синий\n",
            "   </span>\n",
            "  </li>\n",
            " </ul>\n",
            "</html>\n",
            "\n"
          ]
        }
      ]
    },
    {
      "cell_type": "code",
      "source": [
        "new1 = page.new_tag('new1')\n",
        "new1.string='NEW NEW TEXT'\n",
        "page.h2.insert(1,new1)\n",
        "print(page.prettify())"
      ],
      "metadata": {
        "colab": {
          "base_uri": "https://localhost:8080/"
        },
        "id": "L60_fazESpGp",
        "outputId": "d051a362-df5f-47ff-d5d0-fb568223a814"
      },
      "execution_count": 9,
      "outputs": [
        {
          "output_type": "stream",
          "name": "stdout",
          "text": [
            "<html>\n",
            " <h2 style=\"padding-left: 180px;\">\n",
            "  <new1>\n",
            "   NEW NEW TEXT\n",
            "  </new1>\n",
            "  <strong>\n",
            "   Заголовок\n",
            "  </strong>\n",
            "  ******  new text  ******\n",
            "  <new>\n",
            "   NEW TEXT\n",
            "  </new>\n",
            " </h2>\n",
            " <p>\n",
            "  <a href=\"https://itmo.ru/?ysclid=lbyuch9pd5418300167\">\n",
            "   Ссылка\n",
            "  </a>\n",
            " </p>\n",
            " <ul>\n",
            "  <li>\n",
            "   <span style=\"color: orange;\">\n",
            "    Оранжевый\n",
            "   </span>\n",
            "  </li>\n",
            "  <li>\n",
            "   <span style=\"color: green; font-size: xx-large;\">\n",
            "    Зелёный\n",
            "   </span>\n",
            "  </li>\n",
            "  <li>\n",
            "   <span style=\"color: blue; font-family: Arial; font-size: x-large; background-color: yellow\">\n",
            "    Синий\n",
            "   </span>\n",
            "  </li>\n",
            " </ul>\n",
            "</html>\n",
            "\n"
          ]
        }
      ]
    },
    {
      "cell_type": "code",
      "source": [
        "print(page.h2.contents)"
      ],
      "metadata": {
        "colab": {
          "base_uri": "https://localhost:8080/"
        },
        "id": "Rrk_W_ftrNMa",
        "outputId": "fe939aed-d350-48fc-8bbc-43b1c275b7f2"
      },
      "execution_count": 10,
      "outputs": [
        {
          "output_type": "stream",
          "name": "stdout",
          "text": [
            "['\\n', <new1>NEW NEW TEXT</new1>, <strong>Заголовок</strong>, '\\n', '******  new text  ******', <new>NEW TEXT</new>]\n"
          ]
        }
      ]
    },
    {
      "cell_type": "code",
      "source": [
        "page.new1.string.replace_with(\"REPLACED TEXT\")\n",
        "print(page.prettify())"
      ],
      "metadata": {
        "colab": {
          "base_uri": "https://localhost:8080/"
        },
        "id": "UgDr1tNeqstZ",
        "outputId": "15e01756-1842-45d0-9cd5-a8ee3a4334f4"
      },
      "execution_count": 11,
      "outputs": [
        {
          "output_type": "stream",
          "name": "stdout",
          "text": [
            "<html>\n",
            " <h2 style=\"padding-left: 180px;\">\n",
            "  <new1>\n",
            "   REPLACED TEXT\n",
            "  </new1>\n",
            "  <strong>\n",
            "   Заголовок\n",
            "  </strong>\n",
            "  ******  new text  ******\n",
            "  <new>\n",
            "   NEW TEXT\n",
            "  </new>\n",
            " </h2>\n",
            " <p>\n",
            "  <a href=\"https://itmo.ru/?ysclid=lbyuch9pd5418300167\">\n",
            "   Ссылка\n",
            "  </a>\n",
            " </p>\n",
            " <ul>\n",
            "  <li>\n",
            "   <span style=\"color: orange;\">\n",
            "    Оранжевый\n",
            "   </span>\n",
            "  </li>\n",
            "  <li>\n",
            "   <span style=\"color: green; font-size: xx-large;\">\n",
            "    Зелёный\n",
            "   </span>\n",
            "  </li>\n",
            "  <li>\n",
            "   <span style=\"color: blue; font-family: Arial; font-size: x-large; background-color: yellow\">\n",
            "    Синий\n",
            "   </span>\n",
            "  </li>\n",
            " </ul>\n",
            "</html>\n",
            "\n"
          ]
        }
      ]
    },
    {
      "cell_type": "markdown",
      "source": [
        "### Удаление"
      ],
      "metadata": {
        "id": "_8BAtaupw6me"
      }
    },
    {
      "cell_type": "code",
      "source": [
        "page.new1.clear()  # очистить тег\n",
        "print(page.prettify())"
      ],
      "metadata": {
        "colab": {
          "base_uri": "https://localhost:8080/"
        },
        "id": "lx4S45BP0SFg",
        "outputId": "2083a632-7dbb-407a-a2c4-4e972c30e24d"
      },
      "execution_count": 12,
      "outputs": [
        {
          "output_type": "stream",
          "name": "stdout",
          "text": [
            "<html>\n",
            " <h2 style=\"padding-left: 180px;\">\n",
            "  <new1>\n",
            "  </new1>\n",
            "  <strong>\n",
            "   Заголовок\n",
            "  </strong>\n",
            "  ******  new text  ******\n",
            "  <new>\n",
            "   NEW TEXT\n",
            "  </new>\n",
            " </h2>\n",
            " <p>\n",
            "  <a href=\"https://itmo.ru/?ysclid=lbyuch9pd5418300167\">\n",
            "   Ссылка\n",
            "  </a>\n",
            " </p>\n",
            " <ul>\n",
            "  <li>\n",
            "   <span style=\"color: orange;\">\n",
            "    Оранжевый\n",
            "   </span>\n",
            "  </li>\n",
            "  <li>\n",
            "   <span style=\"color: green; font-size: xx-large;\">\n",
            "    Зелёный\n",
            "   </span>\n",
            "  </li>\n",
            "  <li>\n",
            "   <span style=\"color: blue; font-family: Arial; font-size: x-large; background-color: yellow\">\n",
            "    Синий\n",
            "   </span>\n",
            "  </li>\n",
            " </ul>\n",
            "</html>\n",
            "\n"
          ]
        }
      ]
    },
    {
      "cell_type": "code",
      "source": [
        "page.new1.decompose() # удаление тега\n",
        "print(page.prettify())"
      ],
      "metadata": {
        "colab": {
          "base_uri": "https://localhost:8080/"
        },
        "id": "TTJARAPltVlc",
        "outputId": "54737d75-2aef-4216-d8e0-2bc2687e4b2a"
      },
      "execution_count": 13,
      "outputs": [
        {
          "output_type": "stream",
          "name": "stdout",
          "text": [
            "<html>\n",
            " <h2 style=\"padding-left: 180px;\">\n",
            "  <strong>\n",
            "   Заголовок\n",
            "  </strong>\n",
            "  ******  new text  ******\n",
            "  <new>\n",
            "   NEW TEXT\n",
            "  </new>\n",
            " </h2>\n",
            " <p>\n",
            "  <a href=\"https://itmo.ru/?ysclid=lbyuch9pd5418300167\">\n",
            "   Ссылка\n",
            "  </a>\n",
            " </p>\n",
            " <ul>\n",
            "  <li>\n",
            "   <span style=\"color: orange;\">\n",
            "    Оранжевый\n",
            "   </span>\n",
            "  </li>\n",
            "  <li>\n",
            "   <span style=\"color: green; font-size: xx-large;\">\n",
            "    Зелёный\n",
            "   </span>\n",
            "  </li>\n",
            "  <li>\n",
            "   <span style=\"color: blue; font-family: Arial; font-size: x-large; background-color: yellow\">\n",
            "    Синий\n",
            "   </span>\n",
            "  </li>\n",
            " </ul>\n",
            "</html>\n",
            "\n"
          ]
        }
      ]
    },
    {
      "cell_type": "code",
      "source": [
        "tag_deleted = page.new.extract() # удаление тега, но сохранение удаленного элемента\n",
        "print(page.prettify())\n",
        "print(\"Deleted tag: \",tag_deleted) #выводим удаленный элемент"
      ],
      "metadata": {
        "colab": {
          "base_uri": "https://localhost:8080/"
        },
        "id": "nybFAFRdwZEZ",
        "outputId": "e98e4264-1b43-4d4a-d627-66148c5484ba"
      },
      "execution_count": 14,
      "outputs": [
        {
          "output_type": "stream",
          "name": "stdout",
          "text": [
            "<html>\n",
            " <h2 style=\"padding-left: 180px;\">\n",
            "  <strong>\n",
            "   Заголовок\n",
            "  </strong>\n",
            "  ******  new text  ******\n",
            " </h2>\n",
            " <p>\n",
            "  <a href=\"https://itmo.ru/?ysclid=lbyuch9pd5418300167\">\n",
            "   Ссылка\n",
            "  </a>\n",
            " </p>\n",
            " <ul>\n",
            "  <li>\n",
            "   <span style=\"color: orange;\">\n",
            "    Оранжевый\n",
            "   </span>\n",
            "  </li>\n",
            "  <li>\n",
            "   <span style=\"color: green; font-size: xx-large;\">\n",
            "    Зелёный\n",
            "   </span>\n",
            "  </li>\n",
            "  <li>\n",
            "   <span style=\"color: blue; font-family: Arial; font-size: x-large; background-color: yellow\">\n",
            "    Синий\n",
            "   </span>\n",
            "  </li>\n",
            " </ul>\n",
            "</html>\n",
            "\n",
            "Deleted tag:  <new>NEW TEXT</new>\n"
          ]
        }
      ]
    },
    {
      "cell_type": "code",
      "source": [
        "for string in page.strings:   # все значения нашего документа\n",
        "    print(repr(string))"
      ],
      "metadata": {
        "colab": {
          "base_uri": "https://localhost:8080/"
        },
        "id": "H9mKiVt03Pbk",
        "outputId": "9e9488de-cdbd-4284-e71c-c1d4bb489654"
      },
      "execution_count": 15,
      "outputs": [
        {
          "output_type": "stream",
          "name": "stdout",
          "text": [
            "'\\n'\n",
            "'\\n'\n",
            "'\\n'\n",
            "'Заголовок'\n",
            "'\\n'\n",
            "'******  new text  ******'\n",
            "'\\n'\n",
            "'\\n'\n",
            "' Ссылка '\n",
            "'\\n'\n",
            "'\\n'\n",
            "'\\n'\n",
            "'Оранжевый'\n",
            "'\\n'\n",
            "'Зелёный'\n",
            "'\\n'\n",
            "'Синий'\n",
            "'\\n'\n"
          ]
        }
      ]
    },
    {
      "cell_type": "code",
      "source": [
        "for string in page.stripped_strings: # избавимся от пробелов (например, если у тега нет значения)\n",
        "    print(repr(string))"
      ],
      "metadata": {
        "colab": {
          "base_uri": "https://localhost:8080/"
        },
        "id": "gxJnhlZd_15M",
        "outputId": "264eff7f-38f6-4ddb-f197-e638652606b5"
      },
      "execution_count": 16,
      "outputs": [
        {
          "output_type": "stream",
          "name": "stdout",
          "text": [
            "'Заголовок'\n",
            "'******  new text  ******'\n",
            "'Ссылка'\n",
            "'Оранжевый'\n",
            "'Зелёный'\n",
            "'Синий'\n"
          ]
        }
      ]
    },
    {
      "cell_type": "markdown",
      "source": [
        "## XML"
      ],
      "metadata": {
        "id": "D7MmAjKfCaTs"
      }
    },
    {
      "cell_type": "code",
      "source": [
        "xml = \"\"\"<?xml version=\"1.0\" encoding=\"windows-1251\"?>\n",
        "<main>\n",
        "  <tag1=\"a1\">\n",
        "    <tag2 attr1=\"b1\">text1</tag2>\n",
        "    <tag3>long text1</tag3>\n",
        "  </tag1>\n",
        "  <tag1=\"a2\">\n",
        "    <tag2 attr1=\"b2\">text2</tag2>\n",
        "    <tag3>long text2</tag3>\n",
        "  </tag1>\n",
        "  <tag1=\"a3\">\n",
        "    <tag2 attr1=\"b2\">text3</tag2>\n",
        "    <tag3>long text3</tag3>\n",
        "  </tag1>\n",
        "</main>\n",
        " \"\"\"\n",
        "xml_data = BeautifulSoup(xml, features='lxml')"
      ],
      "metadata": {
        "colab": {
          "base_uri": "https://localhost:8080/"
        },
        "id": "TZje0diVCal5",
        "outputId": "b61916ce-812d-418a-f57e-272f7eef5abe"
      },
      "execution_count": 17,
      "outputs": [
        {
          "output_type": "stream",
          "name": "stderr",
          "text": [
            "/usr/local/lib/python3.10/dist-packages/bs4/builder/__init__.py:545: XMLParsedAsHTMLWarning: It looks like you're parsing an XML document using an HTML parser. If this really is an HTML document (maybe it's XHTML?), you can ignore or filter this warning. If it's XML, you should know that using an XML parser will be more reliable. To parse this document as XML, make sure you have the lxml package installed, and pass the keyword argument `features=\"xml\"` into the BeautifulSoup constructor.\n",
            "  warnings.warn(\n"
          ]
        }
      ]
    },
    {
      "cell_type": "code",
      "source": [
        "print(xml_data.prettify())"
      ],
      "metadata": {
        "colab": {
          "base_uri": "https://localhost:8080/"
        },
        "id": "eusuZnHQEhir",
        "outputId": "15d68f5d-7749-46b3-ccbc-056ff810cdfd"
      },
      "execution_count": 18,
      "outputs": [
        {
          "output_type": "stream",
          "name": "stdout",
          "text": [
            "<?xml version=\"1.0\" encoding=\"windows-1251\"?>\n",
            "<html>\n",
            " <body>\n",
            "  <main>\n",
            "   <tag1>\n",
            "    <tag2 attr1=\"b1\">\n",
            "     text1\n",
            "    </tag2>\n",
            "    <tag3>\n",
            "     long text1\n",
            "    </tag3>\n",
            "   </tag1>\n",
            "   <tag1>\n",
            "    <tag2 attr1=\"b2\">\n",
            "     text2\n",
            "    </tag2>\n",
            "    <tag3>\n",
            "     long text2\n",
            "    </tag3>\n",
            "   </tag1>\n",
            "   <tag1>\n",
            "    <tag2 attr1=\"b2\">\n",
            "     text3\n",
            "    </tag2>\n",
            "    <tag3>\n",
            "     long text3\n",
            "    </tag3>\n",
            "   </tag1>\n",
            "  </main>\n",
            " </body>\n",
            "</html>\n",
            "\n"
          ]
        }
      ]
    },
    {
      "cell_type": "code",
      "source": [
        "xml_data.find_all('tag2')  # все теги <tag2>"
      ],
      "metadata": {
        "colab": {
          "base_uri": "https://localhost:8080/"
        },
        "id": "Ifzi0zQ7F_0f",
        "outputId": "4f63b39f-dbff-4dd2-f6d0-c21bab088245"
      },
      "execution_count": 19,
      "outputs": [
        {
          "output_type": "execute_result",
          "data": {
            "text/plain": [
              "[<tag2 attr1=\"b1\">text1</tag2>,\n",
              " <tag2 attr1=\"b2\">text2</tag2>,\n",
              " <tag2 attr1=\"b2\">text3</tag2>]"
            ]
          },
          "metadata": {},
          "execution_count": 19
        }
      ]
    },
    {
      "cell_type": "code",
      "source": [
        "for data in xml_data.find_all('tag2'):  # только контент найденных тегов\n",
        "    print(data.get_text(), data.contents)"
      ],
      "metadata": {
        "colab": {
          "base_uri": "https://localhost:8080/"
        },
        "id": "QeYPPrgUGvfE",
        "outputId": "328af141-e737-454b-8c8a-2b792f1081d9"
      },
      "execution_count": 20,
      "outputs": [
        {
          "output_type": "stream",
          "name": "stdout",
          "text": [
            "text1 ['text1']\n",
            "text2 ['text2']\n",
            "text3 ['text3']\n"
          ]
        }
      ]
    },
    {
      "cell_type": "markdown",
      "source": [
        "\n",
        "*   Мы можем обращаться к любому тегу, указав его имя (.tag.name), его\n",
        "аттрибуту (.tag.attrs), значению тега (.tag.string).\n",
        "*   Мы можем менять теги и аттрибуты, добавлять новые, удалять существующие. Важно понимать, что мы не можем редактировать существующий, но можем его заменить.\n",
        "*   Помимо непосредственного обращения к тегу можем искать сразу все\n",
        "элементы с помощью метода find_all().\n",
        "*   Мы можем перебирать дочерние элементы с помощью \n",
        ".children и .descendants\n",
        "*   Ходить по одному уровню можно при помощи \n",
        ".previous_sibling и .next_sibling.\n",
        "\n"
      ],
      "metadata": {
        "id": "OPOAW_zwLwwG"
      }
    }
  ]
}