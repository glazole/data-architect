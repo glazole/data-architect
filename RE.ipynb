{
  "nbformat": 4,
  "nbformat_minor": 0,
  "metadata": {
    "colab": {
      "provenance": []
    },
    "kernelspec": {
      "name": "python3",
      "display_name": "Python 3"
    },
    "language_info": {
      "name": "python"
    }
  },
  "cells": [
    {
      "cell_type": "markdown",
      "source": [
        "# **Регулярные выражения**"
      ],
      "metadata": {
        "id": "nJEJBp-q84m1"
      }
    },
    {
      "cell_type": "code",
      "execution_count": 1,
      "metadata": {
        "id": "vHQScV8h8v8_"
      },
      "outputs": [],
      "source": [
        "import re"
      ]
    },
    {
      "cell_type": "markdown",
      "source": [
        "# .match(pattern, string)"
      ],
      "metadata": {
        "id": "qeLn8YzoQ4Ba"
      }
    },
    {
      "cell_type": "markdown",
      "source": [
        "**.match(pattern, string)**"
      ],
      "metadata": {
        "id": "E4P5gTCEQLdN"
      }
    },
    {
      "cell_type": "code",
      "source": [
        "result = re.match(r'\\w{3}', 'XML HTML Python')\n",
        "print(result)\n"
      ],
      "metadata": {
        "colab": {
          "base_uri": "https://localhost:8080/"
        },
        "id": "LXIuiPs2Qg_p",
        "outputId": "d7585e73-b488-4b43-ebc1-eeaf6e075a98"
      },
      "execution_count": 2,
      "outputs": [
        {
          "output_type": "stream",
          "name": "stdout",
          "text": [
            "<re.Match object; span=(0, 3), match='XML'>\n"
          ]
        }
      ]
    },
    {
      "cell_type": "code",
      "source": [
        "print(result.group())"
      ],
      "metadata": {
        "colab": {
          "base_uri": "https://localhost:8080/"
        },
        "id": "cxRTfszQQXzh",
        "outputId": "79f01db2-f28b-48ef-87c6-e27819686308"
      },
      "execution_count": 3,
      "outputs": [
        {
          "output_type": "stream",
          "name": "stdout",
          "text": [
            "XML\n"
          ]
        }
      ]
    },
    {
      "cell_type": "code",
      "source": [
        "print(r'строка1 \\n строка2')\n",
        "print('строка1 \\n строка2')"
      ],
      "metadata": {
        "colab": {
          "base_uri": "https://localhost:8080/"
        },
        "id": "m49iVlIJrpqX",
        "outputId": "df0b8d8b-5eff-47ce-ef8c-5ec748306950"
      },
      "execution_count": 4,
      "outputs": [
        {
          "output_type": "stream",
          "name": "stdout",
          "text": [
            "строка1 \\n строка2\n",
            "строка1 \n",
            " строка2\n"
          ]
        }
      ]
    },
    {
      "cell_type": "markdown",
      "source": [
        "# .search(pattern,string)"
      ],
      "metadata": {
        "id": "KpUWZMJJrzSW"
      }
    },
    {
      "cell_type": "code",
      "source": [
        "result = re.search(r'\\w{4}', 'XML HTML Python')\n",
        "print(result.group())"
      ],
      "metadata": {
        "colab": {
          "base_uri": "https://localhost:8080/"
        },
        "id": "C3r_OXCRr8oV",
        "outputId": "1a79332e-e7b8-4f35-f9f9-20ce59d1c450"
      },
      "execution_count": 5,
      "outputs": [
        {
          "output_type": "stream",
          "name": "stdout",
          "text": [
            "HTML\n"
          ]
        }
      ]
    },
    {
      "cell_type": "markdown",
      "source": [
        "# .findall(pattern,string) "
      ],
      "metadata": {
        "id": "mUyaOnP7sN0K"
      }
    },
    {
      "cell_type": "code",
      "source": [
        "result = re.findall(r'ML', 'XML HTML Python')\n",
        "print(result)\n"
      ],
      "metadata": {
        "colab": {
          "base_uri": "https://localhost:8080/"
        },
        "id": "vxGHqjgbsQle",
        "outputId": "e76e6852-90f0-49eb-dd88-4229d0002d59"
      },
      "execution_count": 6,
      "outputs": [
        {
          "output_type": "stream",
          "name": "stdout",
          "text": [
            "['ML', 'ML']\n"
          ]
        }
      ]
    },
    {
      "cell_type": "markdown",
      "source": [
        "# .fullmatch(pattern,string)"
      ],
      "metadata": {
        "id": "S43pZHhJsXiA"
      }
    },
    {
      "cell_type": "code",
      "source": [
        "print(len('XML HTML Python'))"
      ],
      "metadata": {
        "colab": {
          "base_uri": "https://localhost:8080/"
        },
        "id": "dvHCEJ3asZJ3",
        "outputId": "3c5186df-18c9-42d6-b848-0f4fd9f1fa12"
      },
      "execution_count": 7,
      "outputs": [
        {
          "output_type": "stream",
          "name": "stdout",
          "text": [
            "15\n"
          ]
        }
      ]
    },
    {
      "cell_type": "code",
      "source": [
        "result = re.fullmatch(r\".{15}\", 'XML HTML Python')\n",
        "print(result)\n",
        "print(result.group())\n"
      ],
      "metadata": {
        "colab": {
          "base_uri": "https://localhost:8080/"
        },
        "id": "-wv-B1mmseRv",
        "outputId": "6c98650d-db18-4189-cad7-d18159bd9554"
      },
      "execution_count": 8,
      "outputs": [
        {
          "output_type": "stream",
          "name": "stdout",
          "text": [
            "<re.Match object; span=(0, 15), match='XML HTML Python'>\n",
            "XML HTML Python\n"
          ]
        }
      ]
    },
    {
      "cell_type": "markdown",
      "source": [
        "# .split(pattern,string, maxsplit) "
      ],
      "metadata": {
        "id": "5WNWu7sgsptd"
      }
    },
    {
      "cell_type": "code",
      "source": [
        "result = re.split(r\"\\s+\", 'XML HTML Python') #r\"\\s+\" - пробел\n",
        "print(result)\n",
        "result = re.split(r\"\\s+\", 'XML HTML Python', maxsplit=1)\n",
        "print(result)"
      ],
      "metadata": {
        "colab": {
          "base_uri": "https://localhost:8080/"
        },
        "id": "K22r_UcGssGg",
        "outputId": "798d2ad8-b914-41cb-898c-0495a1495302"
      },
      "execution_count": 9,
      "outputs": [
        {
          "output_type": "stream",
          "name": "stdout",
          "text": [
            "['XML', 'HTML', 'Python']\n",
            "['XML', 'HTML Python']\n"
          ]
        }
      ]
    },
    {
      "cell_type": "code",
      "source": [
        "result = re.split(r\"\\s+|,\", 'XML,HTML Python')\n",
        "print(result)"
      ],
      "metadata": {
        "colab": {
          "base_uri": "https://localhost:8080/"
        },
        "id": "UNtr4TKKs2zh",
        "outputId": "712e2065-2529-4546-c6d9-cba880e305ef"
      },
      "execution_count": 10,
      "outputs": [
        {
          "output_type": "stream",
          "name": "stdout",
          "text": [
            "['XML', 'HTML', 'Python']\n"
          ]
        }
      ]
    },
    {
      "cell_type": "markdown",
      "source": [
        "# .finditer(pattern,string)"
      ],
      "metadata": {
        "id": "vFi5jvBOs-AI"
      }
    },
    {
      "cell_type": "code",
      "source": [
        "result = re.finditer(r\"ML\", 'XML HTML Python')\n",
        "for item in result:\n",
        "  print(item.group())\n"
      ],
      "metadata": {
        "colab": {
          "base_uri": "https://localhost:8080/"
        },
        "id": "L0npHA4Ks_fE",
        "outputId": "cd88eae6-5c89-4330-caca-d4aa18d8f3c3"
      },
      "execution_count": 11,
      "outputs": [
        {
          "output_type": "stream",
          "name": "stdout",
          "text": [
            "ML\n",
            "ML\n"
          ]
        }
      ]
    },
    {
      "cell_type": "markdown",
      "source": [
        "# .sub(pattern, repl, string, count)"
      ],
      "metadata": {
        "id": "sAgYRa_jtJm-"
      }
    },
    {
      "cell_type": "code",
      "source": [
        "result = re.sub(r'ML', 'ml', 'XML HTML Python', count = 1)\n",
        "print(result)"
      ],
      "metadata": {
        "colab": {
          "base_uri": "https://localhost:8080/"
        },
        "id": "idfjLvPVtNKb",
        "outputId": "9097d7c9-35ac-4bc6-b3e7-bf4666bdf76c"
      },
      "execution_count": 12,
      "outputs": [
        {
          "output_type": "stream",
          "name": "stdout",
          "text": [
            "Xml HTML Python\n"
          ]
        }
      ]
    }
  ]
}